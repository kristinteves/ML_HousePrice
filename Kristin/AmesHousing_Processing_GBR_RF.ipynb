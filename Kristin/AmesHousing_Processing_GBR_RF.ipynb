{
 "cells": [
  {
   "cell_type": "markdown",
   "metadata": {},
   "source": [
    "# House Prices: Advanced Regression Maching Learning Project\n",
    "Objective: Analyze the housing dataset to find key features that influence sale price and develop a machine learning model to predict the prices\n",
    "\n",
    "- <a href=\"#Packages\">Packages</a><br>\n",
    "- <a href=\"#Data Import and Set-Up\">Data Import and Set-Up</a><br>\n",
    "- <a href=\"#Missing Data\">Missing Data</a><br>\n",
    "- <a href=\"#Feature Engineering\">Feature Engineering</a><br>\n",
    "- <a href=\"#Feature Selection\">Feature Selection</a><br>\n",
    "- <a href=\"#Algorithm Selection\">Algorithm Selection</a><br>\n",
    "    - <a href=\"#Random Forest\">Random Forest</a><br>\n",
    "    - <a href=\"#Random Forest Prediction\">Random Forest Prediction</a><br>\n",
    "    - <a href=\"#Gradient Boosting\">Gradient Boosting</a><br>\n",
    "    - <a href=\"#GBR Prediction\">GBR Prediction</a><br>\n"
   ]
  },
  {
   "cell_type": "markdown",
   "metadata": {},
   "source": [
    "<p><a name=\"Packages\"></a></p>\n",
    "\n",
    "# Packages"
   ]
  },
  {
   "cell_type": "code",
   "execution_count": 117,
   "metadata": {},
   "outputs": [],
   "source": [
    "%matplotlib inline\n",
    "\n",
    "import pandas as pd\n",
    "import numpy as np\n",
    "import matplotlib.pyplot as plt\n",
    "import seaborn as sns\n",
    "import datetime\n",
    "from scipy import stats\n",
    "from sklearn.linear_model import LinearRegression\n",
    "from sklearn import preprocessing\n",
    "from sklearn.impute import SimpleImputer\n",
    "from sklearn.model_selection import train_test_split\n",
    "from sklearn.metrics import r2_score, mean_squared_error, accuracy_score\n",
    "from collections import OrderedDict\n",
    "L = LinearRegression(n_jobs=-1)\n",
    "from functools import reduce\n",
    "import sklearn\n",
    "import sklearn.ensemble\n",
    "from sklearn.ensemble import GradientBoostingClassifier, GradientBoostingRegressor\n",
    "from sklearn.model_selection import RandomizedSearchCV\n",
    "from sklearn.feature_selection import chi2, f_regression, f_classif, mutual_info_classif,\\\n",
    "mutual_info_regression \n",
    "from sklearn.feature_selection import SelectKBest, SelectFromModel, VarianceThreshold"
   ]
  },
  {
   "cell_type": "markdown",
   "metadata": {},
   "source": [
    "<p><a name=\"Data Import and Set-Up\"></a></p>\n",
    "\n",
    "# Data Import and Set-Up"
   ]
  },
  {
   "cell_type": "code",
   "execution_count": 2,
   "metadata": {},
   "outputs": [],
   "source": [
    "train = pd.read_csv('train.csv')\n",
    "test = pd.read_csv('test.csv')"
   ]
  },
  {
   "cell_type": "code",
   "execution_count": 112,
   "metadata": {},
   "outputs": [
    {
     "data": {
      "text/plain": [
       "(1444, 81)"
      ]
     },
     "execution_count": 112,
     "metadata": {},
     "output_type": "execute_result"
    }
   ],
   "source": [
    "train.shape"
   ]
  },
  {
   "cell_type": "markdown",
   "metadata": {},
   "source": [
    "## Drop Outliers\n",
    "\n",
    "Per F-Test, __GrLivArea__ is statistically significant. Therefore, I checked for any outliers and removed them\n",
    "* Accepted z-score with less than or equal to 3"
   ]
  },
  {
   "cell_type": "code",
   "execution_count": 99,
   "metadata": {},
   "outputs": [
    {
     "data": {
      "text/plain": [
       "Text(0.5, 1.0, 'GrLivArea Boxplot')"
      ]
     },
     "execution_count": 99,
     "metadata": {},
     "output_type": "execute_result"
    },
    {
     "data": {
      "image/png": "[encoded data removed]",
      "text/plain": [
       "<Figure size 432x288 with 1 Axes>"
      ]
     },
     "metadata": {
      "needs_background": "light"
     },
     "output_type": "display_data"
    }
   ],
   "source": [
    "sns.boxplot(x=train['GrLivArea']).set_title(\"GrLivArea Boxplot\")"
   ]
  },
  {
   "cell_type": "code",
   "execution_count": 4,
   "metadata": {},
   "outputs": [],
   "source": [
    "train = train.loc[abs(stats.zscore(train['GrLivArea']))<=3]"
   ]
  },
  {
   "cell_type": "markdown",
   "metadata": {},
   "source": [
    "## y value and Concat datasets"
   ]
  },
  {
   "cell_type": "code",
   "execution_count": 5,
   "metadata": {},
   "outputs": [],
   "source": [
    "y = train['SalePrice'].reset_index(drop=True)\n",
    "combine = pd.concat([train,test], axis=0, sort=False)"
   ]
  },
  {
   "cell_type": "code",
   "execution_count": 6,
   "metadata": {},
   "outputs": [
    {
     "data": {
      "text/plain": [
       "<matplotlib.axes._subplots.AxesSubplot at 0x7ffc3f706350>"
      ]
     },
     "execution_count": 6,
     "metadata": {},
     "output_type": "execute_result"
    },
    {
     "data": {
      "image/png": "[encoded data removed]",
      "text/plain": [
       "<Figure size 432x288 with 1 Axes>"
      ]
     },
     "metadata": {
      "needs_background": "light"
     },
     "output_type": "display_data"
    }
   ],
   "source": [
    "sns.boxplot(x=y)"
   ]
  },
  {
   "cell_type": "markdown",
   "metadata": {},
   "source": [
    "<p><a name=\"Missing Data\"></a></p>\n",
    "\n",
    "# Missing Data\n",
    "\n",
    "Identify missing data and decide whether to delete or impute"
   ]
  },
  {
   "cell_type": "code",
   "execution_count": 7,
   "metadata": {},
   "outputs": [],
   "source": [
    "missing = dict(combine.isnull().sum().sort_values(ascending=False)[:20])"
   ]
  },
  {
   "cell_type": "code",
   "execution_count": 8,
   "metadata": {},
   "outputs": [
    {
     "name": "stdout",
     "output_type": "stream",
     "text": [
      "PoolQC 0.9975887013434378\n",
      "MiscFeature 0.9638305201515673\n",
      "Alley 0.9321391663796073\n",
      "Fence 0.8046848088184636\n",
      "SalePrice 0.502583534274888\n",
      "FireplaceQu 0.48880468480881845\n",
      "LotFrontage 0.16672407853944196\n",
      "GarageQual 0.054426455390974855\n",
      "GarageYrBlt 0.054426455390974855\n",
      "GarageFinish 0.054426455390974855\n",
      "GarageCond 0.054426455390974855\n",
      "GarageType 0.05373751291767138\n",
      "BsmtExposure 0.028246641405442644\n",
      "BsmtCond 0.028246641405442644\n",
      "BsmtQual 0.027902170168790905\n",
      "BsmtFinType2 0.027557698932139166\n",
      "BsmtFinType1 0.027213227695487428\n",
      "MasVnrType 0.00826730967964175\n",
      "MasVnrArea 0.00792283844299001\n",
      "MSZoning 0.0013778849466069584\n"
     ]
    }
   ],
   "source": [
    "for key, value in missing.items():\n",
    "        missing_num = value/len(combine)\n",
    "        print(key, missing_num)"
   ]
  },
  {
   "cell_type": "markdown",
   "metadata": {},
   "source": [
    "## Delete Missing Data"
   ]
  },
  {
   "cell_type": "code",
   "execution_count": 9,
   "metadata": {},
   "outputs": [],
   "source": [
    "def delete_missing(df):\n",
    "    '''\n",
    "    Delete columns with more than 80% missing values\n",
    "    '''\n",
    "    for key, value in missing.items():\n",
    "        missing_num = value/len(combine)\n",
    "        if key != 'SalePrice' and missing_num >= 0.8:\n",
    "            del df[key]"
   ]
  },
  {
   "cell_type": "code",
   "execution_count": 10,
   "metadata": {},
   "outputs": [],
   "source": [
    "delete_missing(combine)"
   ]
  },
  {
   "cell_type": "code",
   "execution_count": 11,
   "metadata": {},
   "outputs": [],
   "source": [
    "# Because 'MiscFeature' has many null values, also will delete 'MiscVal'\n",
    "del combine['MiscVal']"
   ]
  },
  {
   "cell_type": "markdown",
   "metadata": {},
   "source": [
    "## Impute Missing Data"
   ]
  },
  {
   "cell_type": "code",
   "execution_count": 12,
   "metadata": {},
   "outputs": [
    {
     "data": {
      "text/plain": [
       "SalePrice       1459\n",
       "FireplaceQu     1419\n",
       "LotFrontage      484\n",
       "GarageCond       158\n",
       "GarageYrBlt      158\n",
       "GarageFinish     158\n",
       "GarageQual       158\n",
       "GarageType       156\n",
       "BsmtCond          82\n",
       "BsmtExposure      82\n",
       "BsmtQual          81\n",
       "BsmtFinType2      80\n",
       "BsmtFinType1      79\n",
       "MasVnrType        24\n",
       "MasVnrArea        23\n",
       "MSZoning           4\n",
       "Functional         2\n",
       "BsmtFullBath       2\n",
       "Utilities          2\n",
       "BsmtHalfBath       2\n",
       "BsmtFinSF1         1\n",
       "Exterior2nd        1\n",
       "BsmtFinSF2         1\n",
       "BsmtUnfSF          1\n",
       "Electrical         1\n",
       "Exterior1st        1\n",
       "TotalBsmtSF        1\n",
       "SaleType           1\n",
       "GarageArea         1\n",
       "KitchenQual        1\n",
       "dtype: int64"
      ]
     },
     "execution_count": 12,
     "metadata": {},
     "output_type": "execute_result"
    }
   ],
   "source": [
    "combine.isnull().sum().sort_values(ascending=False)[:30]"
   ]
  },
  {
   "cell_type": "code",
   "execution_count": 13,
   "metadata": {},
   "outputs": [],
   "source": [
    "def fill_none_missing(df,features):\n",
    "    '''\n",
    "    Impute NaN with 'None'\n",
    "    '''\n",
    "    for feature in features:\n",
    "        df[feature] = df[feature].fillna('None')\n",
    "    return df\n",
    "\n",
    "def fill_zero_missing(df,features):\n",
    "    '''\n",
    "    Impute NaN with 0\n",
    "    '''\n",
    "    for feature in features:\n",
    "        df[feature] = df[feature].fillna(0)\n",
    "    return df\n",
    "\n",
    "def fill_mode_missing(df):\n",
    "    '''\n",
    "    Impute select NaN features with mode value\n",
    "    '''\n",
    "    df['LotFrontage'] = df['LotFrontage'].fillna(float(df['LotFrontage'].mode())) # impute with mode instaed of median\n",
    "    df['MSZoning'] = df['MSZoning'].fillna('RL')\n",
    "    df['Utilities'] = df['Utilities'].fillna('AllPub')\n",
    "    df['Functional'] = df['Functional'].fillna('Typ')\n",
    "    df['Electrical'] = df['Electrical'].fillna('SBrkr')\n",
    "    df['Exterior2nd'] = df['Exterior2nd'].fillna('VinylSd')\n",
    "    df['Exterior1st'] = df['Exterior1st'].fillna('VinylSd')\n",
    "    df['SaleType'] = df['SaleType'].fillna('WD')\n",
    "    df['KitchenQual'] = df['KitchenQual'].fillna('TA')\n",
    "    return df"
   ]
  },
  {
   "cell_type": "code",
   "execution_count": 14,
   "metadata": {},
   "outputs": [
    {
     "data": {
      "text/plain": [
       "(2903, 76)"
      ]
     },
     "execution_count": 14,
     "metadata": {},
     "output_type": "execute_result"
    }
   ],
   "source": [
    "none_features = ['GarageQual','GarageYrBlt','GarageFinish','GarageCond','GarageType','FireplaceQu','BsmtCond','BsmtExposure','BsmtQual','BsmtFinType2','BsmtFinType1',\n",
    "                'MasVnrType','MasVnrArea','GarageCars','GarageArea'] # added this last\n",
    "zero_features = ['BsmtFullBath','BsmtHalfBath','BsmtUnfSF','BsmtFinSF1','BsmtFinSF2','TotalBsmtSF']\n",
    "\n",
    "\n",
    "combine = fill_none_missing(combine,none_features)\n",
    "combine = fill_zero_missing(combine,zero_features)\n",
    "combine = fill_mode_missing(combine)\n",
    "combine.shape"
   ]
  },
  {
   "cell_type": "markdown",
   "metadata": {},
   "source": [
    "<p><a name=\"Feature Engineering\"></a></p>\n",
    "\n",
    "# Feature Engineering"
   ]
  },
  {
   "cell_type": "markdown",
   "metadata": {},
   "source": [
    "## Numeric"
   ]
  },
  {
   "cell_type": "code",
   "execution_count": 15,
   "metadata": {},
   "outputs": [
    {
     "name": "stdout",
     "output_type": "stream",
     "text": [
      "<class 'pandas.core.frame.DataFrame'>\n",
      "Int64Index: 2903 entries, 0 to 1458\n",
      "Data columns (total 33 columns):\n",
      "Id               2903 non-null int64\n",
      "MSSubClass       2903 non-null int64\n",
      "LotFrontage      2903 non-null float64\n",
      "LotArea          2903 non-null int64\n",
      "OverallQual      2903 non-null int64\n",
      "OverallCond      2903 non-null int64\n",
      "YearBuilt        2903 non-null int64\n",
      "YearRemodAdd     2903 non-null int64\n",
      "BsmtFinSF1       2903 non-null float64\n",
      "BsmtFinSF2       2903 non-null float64\n",
      "BsmtUnfSF        2903 non-null float64\n",
      "TotalBsmtSF      2903 non-null float64\n",
      "1stFlrSF         2903 non-null int64\n",
      "2ndFlrSF         2903 non-null int64\n",
      "LowQualFinSF     2903 non-null int64\n",
      "GrLivArea        2903 non-null int64\n",
      "BsmtFullBath     2903 non-null float64\n",
      "BsmtHalfBath     2903 non-null float64\n",
      "FullBath         2903 non-null int64\n",
      "HalfBath         2903 non-null int64\n",
      "BedroomAbvGr     2903 non-null int64\n",
      "KitchenAbvGr     2903 non-null int64\n",
      "TotRmsAbvGrd     2903 non-null int64\n",
      "Fireplaces       2903 non-null int64\n",
      "WoodDeckSF       2903 non-null int64\n",
      "OpenPorchSF      2903 non-null int64\n",
      "EnclosedPorch    2903 non-null int64\n",
      "3SsnPorch        2903 non-null int64\n",
      "ScreenPorch      2903 non-null int64\n",
      "PoolArea         2903 non-null int64\n",
      "MoSold           2903 non-null int64\n",
      "YrSold           2903 non-null int64\n",
      "SalePrice        1444 non-null float64\n",
      "dtypes: float64(8), int64(25)\n",
      "memory usage: 771.1 KB\n"
     ]
    }
   ],
   "source": [
    "combine.select_dtypes(include='number').info()"
   ]
  },
  {
   "cell_type": "markdown",
   "metadata": {},
   "source": [
    "### Consolidate the following features:\n",
    "* Combined BsmtFullBath, BsmtHalfBath, FullBath, HalfBath to yield TotalBaths\n",
    "    * Multiplied half baths by 0.5\n",
    "* All PorchSF types to retrieve PorchSF\n",
    "    * WoodDeckSF, OpenPorchSF, EnclosedPorch, 3SsnPorch, ScreenPorch\n",
    "* TotalBsmtSF, 1stFlrSF, and 2ndFlrSF to yield TotalSF\n",
    "\n",
    "### Convert the following feature:\n",
    "* Convert MSSubClass to string type since the numerical values identify the type of dwelling involved in sale"
   ]
  },
  {
   "cell_type": "code",
   "execution_count": 16,
   "metadata": {},
   "outputs": [],
   "source": [
    "def consolidate(df):\n",
    "    ''' \n",
    "    Consolidate features into one to capture TotalBaths, TotalSF, and PorchSF\n",
    "    Convert MSSubClass to a string type\n",
    "    Drop features that were combined\n",
    "    '''\n",
    "    df['TotalBaths'] = df['FullBath'] + df['HalfBath'].apply(lambda x : x * 0.5) + df['BsmtFullBath'] + df['BsmtHalfBath'].apply(lambda x: x * 0.5)\n",
    "    df['PorchSF'] = df['WoodDeckSF'] + df['OpenPorchSF'] + df['EnclosedPorch'] + df['3SsnPorch'] + df['ScreenPorch']\n",
    "    df['MSSubClass'] = df['MSSubClass'].astype(str)\n",
    "    df['TotalSF'] = df['TotalBsmtSF'] + df['1stFlrSF'] + df['2ndFlrSF']\n",
    "    df = df.drop(['Id','BsmtFullBath','BsmtHalfBath','FullBath','HalfBath','WoodDeckSF','OpenPorchSF','EnclosedPorch','3SsnPorch','ScreenPorch',\n",
    "                 'TotalBsmtSF','1stFlrSF','2ndFlrSF'], axis = 1)\n",
    "    \n",
    "    return df"
   ]
  },
  {
   "cell_type": "code",
   "execution_count": 17,
   "metadata": {},
   "outputs": [],
   "source": [
    "combine = consolidate(combine)"
   ]
  },
  {
   "cell_type": "code",
   "execution_count": 18,
   "metadata": {},
   "outputs": [
    {
     "name": "stdout",
     "output_type": "stream",
     "text": [
      "<class 'pandas.core.frame.DataFrame'>\n",
      "Int64Index: 2903 entries, 0 to 1458\n",
      "Data columns (total 22 columns):\n",
      "LotFrontage     2903 non-null float64\n",
      "LotArea         2903 non-null int64\n",
      "OverallQual     2903 non-null int64\n",
      "OverallCond     2903 non-null int64\n",
      "YearBuilt       2903 non-null int64\n",
      "YearRemodAdd    2903 non-null int64\n",
      "BsmtFinSF1      2903 non-null float64\n",
      "BsmtFinSF2      2903 non-null float64\n",
      "BsmtUnfSF       2903 non-null float64\n",
      "LowQualFinSF    2903 non-null int64\n",
      "GrLivArea       2903 non-null int64\n",
      "BedroomAbvGr    2903 non-null int64\n",
      "KitchenAbvGr    2903 non-null int64\n",
      "TotRmsAbvGrd    2903 non-null int64\n",
      "Fireplaces      2903 non-null int64\n",
      "PoolArea        2903 non-null int64\n",
      "MoSold          2903 non-null int64\n",
      "YrSold          2903 non-null int64\n",
      "SalePrice       1444 non-null float64\n",
      "TotalBaths      2903 non-null float64\n",
      "PorchSF         2903 non-null int64\n",
      "TotalSF         2903 non-null float64\n",
      "dtypes: float64(7), int64(15)\n",
      "memory usage: 521.6 KB\n"
     ]
    }
   ],
   "source": [
    "combine.select_dtypes(include='number').info()"
   ]
  },
  {
   "cell_type": "code",
   "execution_count": 19,
   "metadata": {},
   "outputs": [],
   "source": [
    "# combine['LotArea'] = np.log(combine['LotArea'])\n",
    "# combine['SalePrice'] = np.log(combine['SalePrice'])"
   ]
  },
  {
   "cell_type": "markdown",
   "metadata": {},
   "source": [
    "## String"
   ]
  },
  {
   "cell_type": "code",
   "execution_count": 20,
   "metadata": {},
   "outputs": [],
   "source": [
    "string_columns = combine.select_dtypes(exclude='number').columns"
   ]
  },
  {
   "cell_type": "code",
   "execution_count": 21,
   "metadata": {},
   "outputs": [
    {
     "name": "stdout",
     "output_type": "stream",
     "text": [
      "['60' '20' '70' '50' '190' '45' '90' '120' '30' '85' '80' '160' '75' '180'\n",
      " '40' '150']\n",
      "['RL' 'RM' 'C (all)' 'FV' 'RH']\n",
      "['Pave' 'Grvl']\n",
      "['Reg' 'IR1' 'IR2' 'IR3']\n",
      "['Lvl' 'Bnk' 'Low' 'HLS']\n",
      "['AllPub' 'NoSeWa']\n",
      "['Inside' 'FR2' 'Corner' 'CulDSac' 'FR3']\n",
      "['Gtl' 'Mod' 'Sev']\n",
      "['CollgCr' 'Veenker' 'Crawfor' 'NoRidge' 'Mitchel' 'Somerst' 'NWAmes'\n",
      " 'OldTown' 'BrkSide' 'Sawyer' 'NridgHt' 'NAmes' 'SawyerW' 'IDOTRR'\n",
      " 'MeadowV' 'Edwards' 'Timber' 'Gilbert' 'StoneBr' 'ClearCr' 'NPkVill'\n",
      " 'Blmngtn' 'BrDale' 'SWISU' 'Blueste']\n",
      "['Norm' 'Feedr' 'PosN' 'Artery' 'RRAe' 'RRNn' 'RRAn' 'PosA' 'RRNe']\n",
      "['Norm' 'Artery' 'RRNn' 'Feedr' 'PosA' 'PosN' 'RRAn' 'RRAe']\n",
      "['1Fam' '2fmCon' 'Duplex' 'TwnhsE' 'Twnhs']\n",
      "['2Story' '1Story' '1.5Fin' '1.5Unf' 'SFoyer' 'SLvl' '2.5Unf' '2.5Fin']\n",
      "['Gable' 'Hip' 'Gambrel' 'Mansard' 'Flat' 'Shed']\n",
      "['CompShg' 'WdShngl' 'Metal' 'WdShake' 'Membran' 'Tar&Grv' 'Roll']\n",
      "['VinylSd' 'MetalSd' 'Wd Sdng' 'HdBoard' 'BrkFace' 'WdShing' 'CemntBd'\n",
      " 'Plywood' 'AsbShng' 'Stucco' 'BrkComm' 'AsphShn' 'Stone' 'ImStucc'\n",
      " 'CBlock']\n",
      "['VinylSd' 'MetalSd' 'Wd Shng' 'HdBoard' 'Plywood' 'Wd Sdng' 'CmentBd'\n",
      " 'BrkFace' 'Stucco' 'AsbShng' 'Brk Cmn' 'ImStucc' 'AsphShn' 'Stone'\n",
      " 'Other' 'CBlock']\n",
      "['BrkFace' 'None' 'Stone' 'BrkCmn']\n",
      "[196.0 0.0 162.0 350.0 186.0 240.0 286.0 306.0 212.0 180.0 380.0 281.0\n",
      " 640.0 200.0 246.0 132.0 650.0 101.0 412.0 272.0 456.0 1031.0 178.0 573.0\n",
      " 344.0 287.0 167.0 1115.0 40.0 104.0 576.0 443.0 468.0 66.0 22.0 284.0\n",
      " 76.0 203.0 68.0 183.0 48.0 28.0 336.0 600.0 768.0 480.0 220.0 184.0\n",
      " 1129.0 116.0 135.0 266.0 85.0 309.0 136.0 288.0 70.0 320.0 50.0 120.0\n",
      " 436.0 252.0 84.0 664.0 226.0 300.0 653.0 112.0 491.0 268.0 748.0 98.0\n",
      " 275.0 138.0 205.0 262.0 128.0 260.0 153.0 64.0 312.0 16.0 922.0 142.0\n",
      " 290.0 127.0 506.0 297.0 'None' 604.0 254.0 36.0 102.0 472.0 481.0 108.0\n",
      " 302.0 172.0 399.0 270.0 46.0 210.0 174.0 348.0 315.0 299.0 340.0 166.0\n",
      " 72.0 31.0 34.0 238.0 1600.0 365.0 56.0 150.0 278.0 256.0 225.0 370.0\n",
      " 388.0 175.0 296.0 146.0 113.0 176.0 616.0 30.0 106.0 870.0 362.0 530.0\n",
      " 500.0 510.0 247.0 305.0 255.0 125.0 100.0 432.0 126.0 473.0 74.0 145.0\n",
      " 232.0 376.0 42.0 161.0 110.0 18.0 224.0 248.0 80.0 304.0 215.0 772.0\n",
      " 435.0 378.0 562.0 168.0 89.0 285.0 360.0 94.0 333.0 921.0 594.0 219.0\n",
      " 188.0 479.0 584.0 182.0 250.0 292.0 245.0 207.0 82.0 97.0 335.0 208.0\n",
      " 420.0 170.0 459.0 280.0 99.0 192.0 204.0 233.0 156.0 452.0 513.0 261.0\n",
      " 164.0 259.0 209.0 263.0 216.0 351.0 660.0 381.0 54.0 528.0 258.0 464.0\n",
      " 57.0 147.0 293.0 630.0 466.0 109.0 41.0 160.0 289.0 651.0 169.0 95.0\n",
      " 442.0 202.0 338.0 894.0 328.0 673.0 1.0 375.0 90.0 38.0 157.0 11.0 140.0\n",
      " 130.0 148.0 424.0 1047.0 243.0 816.0 387.0 223.0 158.0 137.0 115.0 189.0\n",
      " 274.0 117.0 60.0 122.0 92.0 415.0 760.0 27.0 75.0 361.0 105.0 342.0 298.0\n",
      " 541.0 236.0 144.0 423.0 44.0 151.0 975.0 450.0 230.0 571.0 24.0 53.0\n",
      " 206.0 14.0 324.0 295.0 396.0 67.0 154.0 425.0 45.0 337.0 149.0 143.0 51.0\n",
      " 171.0 234.0 63.0 766.0 32.0 81.0 163.0 554.0 218.0 114.0 567.0 359.0\n",
      " 451.0 621.0 788.0 86.0 391.0 228.0 88.0 165.0 428.0 410.0 564.0 368.0\n",
      " 318.0 65.0 705.0 408.0 244.0 123.0 366.0 731.0 448.0 294.0 310.0 237.0\n",
      " 426.0 96.0 438.0 194.0 119.0 20.0 504.0 492.0 615.0 1095.0 1159.0 265.0\n",
      " 91.0 771.0 47.0 177.0 371.0 430.0 440.0 229.0 726.0 418.0 724.0 383.0\n",
      " 730.0 470.0 308.0 634.0 372.0 198.0 121.0 264.0 141.0 283.0 509.0 217.0\n",
      " 3.0 657.0 124.0 444.0 23.0 242.0 364.0 352.0 406.0 402.0 422.0 356.0\n",
      " 680.0 1110.0 221.0 714.0 647.0 1290.0 495.0 568.0 179.0 1050.0 187.0 52.0\n",
      " 276.0 39.0 190.0 251.0 227.0 134.0 222.0 58.0 668.0 674.0 197.0 710.0\n",
      " 945.0 549.0 253.0 400.0 970.0 502.0 394.0 235.0 515.0 526.0 754.0 353.0\n",
      " 525.0 87.0 291.0 69.0 279.0 323.0 214.0 519.0 1224.0 652.0 886.0 902.0\n",
      " 434.0 662.0 734.0 550.0 514.0 385.0 518.0 572.0 322.0 877.0 397.0 738.0\n",
      " 501.0 118.0 692.0 332.0 632.0 522.0 379.0 532.0 62.0 199.0 355.0 405.0\n",
      " 327.0 257.0 382.0]\n",
      "['Gd' 'TA' 'Ex' 'Fa']\n",
      "['TA' 'Gd' 'Fa' 'Po' 'Ex']\n",
      "['PConc' 'CBlock' 'BrkTil' 'Wood' 'Slab' 'Stone']\n",
      "['Gd' 'TA' 'Ex' 'None' 'Fa']\n",
      "['TA' 'Gd' 'None' 'Fa' 'Po']\n",
      "['No' 'Gd' 'Mn' 'Av' 'None']\n",
      "['GLQ' 'ALQ' 'Unf' 'Rec' 'BLQ' 'None' 'LwQ']\n",
      "['Unf' 'BLQ' 'None' 'ALQ' 'Rec' 'LwQ' 'GLQ']\n",
      "['GasA' 'GasW' 'Grav' 'Wall' 'OthW' 'Floor']\n",
      "['Ex' 'Gd' 'TA' 'Fa' 'Po']\n",
      "['Y' 'N']\n",
      "['SBrkr' 'FuseF' 'FuseA' 'FuseP' 'Mix']\n",
      "['Gd' 'TA' 'Ex' 'Fa']\n",
      "['Typ' 'Min1' 'Maj1' 'Min2' 'Mod' 'Maj2' 'Sev']\n",
      "['None' 'TA' 'Gd' 'Fa' 'Ex' 'Po']\n",
      "['Attchd' 'Detchd' 'BuiltIn' 'CarPort' 'None' 'Basment' '2Types']\n",
      "[2003.0 1976.0 2001.0 1998.0 2000.0 1993.0 2004.0 1973.0 1931.0 1939.0\n",
      " 1965.0 2005.0 1962.0 2006.0 1960.0 1991.0 1970.0 1967.0 1958.0 1930.0\n",
      " 2002.0 1968.0 2007.0 2008.0 1957.0 1920.0 1966.0 1959.0 1995.0 1954.0\n",
      " 1953.0 'None' 1983.0 1977.0 1997.0 1985.0 1963.0 1981.0 1964.0 1999.0\n",
      " 1935.0 1990.0 1945.0 1987.0 1989.0 1915.0 1956.0 1948.0 1974.0 2009.0\n",
      " 1950.0 1961.0 1921.0 1900.0 1979.0 1951.0 1969.0 1936.0 1975.0 1971.0\n",
      " 1923.0 1984.0 1926.0 1955.0 1986.0 1988.0 1916.0 1932.0 1972.0 1980.0\n",
      " 1924.0 1996.0 1940.0 1949.0 1994.0 1910.0 1978.0 1982.0 1992.0 1925.0\n",
      " 1941.0 2010.0 1927.0 1918.0 1947.0 1937.0 1942.0 1938.0 1952.0 1928.0\n",
      " 1922.0 1906.0 1914.0 1946.0 1934.0 1908.0 1929.0 1933.0 1917.0 1896.0\n",
      " 1895.0 2207.0 1943.0 1919.0]\n",
      "['RFn' 'Unf' 'Fin' 'None']\n",
      "[2.0 3.0 1.0 0.0 4.0 5.0 'None']\n",
      "[548.0 460.0 608.0 642.0 836.0 480.0 636.0 484.0 468.0 205.0 384.0 736.0\n",
      " 352.0 840.0 576.0 516.0 294.0 853.0 280.0 534.0 572.0 270.0 890.0 772.0\n",
      " 319.0 240.0 250.0 271.0 447.0 556.0 691.0 672.0 498.0 246.0 0.0 440.0\n",
      " 308.0 504.0 300.0 670.0 826.0 386.0 388.0 528.0 894.0 565.0 641.0 288.0\n",
      " 645.0 852.0 558.0 220.0 667.0 360.0 427.0 490.0 379.0 297.0 283.0 509.0\n",
      " 405.0 758.0 461.0 400.0 462.0 420.0 432.0 506.0 684.0 472.0 366.0 476.0\n",
      " 410.0 740.0 648.0 273.0 546.0 325.0 792.0 450.0 180.0 430.0 390.0 540.0\n",
      " 264.0 530.0 435.0 453.0 750.0 487.0 624.0 471.0 318.0 766.0 660.0 470.0\n",
      " 720.0 577.0 380.0 434.0 866.0 495.0 564.0 312.0 625.0 680.0 678.0 726.0\n",
      " 532.0 216.0 303.0 789.0 511.0 616.0 521.0 451.0 1166.0 252.0 497.0 682.0\n",
      " 666.0 786.0 856.0 473.0 398.0 500.0 349.0 454.0 644.0 299.0 210.0 431.0\n",
      " 438.0 675.0 968.0 721.0 336.0 810.0 494.0 457.0 818.0 463.0 604.0 389.0\n",
      " 538.0 520.0 309.0 429.0 673.0 884.0 868.0 492.0 413.0 924.0 1053.0 439.0\n",
      " 671.0 338.0 573.0 732.0 505.0 575.0 626.0 898.0 529.0 685.0 281.0 539.0\n",
      " 418.0 588.0 282.0 375.0 683.0 843.0 552.0 888.0 746.0 708.0 513.0 1025.0\n",
      " 656.0 872.0 292.0 441.0 189.0 880.0 676.0 301.0 474.0 706.0 617.0 445.0\n",
      " 200.0 592.0 566.0 514.0 296.0 244.0 610.0 834.0 639.0 501.0 846.0 560.0\n",
      " 596.0 600.0 373.0 947.0 350.0 396.0 864.0 304.0 784.0 696.0 569.0 628.0\n",
      " 550.0 493.0 578.0 198.0 422.0 228.0 526.0 525.0 908.0 499.0 508.0 694.0\n",
      " 874.0 164.0 402.0 515.0 286.0 603.0 900.0 583.0 889.0 858.0 502.0 392.0\n",
      " 403.0 527.0 765.0 367.0 426.0 615.0 871.0 570.0 406.0 590.0 612.0 650.0\n",
      " 1390.0 275.0 452.0 842.0 816.0 621.0 544.0 486.0 230.0 261.0 531.0 393.0\n",
      " 774.0 749.0 364.0 627.0 260.0 256.0 478.0 442.0 562.0 512.0 839.0 330.0\n",
      " 711.0 1134.0 416.0 779.0 702.0 567.0 326.0 551.0 606.0 739.0 408.0 475.0\n",
      " 704.0 983.0 768.0 632.0 541.0 320.0 800.0 831.0 554.0 878.0 752.0 614.0\n",
      " 481.0 496.0 423.0 895.0 412.0 865.0 630.0 605.0 602.0 618.0 444.0 397.0\n",
      " 455.0 409.0 1020.0 598.0 857.0 595.0 433.0 776.0 1220.0 458.0 613.0 456.0\n",
      " 436.0 812.0 686.0 611.0 425.0 343.0 479.0 619.0 902.0 870.0 574.0 523.0\n",
      " 414.0 738.0 354.0 483.0 327.0 820.0 756.0 690.0 284.0 833.0 601.0 533.0\n",
      " 522.0 788.0 555.0 689.0 796.0 808.0 510.0 255.0 424.0 305.0 368.0 824.0\n",
      " 328.0 160.0 437.0 665.0 290.0 912.0 905.0 542.0 716.0 586.0 467.0 582.0\n",
      " 1248.0 1043.0 254.0 712.0 719.0 862.0 928.0 782.0 466.0 714.0 1052.0\n",
      " 225.0 234.0 324.0 306.0 830.0 358.0 186.0 693.0 482.0 995.0 757.0 1356.0\n",
      " 459.0 701.0 322.0 315.0 668.0 404.0 543.0 954.0 850.0 477.0 276.0 518.0\n",
      " 753.0 213.0 844.0 860.0 748.0 248.0 287.0 825.0 647.0 342.0 770.0 663.0\n",
      " 377.0 804.0 936.0 722.0 208.0 662.0 754.0 622.0 620.0 370.0 1069.0 372.0\n",
      " 923.0 192.0 730.0 751.0 958.0 962.0 762.0 713.0 535.0 517.0 263.0 780.0\n",
      " 363.0 365.0 231.0 591.0 209.0 1017.0 580.0 399.0 741.0 253.0 581.0 345.0\n",
      " 896.0 932.0 640.0 927.0 700.0 886.0 949.0 649.0 394.0 658.0 815.0 623.0\n",
      " 972.0 795.0 984.0 692.0 845.0 559.0 465.0 524.0 561.0 549.0 907.0 162.0\n",
      " 357.0 207.0 1184.0 316.0 226.0 340.0 266.0 1138.0 904.0 1231.0 195.0\n",
      " 313.0 215.0 307.0 295.0 351.0 885.0 920.0 698.0 557.0 489.0 1314.0 787.0\n",
      " 1150.0 1003.0 944.0 428.0 687.0 938.0 783.0 851.0 545.0 469.0 464.0 267.0\n",
      " 1488.0 401.0 311.0 828.0 869.0 355.0 249.0 1348.0 811.0 725.0 715.0 814.0\n",
      " 369.0 599.0 344.0 356.0 185.0 892.0 257.0 729.0 1110.0 724.0 585.0 488.0\n",
      " 1040.0 1174.0 728.0 916.0 876.0 631.0 925.0 806.0 933.0 1092.0 859.0\n",
      " 594.0 744.0 1105.0 310.0 293.0 371.0 1200.0 184.0 374.0 331.0 224.0 217.0\n",
      " 323.0 638.0 332.0 674.0 747.0 242.0 597.0 579.0 1154.0 'None' 100.0 571.0\n",
      " 1041.0 963.0 443.0 773.0 485.0 1085.0 899.0 959.0 803.0 760.0 584.0 449.0\n",
      " 688.0 568.0 353.0 791.0 1008.0 378.0 258.0 848.0 317.0 646.0 265.0 609.0\n",
      " 272.0]\n",
      "['TA' 'Fa' 'Gd' 'None' 'Po' 'Ex']\n",
      "['TA' 'Fa' 'None' 'Gd' 'Po' 'Ex']\n",
      "['Y' 'N' 'P']\n",
      "['WD' 'New' 'COD' 'ConLD' 'ConLI' 'CWD' 'ConLw' 'Con' 'Oth']\n",
      "['Normal' 'Abnorml' 'Partial' 'AdjLand' 'Alloca' 'Family']\n"
     ]
    }
   ],
   "source": [
    "for i in string_columns:\n",
    "    print(combine[i].unique())"
   ]
  },
  {
   "cell_type": "code",
   "execution_count": 22,
   "metadata": {},
   "outputs": [],
   "source": [
    "def convert_qual(df, columns):\n",
    "    '''\n",
    "    Convert quality and conditions string values to ordinal numerical values\n",
    "    '''\n",
    "    for i in columns:\n",
    "        df[i][df[i] == 'None'] = 0\n",
    "        df[i][df[i] == 'Po'] = 1\n",
    "        df[i][df[i] == 'Fa'] = 2\n",
    "        df[i][df[i] == 'TA'] = 3\n",
    "        df[i][df[i] == 'Gd'] = 4\n",
    "        df[i][df[i] == 'Ex'] = 5\n",
    "        df[i] = df[i].astype('float64')\n",
    "    return df"
   ]
  },
  {
   "cell_type": "code",
   "execution_count": 23,
   "metadata": {},
   "outputs": [
    {
     "name": "stderr",
     "output_type": "stream",
     "text": [
      "/Users/thisbekristin/opt/anaconda3/lib/python3.7/site-packages/ipykernel_launcher.py:6: SettingWithCopyWarning: \n",
      "A value is trying to be set on a copy of a slice from a DataFrame\n",
      "\n",
      "See the caveats in the documentation: http://pandas.pydata.org/pandas-docs/stable/user_guide/indexing.html#returning-a-view-versus-a-copy\n",
      "  \n",
      "/Users/thisbekristin/opt/anaconda3/lib/python3.7/site-packages/ipykernel_launcher.py:7: SettingWithCopyWarning: \n",
      "A value is trying to be set on a copy of a slice from a DataFrame\n",
      "\n",
      "See the caveats in the documentation: http://pandas.pydata.org/pandas-docs/stable/user_guide/indexing.html#returning-a-view-versus-a-copy\n",
      "  import sys\n",
      "/Users/thisbekristin/opt/anaconda3/lib/python3.7/site-packages/ipykernel_launcher.py:8: SettingWithCopyWarning: \n",
      "A value is trying to be set on a copy of a slice from a DataFrame\n",
      "\n",
      "See the caveats in the documentation: http://pandas.pydata.org/pandas-docs/stable/user_guide/indexing.html#returning-a-view-versus-a-copy\n",
      "  \n",
      "/Users/thisbekristin/opt/anaconda3/lib/python3.7/site-packages/ipykernel_launcher.py:9: SettingWithCopyWarning: \n",
      "A value is trying to be set on a copy of a slice from a DataFrame\n",
      "\n",
      "See the caveats in the documentation: http://pandas.pydata.org/pandas-docs/stable/user_guide/indexing.html#returning-a-view-versus-a-copy\n",
      "  if __name__ == '__main__':\n",
      "/Users/thisbekristin/opt/anaconda3/lib/python3.7/site-packages/ipykernel_launcher.py:10: SettingWithCopyWarning: \n",
      "A value is trying to be set on a copy of a slice from a DataFrame\n",
      "\n",
      "See the caveats in the documentation: http://pandas.pydata.org/pandas-docs/stable/user_guide/indexing.html#returning-a-view-versus-a-copy\n",
      "  # Remove the CWD from sys.path while we load stuff.\n",
      "/Users/thisbekristin/opt/anaconda3/lib/python3.7/site-packages/ipykernel_launcher.py:11: SettingWithCopyWarning: \n",
      "A value is trying to be set on a copy of a slice from a DataFrame\n",
      "\n",
      "See the caveats in the documentation: http://pandas.pydata.org/pandas-docs/stable/user_guide/indexing.html#returning-a-view-versus-a-copy\n",
      "  # This is added back by InteractiveShellApp.init_path()\n"
     ]
    }
   ],
   "source": [
    "combine = convert_qual(combine, ['ExterQual','ExterCond','BsmtQual','BsmtCond','HeatingQC','KitchenQual',\n",
    "                            'GarageQual','GarageCond'])"
   ]
  },
  {
   "cell_type": "code",
   "execution_count": 24,
   "metadata": {},
   "outputs": [],
   "source": [
    "def convert_misc_qual(tr):\n",
    "    '''\n",
    "    Convert other misc. ordinal categorical variables to numeric ordinal variables and conver to float\n",
    "    '''\n",
    "    tr.LotShape[tr['LotShape']=='IR3'] = 1\n",
    "    tr.LotShape[tr['LotShape']=='IR2'] = 2\n",
    "    tr.LotShape[tr['LotShape']=='IR1'] = 3\n",
    "    tr.LotShape[tr['LotShape']=='Reg'] = 4\n",
    "    tr.LotShape = tr.LotShape.astype('float64')\n",
    "    tr.BsmtExposure[tr['BsmtExposure']=='None'] = 0\n",
    "    tr.BsmtExposure[tr['BsmtExposure']=='No'] = 1\n",
    "    tr.BsmtExposure[tr['BsmtExposure']=='Mn'] = 2\n",
    "    tr.BsmtExposure[tr['BsmtExposure']=='Av'] = 3\n",
    "    tr.BsmtExposure[tr['BsmtExposure']=='Gd'] = 4\n",
    "    tr.BsmtExposure = tr.BsmtExposure.astype('float64')\n",
    "    tr.BsmtFinType1[tr['BsmtFinType1']=='None'] = 0\n",
    "    tr.BsmtFinType1[tr['BsmtFinType1']=='Unf'] = 1\n",
    "    tr.BsmtFinType1[tr['BsmtFinType1']=='LwQ'] = 2\n",
    "    tr.BsmtFinType1[tr['BsmtFinType1']=='Rec'] = 3\n",
    "    tr.BsmtFinType1[tr['BsmtFinType1']=='BLQ'] = 4\n",
    "    tr.BsmtFinType1[tr['BsmtFinType1']=='ALQ'] = 5\n",
    "    tr.BsmtFinType1[tr['BsmtFinType1']=='GLQ'] = 6\n",
    "    tr.BsmtFinType1 = tr.BsmtFinType1.astype('float64')\n",
    "    tr.BsmtFinType2[tr['BsmtFinType2']=='None'] = 0\n",
    "    tr.BsmtFinType2[tr['BsmtFinType2']=='Unf'] = 1\n",
    "    tr.BsmtFinType2[tr['BsmtFinType2']=='LwQ'] = 2\n",
    "    tr.BsmtFinType2[tr['BsmtFinType2']=='Rec'] = 3\n",
    "    tr.BsmtFinType2[tr['BsmtFinType2']=='BLQ'] = 4\n",
    "    tr.BsmtFinType2[tr['BsmtFinType2']=='ALQ'] = 5\n",
    "    tr.BsmtFinType2[tr['BsmtFinType2']=='GLQ'] = 6\n",
    "    tr.BsmtFinType2 = tr.BsmtFinType2.astype('float64')\n",
    "    tr.Functional[tr['Functional']=='None'] = 0 \n",
    "    tr.Functional[tr['Functional']=='Sal'] = 1\n",
    "    tr.Functional[tr['Functional']=='Sev'] = 2\n",
    "    tr.Functional[tr['Functional']=='Maj2'] = 3\n",
    "    tr.Functional[tr['Functional']=='Maj1'] = 4\n",
    "    tr.Functional[tr['Functional']=='Mod'] = 5\n",
    "    tr.Functional[tr['Functional']=='Min2'] = 6\n",
    "    tr.Functional[tr['Functional']=='Min1'] = 7\n",
    "    tr.Functional[tr['Functional']=='Typ'] = 8\n",
    "    tr.Functional = tr.Functional.astype('float64') \n",
    "    tr.GarageFinish[tr['GarageFinish']=='None'] = 0\n",
    "    tr.GarageFinish[tr['GarageFinish']=='Unf'] = 1\n",
    "    tr.GarageFinish[tr['GarageFinish']=='RFn'] = 2\n",
    "    tr.GarageFinish[tr['GarageFinish']=='Fin'] = 3\n",
    "    tr.GarageFinish = tr.GarageFinish.astype('float64')\n",
    "    tr.PavedDrive[tr['PavedDrive']=='N'] = 0\n",
    "    tr.PavedDrive[tr['PavedDrive']=='P'] = 1\n",
    "    tr.PavedDrive[tr['PavedDrive']=='Y'] = 2\n",
    "    tr.PavedDrive = tr.PavedDrive.astype('float64')\n",
    "    tr.CentralAir[tr['CentralAir']=='N'] = 0\n",
    "    tr.CentralAir[tr['CentralAir']=='Y'] = 1\n",
    "    tr.CentralAir = tr.CentralAir.astype('float64') \n",
    "    tr.LandSlope[tr['LandSlope']=='Gtl'] = 1\n",
    "    tr.LandSlope[tr['LandSlope']=='Mod'] = 2\n",
    "    tr.LandSlope[tr['LandSlope']=='Sev'] = 3\n",
    "    tr.LandSlope = tr.LandSlope.astype('float64')\n",
    "    return tr"
   ]
  },
  {
   "cell_type": "code",
   "execution_count": 25,
   "metadata": {},
   "outputs": [
    {
     "name": "stderr",
     "output_type": "stream",
     "text": [
      "/Users/thisbekristin/opt/anaconda3/lib/python3.7/site-packages/ipykernel_launcher.py:5: SettingWithCopyWarning: \n",
      "A value is trying to be set on a copy of a slice from a DataFrame\n",
      "\n",
      "See the caveats in the documentation: http://pandas.pydata.org/pandas-docs/stable/user_guide/indexing.html#returning-a-view-versus-a-copy\n",
      "  \"\"\"\n",
      "/Users/thisbekristin/opt/anaconda3/lib/python3.7/site-packages/ipykernel_launcher.py:6: SettingWithCopyWarning: \n",
      "A value is trying to be set on a copy of a slice from a DataFrame\n",
      "\n",
      "See the caveats in the documentation: http://pandas.pydata.org/pandas-docs/stable/user_guide/indexing.html#returning-a-view-versus-a-copy\n",
      "  \n",
      "/Users/thisbekristin/opt/anaconda3/lib/python3.7/site-packages/ipykernel_launcher.py:7: SettingWithCopyWarning: \n",
      "A value is trying to be set on a copy of a slice from a DataFrame\n",
      "\n",
      "See the caveats in the documentation: http://pandas.pydata.org/pandas-docs/stable/user_guide/indexing.html#returning-a-view-versus-a-copy\n",
      "  import sys\n",
      "/Users/thisbekristin/opt/anaconda3/lib/python3.7/site-packages/ipykernel_launcher.py:8: SettingWithCopyWarning: \n",
      "A value is trying to be set on a copy of a slice from a DataFrame\n",
      "\n",
      "See the caveats in the documentation: http://pandas.pydata.org/pandas-docs/stable/user_guide/indexing.html#returning-a-view-versus-a-copy\n",
      "  \n",
      "/Users/thisbekristin/opt/anaconda3/lib/python3.7/site-packages/ipykernel_launcher.py:10: SettingWithCopyWarning: \n",
      "A value is trying to be set on a copy of a slice from a DataFrame\n",
      "\n",
      "See the caveats in the documentation: http://pandas.pydata.org/pandas-docs/stable/user_guide/indexing.html#returning-a-view-versus-a-copy\n",
      "  # Remove the CWD from sys.path while we load stuff.\n",
      "/Users/thisbekristin/opt/anaconda3/lib/python3.7/site-packages/ipykernel_launcher.py:11: SettingWithCopyWarning: \n",
      "A value is trying to be set on a copy of a slice from a DataFrame\n",
      "\n",
      "See the caveats in the documentation: http://pandas.pydata.org/pandas-docs/stable/user_guide/indexing.html#returning-a-view-versus-a-copy\n",
      "  # This is added back by InteractiveShellApp.init_path()\n",
      "/Users/thisbekristin/opt/anaconda3/lib/python3.7/site-packages/ipykernel_launcher.py:12: SettingWithCopyWarning: \n",
      "A value is trying to be set on a copy of a slice from a DataFrame\n",
      "\n",
      "See the caveats in the documentation: http://pandas.pydata.org/pandas-docs/stable/user_guide/indexing.html#returning-a-view-versus-a-copy\n",
      "  if sys.path[0] == '':\n",
      "/Users/thisbekristin/opt/anaconda3/lib/python3.7/site-packages/ipykernel_launcher.py:13: SettingWithCopyWarning: \n",
      "A value is trying to be set on a copy of a slice from a DataFrame\n",
      "\n",
      "See the caveats in the documentation: http://pandas.pydata.org/pandas-docs/stable/user_guide/indexing.html#returning-a-view-versus-a-copy\n",
      "  del sys.path[0]\n",
      "/Users/thisbekristin/opt/anaconda3/lib/python3.7/site-packages/ipykernel_launcher.py:14: SettingWithCopyWarning: \n",
      "A value is trying to be set on a copy of a slice from a DataFrame\n",
      "\n",
      "See the caveats in the documentation: http://pandas.pydata.org/pandas-docs/stable/user_guide/indexing.html#returning-a-view-versus-a-copy\n",
      "  \n",
      "/Users/thisbekristin/opt/anaconda3/lib/python3.7/site-packages/ipykernel_launcher.py:16: SettingWithCopyWarning: \n",
      "A value is trying to be set on a copy of a slice from a DataFrame\n",
      "\n",
      "See the caveats in the documentation: http://pandas.pydata.org/pandas-docs/stable/user_guide/indexing.html#returning-a-view-versus-a-copy\n",
      "  app.launch_new_instance()\n",
      "/Users/thisbekristin/opt/anaconda3/lib/python3.7/site-packages/ipykernel_launcher.py:17: SettingWithCopyWarning: \n",
      "A value is trying to be set on a copy of a slice from a DataFrame\n",
      "\n",
      "See the caveats in the documentation: http://pandas.pydata.org/pandas-docs/stable/user_guide/indexing.html#returning-a-view-versus-a-copy\n",
      "/Users/thisbekristin/opt/anaconda3/lib/python3.7/site-packages/ipykernel_launcher.py:18: SettingWithCopyWarning: \n",
      "A value is trying to be set on a copy of a slice from a DataFrame\n",
      "\n",
      "See the caveats in the documentation: http://pandas.pydata.org/pandas-docs/stable/user_guide/indexing.html#returning-a-view-versus-a-copy\n",
      "/Users/thisbekristin/opt/anaconda3/lib/python3.7/site-packages/ipykernel_launcher.py:19: SettingWithCopyWarning: \n",
      "A value is trying to be set on a copy of a slice from a DataFrame\n",
      "\n",
      "See the caveats in the documentation: http://pandas.pydata.org/pandas-docs/stable/user_guide/indexing.html#returning-a-view-versus-a-copy\n",
      "/Users/thisbekristin/opt/anaconda3/lib/python3.7/site-packages/ipykernel_launcher.py:20: SettingWithCopyWarning: \n",
      "A value is trying to be set on a copy of a slice from a DataFrame\n",
      "\n",
      "See the caveats in the documentation: http://pandas.pydata.org/pandas-docs/stable/user_guide/indexing.html#returning-a-view-versus-a-copy\n",
      "/Users/thisbekristin/opt/anaconda3/lib/python3.7/site-packages/ipykernel_launcher.py:21: SettingWithCopyWarning: \n",
      "A value is trying to be set on a copy of a slice from a DataFrame\n",
      "\n",
      "See the caveats in the documentation: http://pandas.pydata.org/pandas-docs/stable/user_guide/indexing.html#returning-a-view-versus-a-copy\n",
      "/Users/thisbekristin/opt/anaconda3/lib/python3.7/site-packages/ipykernel_launcher.py:22: SettingWithCopyWarning: \n",
      "A value is trying to be set on a copy of a slice from a DataFrame\n",
      "\n",
      "See the caveats in the documentation: http://pandas.pydata.org/pandas-docs/stable/user_guide/indexing.html#returning-a-view-versus-a-copy\n",
      "/Users/thisbekristin/opt/anaconda3/lib/python3.7/site-packages/ipykernel_launcher.py:24: SettingWithCopyWarning: \n",
      "A value is trying to be set on a copy of a slice from a DataFrame\n",
      "\n",
      "See the caveats in the documentation: http://pandas.pydata.org/pandas-docs/stable/user_guide/indexing.html#returning-a-view-versus-a-copy\n",
      "/Users/thisbekristin/opt/anaconda3/lib/python3.7/site-packages/ipykernel_launcher.py:25: SettingWithCopyWarning: \n",
      "A value is trying to be set on a copy of a slice from a DataFrame\n",
      "\n",
      "See the caveats in the documentation: http://pandas.pydata.org/pandas-docs/stable/user_guide/indexing.html#returning-a-view-versus-a-copy\n",
      "/Users/thisbekristin/opt/anaconda3/lib/python3.7/site-packages/ipykernel_launcher.py:26: SettingWithCopyWarning: \n",
      "A value is trying to be set on a copy of a slice from a DataFrame\n",
      "\n",
      "See the caveats in the documentation: http://pandas.pydata.org/pandas-docs/stable/user_guide/indexing.html#returning-a-view-versus-a-copy\n",
      "/Users/thisbekristin/opt/anaconda3/lib/python3.7/site-packages/ipykernel_launcher.py:27: SettingWithCopyWarning: \n",
      "A value is trying to be set on a copy of a slice from a DataFrame\n",
      "\n",
      "See the caveats in the documentation: http://pandas.pydata.org/pandas-docs/stable/user_guide/indexing.html#returning-a-view-versus-a-copy\n",
      "/Users/thisbekristin/opt/anaconda3/lib/python3.7/site-packages/ipykernel_launcher.py:28: SettingWithCopyWarning: \n",
      "A value is trying to be set on a copy of a slice from a DataFrame\n",
      "\n",
      "See the caveats in the documentation: http://pandas.pydata.org/pandas-docs/stable/user_guide/indexing.html#returning-a-view-versus-a-copy\n",
      "/Users/thisbekristin/opt/anaconda3/lib/python3.7/site-packages/ipykernel_launcher.py:29: SettingWithCopyWarning: \n",
      "A value is trying to be set on a copy of a slice from a DataFrame\n",
      "\n",
      "See the caveats in the documentation: http://pandas.pydata.org/pandas-docs/stable/user_guide/indexing.html#returning-a-view-versus-a-copy\n",
      "/Users/thisbekristin/opt/anaconda3/lib/python3.7/site-packages/ipykernel_launcher.py:30: SettingWithCopyWarning: \n",
      "A value is trying to be set on a copy of a slice from a DataFrame\n",
      "\n",
      "See the caveats in the documentation: http://pandas.pydata.org/pandas-docs/stable/user_guide/indexing.html#returning-a-view-versus-a-copy\n",
      "/Users/thisbekristin/opt/anaconda3/lib/python3.7/site-packages/ipykernel_launcher.py:32: SettingWithCopyWarning: \n",
      "A value is trying to be set on a copy of a slice from a DataFrame\n",
      "\n",
      "See the caveats in the documentation: http://pandas.pydata.org/pandas-docs/stable/user_guide/indexing.html#returning-a-view-versus-a-copy\n",
      "/Users/thisbekristin/opt/anaconda3/lib/python3.7/site-packages/ipykernel_launcher.py:33: SettingWithCopyWarning: \n",
      "A value is trying to be set on a copy of a slice from a DataFrame\n",
      "\n",
      "See the caveats in the documentation: http://pandas.pydata.org/pandas-docs/stable/user_guide/indexing.html#returning-a-view-versus-a-copy\n",
      "/Users/thisbekristin/opt/anaconda3/lib/python3.7/site-packages/ipykernel_launcher.py:34: SettingWithCopyWarning: \n",
      "A value is trying to be set on a copy of a slice from a DataFrame\n",
      "\n",
      "See the caveats in the documentation: http://pandas.pydata.org/pandas-docs/stable/user_guide/indexing.html#returning-a-view-versus-a-copy\n",
      "/Users/thisbekristin/opt/anaconda3/lib/python3.7/site-packages/ipykernel_launcher.py:35: SettingWithCopyWarning: \n",
      "A value is trying to be set on a copy of a slice from a DataFrame\n",
      "\n",
      "See the caveats in the documentation: http://pandas.pydata.org/pandas-docs/stable/user_guide/indexing.html#returning-a-view-versus-a-copy\n",
      "/Users/thisbekristin/opt/anaconda3/lib/python3.7/site-packages/ipykernel_launcher.py:36: SettingWithCopyWarning: \n",
      "A value is trying to be set on a copy of a slice from a DataFrame\n",
      "\n",
      "See the caveats in the documentation: http://pandas.pydata.org/pandas-docs/stable/user_guide/indexing.html#returning-a-view-versus-a-copy\n",
      "/Users/thisbekristin/opt/anaconda3/lib/python3.7/site-packages/ipykernel_launcher.py:37: SettingWithCopyWarning: \n",
      "A value is trying to be set on a copy of a slice from a DataFrame\n",
      "\n",
      "See the caveats in the documentation: http://pandas.pydata.org/pandas-docs/stable/user_guide/indexing.html#returning-a-view-versus-a-copy\n",
      "/Users/thisbekristin/opt/anaconda3/lib/python3.7/site-packages/ipykernel_launcher.py:38: SettingWithCopyWarning: \n",
      "A value is trying to be set on a copy of a slice from a DataFrame\n",
      "\n",
      "See the caveats in the documentation: http://pandas.pydata.org/pandas-docs/stable/user_guide/indexing.html#returning-a-view-versus-a-copy\n",
      "/Users/thisbekristin/opt/anaconda3/lib/python3.7/site-packages/ipykernel_launcher.py:39: SettingWithCopyWarning: \n",
      "A value is trying to be set on a copy of a slice from a DataFrame\n",
      "\n",
      "See the caveats in the documentation: http://pandas.pydata.org/pandas-docs/stable/user_guide/indexing.html#returning-a-view-versus-a-copy\n",
      "/Users/thisbekristin/opt/anaconda3/lib/python3.7/site-packages/ipykernel_launcher.py:40: SettingWithCopyWarning: \n",
      "A value is trying to be set on a copy of a slice from a DataFrame\n",
      "\n",
      "See the caveats in the documentation: http://pandas.pydata.org/pandas-docs/stable/user_guide/indexing.html#returning-a-view-versus-a-copy\n",
      "/Users/thisbekristin/opt/anaconda3/lib/python3.7/site-packages/ipykernel_launcher.py:42: SettingWithCopyWarning: \n",
      "A value is trying to be set on a copy of a slice from a DataFrame\n",
      "\n",
      "See the caveats in the documentation: http://pandas.pydata.org/pandas-docs/stable/user_guide/indexing.html#returning-a-view-versus-a-copy\n",
      "/Users/thisbekristin/opt/anaconda3/lib/python3.7/site-packages/ipykernel_launcher.py:43: SettingWithCopyWarning: \n",
      "A value is trying to be set on a copy of a slice from a DataFrame\n",
      "\n",
      "See the caveats in the documentation: http://pandas.pydata.org/pandas-docs/stable/user_guide/indexing.html#returning-a-view-versus-a-copy\n",
      "/Users/thisbekristin/opt/anaconda3/lib/python3.7/site-packages/ipykernel_launcher.py:44: SettingWithCopyWarning: \n",
      "A value is trying to be set on a copy of a slice from a DataFrame\n",
      "\n",
      "See the caveats in the documentation: http://pandas.pydata.org/pandas-docs/stable/user_guide/indexing.html#returning-a-view-versus-a-copy\n",
      "/Users/thisbekristin/opt/anaconda3/lib/python3.7/site-packages/ipykernel_launcher.py:45: SettingWithCopyWarning: \n",
      "A value is trying to be set on a copy of a slice from a DataFrame\n",
      "\n",
      "See the caveats in the documentation: http://pandas.pydata.org/pandas-docs/stable/user_guide/indexing.html#returning-a-view-versus-a-copy\n",
      "/Users/thisbekristin/opt/anaconda3/lib/python3.7/site-packages/ipykernel_launcher.py:47: SettingWithCopyWarning: \n",
      "A value is trying to be set on a copy of a slice from a DataFrame\n",
      "\n",
      "See the caveats in the documentation: http://pandas.pydata.org/pandas-docs/stable/user_guide/indexing.html#returning-a-view-versus-a-copy\n",
      "/Users/thisbekristin/opt/anaconda3/lib/python3.7/site-packages/ipykernel_launcher.py:48: SettingWithCopyWarning: \n",
      "A value is trying to be set on a copy of a slice from a DataFrame\n",
      "\n",
      "See the caveats in the documentation: http://pandas.pydata.org/pandas-docs/stable/user_guide/indexing.html#returning-a-view-versus-a-copy\n",
      "/Users/thisbekristin/opt/anaconda3/lib/python3.7/site-packages/ipykernel_launcher.py:49: SettingWithCopyWarning: \n",
      "A value is trying to be set on a copy of a slice from a DataFrame\n",
      "\n",
      "See the caveats in the documentation: http://pandas.pydata.org/pandas-docs/stable/user_guide/indexing.html#returning-a-view-versus-a-copy\n",
      "/Users/thisbekristin/opt/anaconda3/lib/python3.7/site-packages/ipykernel_launcher.py:51: SettingWithCopyWarning: \n",
      "A value is trying to be set on a copy of a slice from a DataFrame\n",
      "\n",
      "See the caveats in the documentation: http://pandas.pydata.org/pandas-docs/stable/user_guide/indexing.html#returning-a-view-versus-a-copy\n",
      "/Users/thisbekristin/opt/anaconda3/lib/python3.7/site-packages/ipykernel_launcher.py:52: SettingWithCopyWarning: \n",
      "A value is trying to be set on a copy of a slice from a DataFrame\n",
      "\n",
      "See the caveats in the documentation: http://pandas.pydata.org/pandas-docs/stable/user_guide/indexing.html#returning-a-view-versus-a-copy\n",
      "/Users/thisbekristin/opt/anaconda3/lib/python3.7/site-packages/ipykernel_launcher.py:54: SettingWithCopyWarning: \n",
      "A value is trying to be set on a copy of a slice from a DataFrame\n",
      "\n",
      "See the caveats in the documentation: http://pandas.pydata.org/pandas-docs/stable/user_guide/indexing.html#returning-a-view-versus-a-copy\n",
      "/Users/thisbekristin/opt/anaconda3/lib/python3.7/site-packages/ipykernel_launcher.py:55: SettingWithCopyWarning: \n",
      "A value is trying to be set on a copy of a slice from a DataFrame\n",
      "\n",
      "See the caveats in the documentation: http://pandas.pydata.org/pandas-docs/stable/user_guide/indexing.html#returning-a-view-versus-a-copy\n",
      "/Users/thisbekristin/opt/anaconda3/lib/python3.7/site-packages/ipykernel_launcher.py:56: SettingWithCopyWarning: \n",
      "A value is trying to be set on a copy of a slice from a DataFrame\n",
      "\n",
      "See the caveats in the documentation: http://pandas.pydata.org/pandas-docs/stable/user_guide/indexing.html#returning-a-view-versus-a-copy\n"
     ]
    }
   ],
   "source": [
    "combine = convert_misc_qual(combine)"
   ]
  },
  {
   "cell_type": "markdown",
   "metadata": {},
   "source": [
    "## 66 Columns after Feature Engineering\n",
    "* Combine and consolidate features\n",
    "* Convert string categorical data to numerical ordinal data"
   ]
  },
  {
   "cell_type": "code",
   "execution_count": 26,
   "metadata": {},
   "outputs": [
    {
     "data": {
      "text/plain": [
       "(2903, 66)"
      ]
     },
     "execution_count": 26,
     "metadata": {},
     "output_type": "execute_result"
    }
   ],
   "source": [
    "combine.shape"
   ]
  },
  {
   "cell_type": "markdown",
   "metadata": {},
   "source": [
    "<p><a name=\"Feature Selection\"></a></p>\n",
    "\n",
    "# Feature Selection"
   ]
  },
  {
   "cell_type": "code",
   "execution_count": 27,
   "metadata": {},
   "outputs": [
    {
     "name": "stdout",
     "output_type": "stream",
     "text": [
      "<class 'pandas.core.frame.DataFrame'>\n",
      "Int64Index: 2903 entries, 0 to 1458\n",
      "Data columns (total 39 columns):\n",
      "LotFrontage     2903 non-null float64\n",
      "LotArea         2903 non-null int64\n",
      "LotShape        2903 non-null float64\n",
      "LandSlope       2903 non-null float64\n",
      "OverallQual     2903 non-null int64\n",
      "OverallCond     2903 non-null int64\n",
      "YearBuilt       2903 non-null int64\n",
      "YearRemodAdd    2903 non-null int64\n",
      "ExterQual       2903 non-null float64\n",
      "ExterCond       2903 non-null float64\n",
      "BsmtQual        2903 non-null float64\n",
      "BsmtCond        2903 non-null float64\n",
      "BsmtExposure    2903 non-null float64\n",
      "BsmtFinType1    2903 non-null float64\n",
      "BsmtFinSF1      2903 non-null float64\n",
      "BsmtFinType2    2903 non-null float64\n",
      "BsmtFinSF2      2903 non-null float64\n",
      "BsmtUnfSF       2903 non-null float64\n",
      "HeatingQC       2903 non-null float64\n",
      "CentralAir      2903 non-null float64\n",
      "LowQualFinSF    2903 non-null int64\n",
      "GrLivArea       2903 non-null int64\n",
      "BedroomAbvGr    2903 non-null int64\n",
      "KitchenAbvGr    2903 non-null int64\n",
      "KitchenQual     2903 non-null float64\n",
      "TotRmsAbvGrd    2903 non-null int64\n",
      "Functional      2903 non-null float64\n",
      "Fireplaces      2903 non-null int64\n",
      "GarageFinish    2903 non-null float64\n",
      "GarageQual      2903 non-null float64\n",
      "GarageCond      2903 non-null float64\n",
      "PavedDrive      2903 non-null float64\n",
      "PoolArea        2903 non-null int64\n",
      "MoSold          2903 non-null int64\n",
      "YrSold          2903 non-null int64\n",
      "SalePrice       1444 non-null float64\n",
      "TotalBaths      2903 non-null float64\n",
      "PorchSF         2903 non-null int64\n",
      "TotalSF         2903 non-null float64\n",
      "dtypes: float64(24), int64(15)\n",
      "memory usage: 907.2 KB\n"
     ]
    }
   ],
   "source": [
    "# numerical features\n",
    "combine.select_dtypes(include='number').info()"
   ]
  },
  {
   "cell_type": "code",
   "execution_count": 28,
   "metadata": {},
   "outputs": [
    {
     "name": "stdout",
     "output_type": "stream",
     "text": [
      "<class 'pandas.core.frame.DataFrame'>\n",
      "Int64Index: 2903 entries, 0 to 1458\n",
      "Data columns (total 27 columns):\n",
      "MSSubClass       2903 non-null object\n",
      "MSZoning         2903 non-null object\n",
      "Street           2903 non-null object\n",
      "LandContour      2903 non-null object\n",
      "Utilities        2903 non-null object\n",
      "LotConfig        2903 non-null object\n",
      "Neighborhood     2903 non-null object\n",
      "Condition1       2903 non-null object\n",
      "Condition2       2903 non-null object\n",
      "BldgType         2903 non-null object\n",
      "HouseStyle       2903 non-null object\n",
      "RoofStyle        2903 non-null object\n",
      "RoofMatl         2903 non-null object\n",
      "Exterior1st      2903 non-null object\n",
      "Exterior2nd      2903 non-null object\n",
      "MasVnrType       2903 non-null object\n",
      "MasVnrArea       2903 non-null object\n",
      "Foundation       2903 non-null object\n",
      "Heating          2903 non-null object\n",
      "Electrical       2903 non-null object\n",
      "FireplaceQu      2903 non-null object\n",
      "GarageType       2903 non-null object\n",
      "GarageYrBlt      2903 non-null object\n",
      "GarageCars       2903 non-null object\n",
      "GarageArea       2903 non-null object\n",
      "SaleType         2903 non-null object\n",
      "SaleCondition    2903 non-null object\n",
      "dtypes: object(27)\n",
      "memory usage: 635.0+ KB\n"
     ]
    }
   ],
   "source": [
    "# string features\n",
    "combine.select_dtypes(exclude='number').info()"
   ]
  },
  {
   "cell_type": "markdown",
   "metadata": {},
   "source": [
    "## F Test\n",
    "* Due to possible SalePrice outliers, tested f_regression of numerical values against log of target value, SalePrice.\n",
    "* Tested features are quantitative continuous or numerical ordinal"
   ]
  },
  {
   "cell_type": "code",
   "execution_count": 29,
   "metadata": {},
   "outputs": [],
   "source": [
    "F_Test = combine[combine['SalePrice'].notnull()]"
   ]
  },
  {
   "cell_type": "code",
   "execution_count": 30,
   "metadata": {},
   "outputs": [],
   "source": [
    "combine_numerical = F_Test.drop(F_Test.select_dtypes(exclude='number').columns.insert(0,'SalePrice'), axis=1)\n",
    "value_f, p_f = f_regression(combine_numerical, np.log(F_Test['SalePrice']))"
   ]
  },
  {
   "cell_type": "code",
   "execution_count": 31,
   "metadata": {
    "scrolled": true
   },
   "outputs": [
    {
     "data": {
      "text/plain": [
       "TotalSF          0.000000e+00\n",
       "OverallQual      0.000000e+00\n",
       "GrLivArea       3.441763e-222\n",
       "ExterQual       6.499902e-202\n",
       "KitchenQual     2.037484e-187\n",
       "TotalBaths      3.273788e-185\n",
       "BsmtQual        8.355812e-155\n",
       "GarageFinish    2.013431e-151\n",
       "YearBuilt       8.072310e-149\n",
       "YearRemodAdd    8.969357e-126\n",
       "TotRmsAbvGrd     3.619806e-99\n",
       "Fireplaces       6.872906e-84\n",
       "HeatingQC        4.880754e-82\n",
       "PorchSF          2.749068e-52\n",
       "BsmtFinSF1       2.426161e-51\n",
       "GarageQual       1.553903e-47\n",
       "GarageCond       8.367228e-47\n",
       "CentralAir       1.474495e-44\n",
       "BsmtExposure     2.421631e-43\n",
       "BsmtFinType1     1.147741e-39\n",
       "LotFrontage      1.364732e-37\n",
       "PavedDrive       1.197632e-33\n",
       "BsmtCond         1.133656e-27\n",
       "LotShape         1.734579e-27\n",
       "LotArea          3.527600e-21\n",
       "BsmtUnfSF        1.315117e-16\n",
       "BedroomAbvGr     9.533361e-13\n",
       "KitchenAbvGr     1.061208e-08\n",
       "Functional       2.839942e-08\n",
       "LowQualFinSF     4.132819e-03\n",
       "MoSold           1.022482e-02\n",
       "OverallCond      8.001358e-02\n",
       "ExterCond        1.416811e-01\n",
       "YrSold           1.650294e-01\n",
       "PoolArea         1.690106e-01\n",
       "LandSlope        2.986297e-01\n",
       "BsmtFinType2     4.438615e-01\n",
       "BsmtFinSF2       6.783725e-01\n",
       "dtype: float64"
      ]
     },
     "execution_count": 31,
     "metadata": {},
     "output_type": "execute_result"
    }
   ],
   "source": [
    "insig_FTest = pd.Series(p_f, index=combine_numerical.columns).sort_values()\n",
    "insig_FTest"
   ]
  },
  {
   "cell_type": "code",
   "execution_count": 32,
   "metadata": {},
   "outputs": [
    {
     "data": {
      "text/plain": [
       "OverallCond     0.080014\n",
       "ExterCond       0.141681\n",
       "YrSold          0.165029\n",
       "PoolArea        0.169011\n",
       "LandSlope       0.298630\n",
       "BsmtFinType2    0.443861\n",
       "BsmtFinSF2      0.678372\n",
       "dtype: float64"
      ]
     },
     "execution_count": 32,
     "metadata": {},
     "output_type": "execute_result"
    }
   ],
   "source": [
    "insig_FTest[31::]"
   ]
  },
  {
   "cell_type": "code",
   "execution_count": 100,
   "metadata": {},
   "outputs": [
    {
     "data": {
      "text/plain": [
       "Text(0.5, 1.0, 'F-Test: Insignificant Features')"
      ]
     },
     "execution_count": 100,
     "metadata": {},
     "output_type": "execute_result"
    },
    {
     "data": {
      "image/png": "[encoded data removed]",
      "text/plain": [
       "<Figure size 432x288 with 1 Axes>"
      ]
     },
     "metadata": {
      "needs_background": "light"
     },
     "output_type": "display_data"
    }
   ],
   "source": [
    "g = sns.barplot(x=insig_FTest[31::].index,y=insig_FTest[31::].values, orient=\"v\")\n",
    "g.set_xticklabels(g.get_xticklabels(),rotation=45)\n",
    "g.set_title(\"F-Test: Insignificant Features\")"
   ]
  },
  {
   "cell_type": "markdown",
   "metadata": {},
   "source": [
    "### F-Test Summary "
   ]
  },
  {
   "cell_type": "markdown",
   "metadata": {},
   "source": [
    "* After F-Test, the results call for more adjustments due to the following insignificant p-values\n",
    " - OverallCond\n",
    " - ExterCond\n",
    " - YrSold\n",
    " - PoolArea\n",
    " - LandSlope\n",
    " - BsmtFinType2\n",
    " - BsmtFinSF2\n",
    " \n",
    "* Drop insignificant features to yield 59 features"
   ]
  },
  {
   "cell_type": "code",
   "execution_count": 34,
   "metadata": {},
   "outputs": [],
   "source": [
    "combine = combine.drop(['OverallCond','ExterCond','YrSold','PoolArea','LandSlope','BsmtFinType2','BsmtFinSF2'], axis = 1)"
   ]
  },
  {
   "cell_type": "code",
   "execution_count": 35,
   "metadata": {},
   "outputs": [
    {
     "data": {
      "text/plain": [
       "(2903, 59)"
      ]
     },
     "execution_count": 35,
     "metadata": {},
     "output_type": "execute_result"
    }
   ],
   "source": [
    "combine.shape"
   ]
  },
  {
   "cell_type": "markdown",
   "metadata": {},
   "source": [
    "# Export Data\n",
    "For partner to use in Model Selection"
   ]
  },
  {
   "cell_type": "code",
   "execution_count": 36,
   "metadata": {},
   "outputs": [],
   "source": [
    "# combine.to_csv('fulldataset.csv', index=False)"
   ]
  },
  {
   "cell_type": "markdown",
   "metadata": {},
   "source": [
    "<p><a name=\"Algorithm Selection\"></a></p>\n",
    "\n",
    "# Algorithm Selection\n",
    "\n",
    "**This workbook explores Random Forest and Gradient Boosting. Other Machine Learning Models can be found in a separate Jupyter Notebook**"
   ]
  },
  {
   "cell_type": "markdown",
   "metadata": {},
   "source": [
    "<p><a name=\"Random Forest\"></a></p>\n",
    "\n",
    "# Random Forest"
   ]
  },
  {
   "cell_type": "code",
   "execution_count": 50,
   "metadata": {},
   "outputs": [
    {
     "name": "stderr",
     "output_type": "stream",
     "text": [
      "/Users/thisbekristin/opt/anaconda3/lib/python3.7/site-packages/sklearn/ensemble/forest.py:245: FutureWarning: The default value of n_estimators will change from 10 in version 0.20 to 100 in 0.22.\n",
      "  \"10 in version 0.20 to 100 in 0.22.\", FutureWarning)\n"
     ]
    },
    {
     "name": "stdout",
     "output_type": "stream",
     "text": [
      "The training error is: 0.98019\n",
      "The test     error is: 0.88428\n"
     ]
    }
   ],
   "source": [
    "from sklearn import ensemble\n",
    "import sklearn.model_selection as ms\n",
    "randomForest = ensemble.RandomForestRegressor()\n",
    "\n",
    "# fit RF model on training set\n",
    "randomForest.set_params(random_state = 0)\n",
    "\n",
    "randomForest.fit(X_train, y_train) \n",
    "\n",
    "print(\"The training error is: %.5f\" % (randomForest.score(X_train, y_train)))\n",
    "print(\"The test     error is: %.5f\" % (randomForest.score(X_test, y_test)))"
   ]
  },
  {
   "cell_type": "code",
   "execution_count": 105,
   "metadata": {},
   "outputs": [
    {
     "data": {
      "text/plain": [
       "RandomForestRegressor(bootstrap=True, criterion='mse', max_depth=13,\n",
       "                      max_features='auto', max_leaf_nodes=None,\n",
       "                      min_impurity_decrease=0.0, min_impurity_split=None,\n",
       "                      min_samples_leaf=1, min_samples_split=2,\n",
       "                      min_weight_fraction_leaf=0.0, n_estimators=80,\n",
       "                      n_jobs=None, oob_score=False, random_state=0, verbose=0,\n",
       "                      warm_start=False)"
      ]
     },
     "execution_count": 105,
     "metadata": {},
     "output_type": "execute_result"
    }
   ],
   "source": [
    "randomForest"
   ]
  },
  {
   "cell_type": "markdown",
   "metadata": {},
   "source": [
    "## Random Search"
   ]
  },
  {
   "cell_type": "code",
   "execution_count": 115,
   "metadata": {},
   "outputs": [],
   "source": [
    "random_grid = {'n_estimators': [int(x) for x in np.linspace(150,2000,15)],\n",
    "              'max_features': ['auto','sqrt'],\n",
    "              'max_depth': [int(x) for x in np.linspace(10,100, 10)],\n",
    "              'min_samples_split': [2,6,10],\n",
    "              'min_samples_leaf': [1,3,5]}"
   ]
  },
  {
   "cell_type": "code",
   "execution_count": 126,
   "metadata": {},
   "outputs": [],
   "source": [
    "rf_random = RandomizedSearchCV(randomForest, param_distributions = random_grid, cv = 3, verbose = 2, random_state=42)"
   ]
  },
  {
   "cell_type": "code",
   "execution_count": 119,
   "metadata": {},
   "outputs": [
    {
     "name": "stdout",
     "output_type": "stream",
     "text": [
      "Fitting 3 folds for each of 100 candidates, totalling 300 fits\n",
      "[CV] n_estimators=678, min_samples_split=10, min_samples_leaf=5, max_features=sqrt, max_depth=50 \n"
     ]
    },
    {
     "name": "stderr",
     "output_type": "stream",
     "text": [
      "[Parallel(n_jobs=1)]: Using backend SequentialBackend with 1 concurrent workers.\n"
     ]
    },
    {
     "name": "stdout",
     "output_type": "stream",
     "text": [
      "[CV]  n_estimators=678, min_samples_split=10, min_samples_leaf=5, max_features=sqrt, max_depth=50, total=   1.2s\n",
      "[CV] n_estimators=678, min_samples_split=10, min_samples_leaf=5, max_features=sqrt, max_depth=50 \n"
     ]
    },
    {
     "name": "stderr",
     "output_type": "stream",
     "text": [
      "[Parallel(n_jobs=1)]: Done   1 out of   1 | elapsed:    1.2s remaining:    0.0s\n"
     ]
    },
    {
     "name": "stdout",
     "output_type": "stream",
     "text": [
      "[CV]  n_estimators=678, min_samples_split=10, min_samples_leaf=5, max_features=sqrt, max_depth=50, total=   1.1s\n",
      "[CV] n_estimators=678, min_samples_split=10, min_samples_leaf=5, max_features=sqrt, max_depth=50 \n",
      "[CV]  n_estimators=678, min_samples_split=10, min_samples_leaf=5, max_features=sqrt, max_depth=50, total=   1.1s\n",
      "[CV] n_estimators=1075, min_samples_split=2, min_samples_leaf=1, max_features=sqrt, max_depth=50 \n",
      "[CV]  n_estimators=1075, min_samples_split=2, min_samples_leaf=1, max_features=sqrt, max_depth=50, total=   3.6s\n",
      "[CV] n_estimators=1075, min_samples_split=2, min_samples_leaf=1, max_features=sqrt, max_depth=50 \n",
      "[CV]  n_estimators=1075, min_samples_split=2, min_samples_leaf=1, max_features=sqrt, max_depth=50, total=   3.6s\n",
      "[CV] n_estimators=1075, min_samples_split=2, min_samples_leaf=1, max_features=sqrt, max_depth=50 \n",
      "[CV]  n_estimators=1075, min_samples_split=2, min_samples_leaf=1, max_features=sqrt, max_depth=50, total=   3.6s\n",
      "[CV] n_estimators=1603, min_samples_split=6, min_samples_leaf=1, max_features=auto, max_depth=50 \n",
      "[CV]  n_estimators=1603, min_samples_split=6, min_samples_leaf=1, max_features=auto, max_depth=50, total=  22.1s\n",
      "[CV] n_estimators=1603, min_samples_split=6, min_samples_leaf=1, max_features=auto, max_depth=50 \n",
      "[CV]  n_estimators=1603, min_samples_split=6, min_samples_leaf=1, max_features=auto, max_depth=50, total=  21.7s\n",
      "[CV] n_estimators=1603, min_samples_split=6, min_samples_leaf=1, max_features=auto, max_depth=50 \n",
      "[CV]  n_estimators=1603, min_samples_split=6, min_samples_leaf=1, max_features=auto, max_depth=50, total=  21.7s\n",
      "[CV] n_estimators=414, min_samples_split=2, min_samples_leaf=1, max_features=auto, max_depth=40 \n",
      "[CV]  n_estimators=414, min_samples_split=2, min_samples_leaf=1, max_features=auto, max_depth=40, total=   8.6s\n",
      "[CV] n_estimators=414, min_samples_split=2, min_samples_leaf=1, max_features=auto, max_depth=40 \n",
      "[CV]  n_estimators=414, min_samples_split=2, min_samples_leaf=1, max_features=auto, max_depth=40, total=   8.5s\n",
      "[CV] n_estimators=414, min_samples_split=2, min_samples_leaf=1, max_features=auto, max_depth=40 \n",
      "[CV]  n_estimators=414, min_samples_split=2, min_samples_leaf=1, max_features=auto, max_depth=40, total=   8.5s\n",
      "[CV] n_estimators=282, min_samples_split=6, min_samples_leaf=1, max_features=sqrt, max_depth=50 \n",
      "[CV]  n_estimators=282, min_samples_split=6, min_samples_leaf=1, max_features=sqrt, max_depth=50, total=   0.7s\n",
      "[CV] n_estimators=282, min_samples_split=6, min_samples_leaf=1, max_features=sqrt, max_depth=50 \n",
      "[CV]  n_estimators=282, min_samples_split=6, min_samples_leaf=1, max_features=sqrt, max_depth=50, total=   0.7s\n",
      "[CV] n_estimators=282, min_samples_split=6, min_samples_leaf=1, max_features=sqrt, max_depth=50 \n",
      "[CV]  n_estimators=282, min_samples_split=6, min_samples_leaf=1, max_features=sqrt, max_depth=50, total=   0.7s\n",
      "[CV] n_estimators=1471, min_samples_split=6, min_samples_leaf=1, max_features=auto, max_depth=30 \n",
      "[CV]  n_estimators=1471, min_samples_split=6, min_samples_leaf=1, max_features=auto, max_depth=30, total=  20.3s\n",
      "[CV] n_estimators=1471, min_samples_split=6, min_samples_leaf=1, max_features=auto, max_depth=30 \n",
      "[CV]  n_estimators=1471, min_samples_split=6, min_samples_leaf=1, max_features=auto, max_depth=30, total=  20.0s\n",
      "[CV] n_estimators=1471, min_samples_split=6, min_samples_leaf=1, max_features=auto, max_depth=30 \n",
      "[CV]  n_estimators=1471, min_samples_split=6, min_samples_leaf=1, max_features=auto, max_depth=30, total=  20.0s\n",
      "[CV] n_estimators=810, min_samples_split=10, min_samples_leaf=1, max_features=auto, max_depth=40 \n",
      "[CV]  n_estimators=810, min_samples_split=10, min_samples_leaf=1, max_features=auto, max_depth=40, total=   9.7s\n",
      "[CV] n_estimators=810, min_samples_split=10, min_samples_leaf=1, max_features=auto, max_depth=40 \n",
      "[CV]  n_estimators=810, min_samples_split=10, min_samples_leaf=1, max_features=auto, max_depth=40, total=   9.5s\n",
      "[CV] n_estimators=810, min_samples_split=10, min_samples_leaf=1, max_features=auto, max_depth=40 \n",
      "[CV]  n_estimators=810, min_samples_split=10, min_samples_leaf=1, max_features=auto, max_depth=40, total=   9.5s\n",
      "[CV] n_estimators=2000, min_samples_split=2, min_samples_leaf=3, max_features=sqrt, max_depth=40 \n",
      "[CV]  n_estimators=2000, min_samples_split=2, min_samples_leaf=3, max_features=sqrt, max_depth=40, total=   3.6s\n",
      "[CV] n_estimators=2000, min_samples_split=2, min_samples_leaf=3, max_features=sqrt, max_depth=40 \n",
      "[CV]  n_estimators=2000, min_samples_split=2, min_samples_leaf=3, max_features=sqrt, max_depth=40, total=   3.6s\n",
      "[CV] n_estimators=2000, min_samples_split=2, min_samples_leaf=3, max_features=sqrt, max_depth=40 \n",
      "[CV]  n_estimators=2000, min_samples_split=2, min_samples_leaf=3, max_features=sqrt, max_depth=40, total=   3.6s\n",
      "[CV] n_estimators=546, min_samples_split=10, min_samples_leaf=5, max_features=auto, max_depth=90 \n",
      "[CV]  n_estimators=546, min_samples_split=10, min_samples_leaf=5, max_features=auto, max_depth=90, total=   5.6s\n",
      "[CV] n_estimators=546, min_samples_split=10, min_samples_leaf=5, max_features=auto, max_depth=90 \n",
      "[CV]  n_estimators=546, min_samples_split=10, min_samples_leaf=5, max_features=auto, max_depth=90, total=   5.5s\n",
      "[CV] n_estimators=546, min_samples_split=10, min_samples_leaf=5, max_features=auto, max_depth=90 \n",
      "[CV]  n_estimators=546, min_samples_split=10, min_samples_leaf=5, max_features=auto, max_depth=90, total=   5.5s\n",
      "[CV] n_estimators=1471, min_samples_split=6, min_samples_leaf=1, max_features=sqrt, max_depth=30 \n",
      "[CV]  n_estimators=1471, min_samples_split=6, min_samples_leaf=1, max_features=sqrt, max_depth=30, total=   3.5s\n",
      "[CV] n_estimators=1471, min_samples_split=6, min_samples_leaf=1, max_features=sqrt, max_depth=30 \n",
      "[CV]  n_estimators=1471, min_samples_split=6, min_samples_leaf=1, max_features=sqrt, max_depth=30, total=   3.5s\n",
      "[CV] n_estimators=1471, min_samples_split=6, min_samples_leaf=1, max_features=sqrt, max_depth=30 \n",
      "[CV]  n_estimators=1471, min_samples_split=6, min_samples_leaf=1, max_features=sqrt, max_depth=30, total=   3.5s\n",
      "[CV] n_estimators=546, min_samples_split=6, min_samples_leaf=1, max_features=sqrt, max_depth=60 \n",
      "[CV]  n_estimators=546, min_samples_split=6, min_samples_leaf=1, max_features=sqrt, max_depth=60, total=   1.3s\n",
      "[CV] n_estimators=546, min_samples_split=6, min_samples_leaf=1, max_features=sqrt, max_depth=60 \n",
      "[CV]  n_estimators=546, min_samples_split=6, min_samples_leaf=1, max_features=sqrt, max_depth=60, total=   1.3s\n",
      "[CV] n_estimators=546, min_samples_split=6, min_samples_leaf=1, max_features=sqrt, max_depth=60 \n",
      "[CV]  n_estimators=546, min_samples_split=6, min_samples_leaf=1, max_features=sqrt, max_depth=60, total=   1.3s\n",
      "[CV] n_estimators=546, min_samples_split=10, min_samples_leaf=5, max_features=sqrt, max_depth=20 \n",
      "[CV]  n_estimators=546, min_samples_split=10, min_samples_leaf=5, max_features=sqrt, max_depth=20, total=   0.9s\n",
      "[CV] n_estimators=546, min_samples_split=10, min_samples_leaf=5, max_features=sqrt, max_depth=20 \n",
      "[CV]  n_estimators=546, min_samples_split=10, min_samples_leaf=5, max_features=sqrt, max_depth=20, total=   0.9s\n",
      "[CV] n_estimators=546, min_samples_split=10, min_samples_leaf=5, max_features=sqrt, max_depth=20 \n",
      "[CV]  n_estimators=546, min_samples_split=10, min_samples_leaf=5, max_features=sqrt, max_depth=20, total=   0.9s\n",
      "[CV] n_estimators=1339, min_samples_split=10, min_samples_leaf=5, max_features=auto, max_depth=90 \n",
      "[CV]  n_estimators=1339, min_samples_split=10, min_samples_leaf=5, max_features=auto, max_depth=90, total=  13.9s\n",
      "[CV] n_estimators=1339, min_samples_split=10, min_samples_leaf=5, max_features=auto, max_depth=90 \n",
      "[CV]  n_estimators=1339, min_samples_split=10, min_samples_leaf=5, max_features=auto, max_depth=90, total=  13.5s\n",
      "[CV] n_estimators=1339, min_samples_split=10, min_samples_leaf=5, max_features=auto, max_depth=90 \n",
      "[CV]  n_estimators=1339, min_samples_split=10, min_samples_leaf=5, max_features=auto, max_depth=90, total=  13.5s\n",
      "[CV] n_estimators=546, min_samples_split=6, min_samples_leaf=5, max_features=sqrt, max_depth=40 \n",
      "[CV]  n_estimators=546, min_samples_split=6, min_samples_leaf=5, max_features=sqrt, max_depth=40, total=   0.9s\n",
      "[CV] n_estimators=546, min_samples_split=6, min_samples_leaf=5, max_features=sqrt, max_depth=40 \n"
     ]
    },
    {
     "name": "stdout",
     "output_type": "stream",
     "text": [
      "[CV]  n_estimators=546, min_samples_split=6, min_samples_leaf=5, max_features=sqrt, max_depth=40, total=   0.9s\n",
      "[CV] n_estimators=546, min_samples_split=6, min_samples_leaf=5, max_features=sqrt, max_depth=40 \n",
      "[CV]  n_estimators=546, min_samples_split=6, min_samples_leaf=5, max_features=sqrt, max_depth=40, total=   0.9s\n",
      "[CV] n_estimators=1471, min_samples_split=6, min_samples_leaf=5, max_features=sqrt, max_depth=90 \n",
      "[CV]  n_estimators=1471, min_samples_split=6, min_samples_leaf=5, max_features=sqrt, max_depth=90, total=   2.6s\n",
      "[CV] n_estimators=1471, min_samples_split=6, min_samples_leaf=5, max_features=sqrt, max_depth=90 \n",
      "[CV]  n_estimators=1471, min_samples_split=6, min_samples_leaf=5, max_features=sqrt, max_depth=90, total=   3.0s\n",
      "[CV] n_estimators=1471, min_samples_split=6, min_samples_leaf=5, max_features=sqrt, max_depth=90 \n",
      "[CV]  n_estimators=1471, min_samples_split=6, min_samples_leaf=5, max_features=sqrt, max_depth=90, total=   2.5s\n",
      "[CV] n_estimators=1867, min_samples_split=10, min_samples_leaf=1, max_features=auto, max_depth=50 \n",
      "[CV]  n_estimators=1867, min_samples_split=10, min_samples_leaf=1, max_features=auto, max_depth=50, total=  22.4s\n",
      "[CV] n_estimators=1867, min_samples_split=10, min_samples_leaf=1, max_features=auto, max_depth=50 \n",
      "[CV]  n_estimators=1867, min_samples_split=10, min_samples_leaf=1, max_features=auto, max_depth=50, total=  22.0s\n",
      "[CV] n_estimators=1867, min_samples_split=10, min_samples_leaf=1, max_features=auto, max_depth=50 \n",
      "[CV]  n_estimators=1867, min_samples_split=10, min_samples_leaf=1, max_features=auto, max_depth=50, total=  22.0s\n",
      "[CV] n_estimators=1603, min_samples_split=6, min_samples_leaf=3, max_features=auto, max_depth=40 \n",
      "[CV]  n_estimators=1603, min_samples_split=6, min_samples_leaf=3, max_features=auto, max_depth=40, total=  19.7s\n",
      "[CV] n_estimators=1603, min_samples_split=6, min_samples_leaf=3, max_features=auto, max_depth=40 \n",
      "[CV]  n_estimators=1603, min_samples_split=6, min_samples_leaf=3, max_features=auto, max_depth=40, total=  19.4s\n",
      "[CV] n_estimators=1603, min_samples_split=6, min_samples_leaf=3, max_features=auto, max_depth=40 \n",
      "[CV]  n_estimators=1603, min_samples_split=6, min_samples_leaf=3, max_features=auto, max_depth=40, total= 3.1min\n",
      "[CV] n_estimators=1339, min_samples_split=2, min_samples_leaf=5, max_features=sqrt, max_depth=100 \n",
      "[CV]  n_estimators=1339, min_samples_split=2, min_samples_leaf=5, max_features=sqrt, max_depth=100, total=   2.9s\n",
      "[CV] n_estimators=1339, min_samples_split=2, min_samples_leaf=5, max_features=sqrt, max_depth=100 \n",
      "[CV]  n_estimators=1339, min_samples_split=2, min_samples_leaf=5, max_features=sqrt, max_depth=100, total=   2.4s\n",
      "[CV] n_estimators=1339, min_samples_split=2, min_samples_leaf=5, max_features=sqrt, max_depth=100 \n",
      "[CV]  n_estimators=1339, min_samples_split=2, min_samples_leaf=5, max_features=sqrt, max_depth=100, total=   2.4s\n",
      "[CV] n_estimators=1735, min_samples_split=10, min_samples_leaf=5, max_features=auto, max_depth=40 \n",
      "[CV]  n_estimators=1735, min_samples_split=10, min_samples_leaf=5, max_features=auto, max_depth=40, total=  18.5s\n",
      "[CV] n_estimators=1735, min_samples_split=10, min_samples_leaf=5, max_features=auto, max_depth=40 \n",
      "[CV]  n_estimators=1735, min_samples_split=10, min_samples_leaf=5, max_features=auto, max_depth=40, total=  17.6s\n",
      "[CV] n_estimators=1735, min_samples_split=10, min_samples_leaf=5, max_features=auto, max_depth=40 \n",
      "[CV]  n_estimators=1735, min_samples_split=10, min_samples_leaf=5, max_features=auto, max_depth=40, total=  17.7s\n",
      "[CV] n_estimators=2000, min_samples_split=2, min_samples_leaf=3, max_features=auto, max_depth=40 \n",
      "[CV]  n_estimators=2000, min_samples_split=2, min_samples_leaf=3, max_features=auto, max_depth=40, total=  24.6s\n",
      "[CV] n_estimators=2000, min_samples_split=2, min_samples_leaf=3, max_features=auto, max_depth=40 \n",
      "[CV]  n_estimators=2000, min_samples_split=2, min_samples_leaf=3, max_features=auto, max_depth=40, total=  24.0s\n",
      "[CV] n_estimators=2000, min_samples_split=2, min_samples_leaf=3, max_features=auto, max_depth=40 \n",
      "[CV]  n_estimators=2000, min_samples_split=2, min_samples_leaf=3, max_features=auto, max_depth=40, total=  24.1s\n",
      "[CV] n_estimators=1075, min_samples_split=2, min_samples_leaf=3, max_features=sqrt, max_depth=90 \n",
      "[CV]  n_estimators=1075, min_samples_split=2, min_samples_leaf=3, max_features=sqrt, max_depth=90, total=   2.0s\n",
      "[CV] n_estimators=1075, min_samples_split=2, min_samples_leaf=3, max_features=sqrt, max_depth=90 \n",
      "[CV]  n_estimators=1075, min_samples_split=2, min_samples_leaf=3, max_features=sqrt, max_depth=90, total=   1.9s\n",
      "[CV] n_estimators=1075, min_samples_split=2, min_samples_leaf=3, max_features=sqrt, max_depth=90 \n",
      "[CV]  n_estimators=1075, min_samples_split=2, min_samples_leaf=3, max_features=sqrt, max_depth=90, total=   1.9s\n",
      "[CV] n_estimators=1867, min_samples_split=6, min_samples_leaf=3, max_features=sqrt, max_depth=20 \n",
      "[CV]  n_estimators=1867, min_samples_split=6, min_samples_leaf=3, max_features=sqrt, max_depth=20, total=   3.4s\n",
      "[CV] n_estimators=1867, min_samples_split=6, min_samples_leaf=3, max_features=sqrt, max_depth=20 \n",
      "[CV]  n_estimators=1867, min_samples_split=6, min_samples_leaf=3, max_features=sqrt, max_depth=20, total=   3.3s\n",
      "[CV] n_estimators=1867, min_samples_split=6, min_samples_leaf=3, max_features=sqrt, max_depth=20 \n",
      "[CV]  n_estimators=1867, min_samples_split=6, min_samples_leaf=3, max_features=sqrt, max_depth=20, total=   3.4s\n",
      "[CV] n_estimators=414, min_samples_split=2, min_samples_leaf=5, max_features=sqrt, max_depth=70 \n",
      "[CV]  n_estimators=414, min_samples_split=2, min_samples_leaf=5, max_features=sqrt, max_depth=70, total=   0.7s\n",
      "[CV] n_estimators=414, min_samples_split=2, min_samples_leaf=5, max_features=sqrt, max_depth=70 \n",
      "[CV]  n_estimators=414, min_samples_split=2, min_samples_leaf=5, max_features=sqrt, max_depth=70, total=   0.7s\n",
      "[CV] n_estimators=414, min_samples_split=2, min_samples_leaf=5, max_features=sqrt, max_depth=70 \n",
      "[CV]  n_estimators=414, min_samples_split=2, min_samples_leaf=5, max_features=sqrt, max_depth=70, total=   0.7s\n",
      "[CV] n_estimators=1471, min_samples_split=2, min_samples_leaf=3, max_features=sqrt, max_depth=50 \n",
      "[CV]  n_estimators=1471, min_samples_split=2, min_samples_leaf=3, max_features=sqrt, max_depth=50, total=   2.7s\n",
      "[CV] n_estimators=1471, min_samples_split=2, min_samples_leaf=3, max_features=sqrt, max_depth=50 \n",
      "[CV]  n_estimators=1471, min_samples_split=2, min_samples_leaf=3, max_features=sqrt, max_depth=50, total=   2.6s\n",
      "[CV] n_estimators=1471, min_samples_split=2, min_samples_leaf=3, max_features=sqrt, max_depth=50 \n",
      "[CV]  n_estimators=1471, min_samples_split=2, min_samples_leaf=3, max_features=sqrt, max_depth=50, total=   2.7s\n",
      "[CV] n_estimators=546, min_samples_split=2, min_samples_leaf=5, max_features=sqrt, max_depth=60 \n",
      "[CV]  n_estimators=546, min_samples_split=2, min_samples_leaf=5, max_features=sqrt, max_depth=60, total=   0.9s\n",
      "[CV] n_estimators=546, min_samples_split=2, min_samples_leaf=5, max_features=sqrt, max_depth=60 \n",
      "[CV]  n_estimators=546, min_samples_split=2, min_samples_leaf=5, max_features=sqrt, max_depth=60, total=   0.9s\n",
      "[CV] n_estimators=546, min_samples_split=2, min_samples_leaf=5, max_features=sqrt, max_depth=60 \n",
      "[CV]  n_estimators=546, min_samples_split=2, min_samples_leaf=5, max_features=sqrt, max_depth=60, total=   0.9s\n",
      "[CV] n_estimators=2000, min_samples_split=10, min_samples_leaf=3, max_features=auto, max_depth=70 \n",
      "[CV]  n_estimators=2000, min_samples_split=10, min_samples_leaf=3, max_features=auto, max_depth=70, total=  21.8s\n",
      "[CV] n_estimators=2000, min_samples_split=10, min_samples_leaf=3, max_features=auto, max_depth=70 \n",
      "[CV]  n_estimators=2000, min_samples_split=10, min_samples_leaf=3, max_features=auto, max_depth=70, total=  21.5s\n",
      "[CV] n_estimators=2000, min_samples_split=10, min_samples_leaf=3, max_features=auto, max_depth=70 \n",
      "[CV]  n_estimators=2000, min_samples_split=10, min_samples_leaf=3, max_features=auto, max_depth=70, total=  21.3s\n",
      "[CV] n_estimators=1207, min_samples_split=2, min_samples_leaf=5, max_features=sqrt, max_depth=10 \n",
      "[CV]  n_estimators=1207, min_samples_split=2, min_samples_leaf=5, max_features=sqrt, max_depth=10, total=   1.9s\n",
      "[CV] n_estimators=1207, min_samples_split=2, min_samples_leaf=5, max_features=sqrt, max_depth=10 \n"
     ]
    },
    {
     "name": "stdout",
     "output_type": "stream",
     "text": [
      "[CV]  n_estimators=1207, min_samples_split=2, min_samples_leaf=5, max_features=sqrt, max_depth=10, total=   1.9s\n",
      "[CV] n_estimators=1207, min_samples_split=2, min_samples_leaf=5, max_features=sqrt, max_depth=10 \n",
      "[CV]  n_estimators=1207, min_samples_split=2, min_samples_leaf=5, max_features=sqrt, max_depth=10, total=   1.9s\n",
      "[CV] n_estimators=678, min_samples_split=2, min_samples_leaf=3, max_features=auto, max_depth=90 \n",
      "[CV]  n_estimators=678, min_samples_split=2, min_samples_leaf=3, max_features=auto, max_depth=90, total=   8.3s\n",
      "[CV] n_estimators=678, min_samples_split=2, min_samples_leaf=3, max_features=auto, max_depth=90 \n",
      "[CV]  n_estimators=678, min_samples_split=2, min_samples_leaf=3, max_features=auto, max_depth=90, total=   8.1s\n",
      "[CV] n_estimators=678, min_samples_split=2, min_samples_leaf=3, max_features=auto, max_depth=90 \n",
      "[CV]  n_estimators=678, min_samples_split=2, min_samples_leaf=3, max_features=auto, max_depth=90, total=   8.2s\n",
      "[CV] n_estimators=810, min_samples_split=2, min_samples_leaf=5, max_features=auto, max_depth=20 \n",
      "[CV]  n_estimators=810, min_samples_split=2, min_samples_leaf=5, max_features=auto, max_depth=20, total=   8.4s\n",
      "[CV] n_estimators=810, min_samples_split=2, min_samples_leaf=5, max_features=auto, max_depth=20 \n",
      "[CV]  n_estimators=810, min_samples_split=2, min_samples_leaf=5, max_features=auto, max_depth=20, total=   8.2s\n",
      "[CV] n_estimators=810, min_samples_split=2, min_samples_leaf=5, max_features=auto, max_depth=20 \n",
      "[CV]  n_estimators=810, min_samples_split=2, min_samples_leaf=5, max_features=auto, max_depth=20, total=   8.2s\n",
      "[CV] n_estimators=810, min_samples_split=6, min_samples_leaf=5, max_features=sqrt, max_depth=40 \n",
      "[CV]  n_estimators=810, min_samples_split=6, min_samples_leaf=5, max_features=sqrt, max_depth=40, total=   1.3s\n",
      "[CV] n_estimators=810, min_samples_split=6, min_samples_leaf=5, max_features=sqrt, max_depth=40 \n",
      "[CV]  n_estimators=810, min_samples_split=6, min_samples_leaf=5, max_features=sqrt, max_depth=40, total=   1.3s\n",
      "[CV] n_estimators=810, min_samples_split=6, min_samples_leaf=5, max_features=sqrt, max_depth=40 \n",
      "[CV]  n_estimators=810, min_samples_split=6, min_samples_leaf=5, max_features=sqrt, max_depth=40, total=   1.3s\n",
      "[CV] n_estimators=414, min_samples_split=6, min_samples_leaf=5, max_features=sqrt, max_depth=100 \n",
      "[CV]  n_estimators=414, min_samples_split=6, min_samples_leaf=5, max_features=sqrt, max_depth=100, total=   0.7s\n",
      "[CV] n_estimators=414, min_samples_split=6, min_samples_leaf=5, max_features=sqrt, max_depth=100 \n",
      "[CV]  n_estimators=414, min_samples_split=6, min_samples_leaf=5, max_features=sqrt, max_depth=100, total=   0.7s\n",
      "[CV] n_estimators=414, min_samples_split=6, min_samples_leaf=5, max_features=sqrt, max_depth=100 \n",
      "[CV]  n_estimators=414, min_samples_split=6, min_samples_leaf=5, max_features=sqrt, max_depth=100, total=   0.7s\n",
      "[CV] n_estimators=2000, min_samples_split=2, min_samples_leaf=1, max_features=sqrt, max_depth=80 \n",
      "[CV]  n_estimators=2000, min_samples_split=2, min_samples_leaf=1, max_features=sqrt, max_depth=80, total=   6.6s\n",
      "[CV] n_estimators=2000, min_samples_split=2, min_samples_leaf=1, max_features=sqrt, max_depth=80 \n",
      "[CV]  n_estimators=2000, min_samples_split=2, min_samples_leaf=1, max_features=sqrt, max_depth=80, total=   6.6s\n",
      "[CV] n_estimators=2000, min_samples_split=2, min_samples_leaf=1, max_features=sqrt, max_depth=80 \n",
      "[CV]  n_estimators=2000, min_samples_split=2, min_samples_leaf=1, max_features=sqrt, max_depth=80, total=   6.6s\n",
      "[CV] n_estimators=1339, min_samples_split=6, min_samples_leaf=3, max_features=auto, max_depth=40 \n",
      "[CV]  n_estimators=1339, min_samples_split=6, min_samples_leaf=3, max_features=auto, max_depth=40, total=  16.5s\n",
      "[CV] n_estimators=1339, min_samples_split=6, min_samples_leaf=3, max_features=auto, max_depth=40 \n",
      "[CV]  n_estimators=1339, min_samples_split=6, min_samples_leaf=3, max_features=auto, max_depth=40, total=  16.2s\n",
      "[CV] n_estimators=1339, min_samples_split=6, min_samples_leaf=3, max_features=auto, max_depth=40 \n",
      "[CV]  n_estimators=1339, min_samples_split=6, min_samples_leaf=3, max_features=auto, max_depth=40, total=  16.1s\n",
      "[CV] n_estimators=1339, min_samples_split=2, min_samples_leaf=3, max_features=sqrt, max_depth=100 \n",
      "[CV]  n_estimators=1339, min_samples_split=2, min_samples_leaf=3, max_features=sqrt, max_depth=100, total=   2.4s\n",
      "[CV] n_estimators=1339, min_samples_split=2, min_samples_leaf=3, max_features=sqrt, max_depth=100 \n",
      "[CV]  n_estimators=1339, min_samples_split=2, min_samples_leaf=3, max_features=sqrt, max_depth=100, total=   2.5s\n",
      "[CV] n_estimators=1339, min_samples_split=2, min_samples_leaf=3, max_features=sqrt, max_depth=100 \n",
      "[CV]  n_estimators=1339, min_samples_split=2, min_samples_leaf=3, max_features=sqrt, max_depth=100, total=   2.4s\n",
      "[CV] n_estimators=942, min_samples_split=6, min_samples_leaf=3, max_features=auto, max_depth=80 \n",
      "[CV]  n_estimators=942, min_samples_split=6, min_samples_leaf=3, max_features=auto, max_depth=80, total=  11.6s\n",
      "[CV] n_estimators=942, min_samples_split=6, min_samples_leaf=3, max_features=auto, max_depth=80 \n",
      "[CV]  n_estimators=942, min_samples_split=6, min_samples_leaf=3, max_features=auto, max_depth=80, total=  11.3s\n",
      "[CV] n_estimators=942, min_samples_split=6, min_samples_leaf=3, max_features=auto, max_depth=80 \n",
      "[CV]  n_estimators=942, min_samples_split=6, min_samples_leaf=3, max_features=auto, max_depth=80, total=  11.3s\n",
      "[CV] n_estimators=414, min_samples_split=10, min_samples_leaf=3, max_features=auto, max_depth=100 \n",
      "[CV]  n_estimators=414, min_samples_split=10, min_samples_leaf=3, max_features=auto, max_depth=100, total=   4.5s\n",
      "[CV] n_estimators=414, min_samples_split=10, min_samples_leaf=3, max_features=auto, max_depth=100 \n",
      "[CV]  n_estimators=414, min_samples_split=10, min_samples_leaf=3, max_features=auto, max_depth=100, total=   4.4s\n",
      "[CV] n_estimators=414, min_samples_split=10, min_samples_leaf=3, max_features=auto, max_depth=100 \n",
      "[CV]  n_estimators=414, min_samples_split=10, min_samples_leaf=3, max_features=auto, max_depth=100, total=   4.4s\n",
      "[CV] n_estimators=414, min_samples_split=10, min_samples_leaf=3, max_features=sqrt, max_depth=70 \n",
      "[CV]  n_estimators=414, min_samples_split=10, min_samples_leaf=3, max_features=sqrt, max_depth=70, total=   0.7s\n",
      "[CV] n_estimators=414, min_samples_split=10, min_samples_leaf=3, max_features=sqrt, max_depth=70 \n",
      "[CV]  n_estimators=414, min_samples_split=10, min_samples_leaf=3, max_features=sqrt, max_depth=70, total=   0.7s\n",
      "[CV] n_estimators=414, min_samples_split=10, min_samples_leaf=3, max_features=sqrt, max_depth=70 \n",
      "[CV]  n_estimators=414, min_samples_split=10, min_samples_leaf=3, max_features=sqrt, max_depth=70, total=   0.7s\n",
      "[CV] n_estimators=2000, min_samples_split=2, min_samples_leaf=5, max_features=sqrt, max_depth=20 \n",
      "[CV]  n_estimators=2000, min_samples_split=2, min_samples_leaf=5, max_features=sqrt, max_depth=20, total=   3.3s\n",
      "[CV] n_estimators=2000, min_samples_split=2, min_samples_leaf=5, max_features=sqrt, max_depth=20 \n",
      "[CV]  n_estimators=2000, min_samples_split=2, min_samples_leaf=5, max_features=sqrt, max_depth=20, total=   3.2s\n",
      "[CV] n_estimators=2000, min_samples_split=2, min_samples_leaf=5, max_features=sqrt, max_depth=20 \n",
      "[CV]  n_estimators=2000, min_samples_split=2, min_samples_leaf=5, max_features=sqrt, max_depth=20, total=   3.2s\n",
      "[CV] n_estimators=150, min_samples_split=2, min_samples_leaf=1, max_features=auto, max_depth=50 \n",
      "[CV]  n_estimators=150, min_samples_split=2, min_samples_leaf=1, max_features=auto, max_depth=50, total=   3.1s\n",
      "[CV] n_estimators=150, min_samples_split=2, min_samples_leaf=1, max_features=auto, max_depth=50 \n",
      "[CV]  n_estimators=150, min_samples_split=2, min_samples_leaf=1, max_features=auto, max_depth=50, total=   3.1s\n",
      "[CV] n_estimators=150, min_samples_split=2, min_samples_leaf=1, max_features=auto, max_depth=50 \n",
      "[CV]  n_estimators=150, min_samples_split=2, min_samples_leaf=1, max_features=auto, max_depth=50, total=   3.1s\n",
      "[CV] n_estimators=1339, min_samples_split=10, min_samples_leaf=3, max_features=auto, max_depth=20 \n",
      "[CV]  n_estimators=1339, min_samples_split=10, min_samples_leaf=3, max_features=auto, max_depth=20, total=  14.5s\n",
      "[CV] n_estimators=1339, min_samples_split=10, min_samples_leaf=3, max_features=auto, max_depth=20 \n"
     ]
    },
    {
     "name": "stdout",
     "output_type": "stream",
     "text": [
      "[CV]  n_estimators=1339, min_samples_split=10, min_samples_leaf=3, max_features=auto, max_depth=20, total=  14.3s\n",
      "[CV] n_estimators=1339, min_samples_split=10, min_samples_leaf=3, max_features=auto, max_depth=20 \n",
      "[CV]  n_estimators=1339, min_samples_split=10, min_samples_leaf=3, max_features=auto, max_depth=20, total=  14.3s\n",
      "[CV] n_estimators=1339, min_samples_split=2, min_samples_leaf=3, max_features=auto, max_depth=20 \n",
      "[CV]  n_estimators=1339, min_samples_split=2, min_samples_leaf=3, max_features=auto, max_depth=20, total=  16.4s\n",
      "[CV] n_estimators=1339, min_samples_split=2, min_samples_leaf=3, max_features=auto, max_depth=20 \n",
      "[CV]  n_estimators=1339, min_samples_split=2, min_samples_leaf=3, max_features=auto, max_depth=20, total=  16.1s\n",
      "[CV] n_estimators=1339, min_samples_split=2, min_samples_leaf=3, max_features=auto, max_depth=20 \n",
      "[CV]  n_estimators=1339, min_samples_split=2, min_samples_leaf=3, max_features=auto, max_depth=20, total=  16.5s\n",
      "[CV] n_estimators=1339, min_samples_split=6, min_samples_leaf=5, max_features=auto, max_depth=80 \n",
      "[CV]  n_estimators=1339, min_samples_split=6, min_samples_leaf=5, max_features=auto, max_depth=80, total=  13.8s\n",
      "[CV] n_estimators=1339, min_samples_split=6, min_samples_leaf=5, max_features=auto, max_depth=80 \n",
      "[CV]  n_estimators=1339, min_samples_split=6, min_samples_leaf=5, max_features=auto, max_depth=80, total=  13.5s\n",
      "[CV] n_estimators=1339, min_samples_split=6, min_samples_leaf=5, max_features=auto, max_depth=80 \n",
      "[CV]  n_estimators=1339, min_samples_split=6, min_samples_leaf=5, max_features=auto, max_depth=80, total=  13.8s\n",
      "[CV] n_estimators=1207, min_samples_split=10, min_samples_leaf=1, max_features=sqrt, max_depth=20 \n",
      "[CV]  n_estimators=1207, min_samples_split=10, min_samples_leaf=1, max_features=sqrt, max_depth=20, total=   2.6s\n",
      "[CV] n_estimators=1207, min_samples_split=10, min_samples_leaf=1, max_features=sqrt, max_depth=20 \n",
      "[CV]  n_estimators=1207, min_samples_split=10, min_samples_leaf=1, max_features=sqrt, max_depth=20, total=   2.6s\n",
      "[CV] n_estimators=1207, min_samples_split=10, min_samples_leaf=1, max_features=sqrt, max_depth=20 \n",
      "[CV]  n_estimators=1207, min_samples_split=10, min_samples_leaf=1, max_features=sqrt, max_depth=20, total=   2.6s\n",
      "[CV] n_estimators=282, min_samples_split=6, min_samples_leaf=5, max_features=sqrt, max_depth=90 \n",
      "[CV]  n_estimators=282, min_samples_split=6, min_samples_leaf=5, max_features=sqrt, max_depth=90, total=   0.5s\n",
      "[CV] n_estimators=282, min_samples_split=6, min_samples_leaf=5, max_features=sqrt, max_depth=90 \n",
      "[CV]  n_estimators=282, min_samples_split=6, min_samples_leaf=5, max_features=sqrt, max_depth=90, total=   0.5s\n",
      "[CV] n_estimators=282, min_samples_split=6, min_samples_leaf=5, max_features=sqrt, max_depth=90 \n",
      "[CV]  n_estimators=282, min_samples_split=6, min_samples_leaf=5, max_features=sqrt, max_depth=90, total=   0.5s\n",
      "[CV] n_estimators=546, min_samples_split=10, min_samples_leaf=5, max_features=auto, max_depth=20 \n",
      "[CV]  n_estimators=546, min_samples_split=10, min_samples_leaf=5, max_features=auto, max_depth=20, total=   5.6s\n",
      "[CV] n_estimators=546, min_samples_split=10, min_samples_leaf=5, max_features=auto, max_depth=20 \n",
      "[CV]  n_estimators=546, min_samples_split=10, min_samples_leaf=5, max_features=auto, max_depth=20, total=   5.5s\n",
      "[CV] n_estimators=546, min_samples_split=10, min_samples_leaf=5, max_features=auto, max_depth=20 \n",
      "[CV]  n_estimators=546, min_samples_split=10, min_samples_leaf=5, max_features=auto, max_depth=20, total=   5.5s\n",
      "[CV] n_estimators=150, min_samples_split=2, min_samples_leaf=1, max_features=auto, max_depth=20 \n",
      "[CV]  n_estimators=150, min_samples_split=2, min_samples_leaf=1, max_features=auto, max_depth=20, total=   3.1s\n",
      "[CV] n_estimators=150, min_samples_split=2, min_samples_leaf=1, max_features=auto, max_depth=20 \n",
      "[CV]  n_estimators=150, min_samples_split=2, min_samples_leaf=1, max_features=auto, max_depth=20, total=   3.1s\n",
      "[CV] n_estimators=150, min_samples_split=2, min_samples_leaf=1, max_features=auto, max_depth=20 \n",
      "[CV]  n_estimators=150, min_samples_split=2, min_samples_leaf=1, max_features=auto, max_depth=20, total=   3.1s\n",
      "[CV] n_estimators=1339, min_samples_split=10, min_samples_leaf=1, max_features=sqrt, max_depth=80 \n",
      "[CV]  n_estimators=1339, min_samples_split=10, min_samples_leaf=1, max_features=sqrt, max_depth=80, total=   2.9s\n",
      "[CV] n_estimators=1339, min_samples_split=10, min_samples_leaf=1, max_features=sqrt, max_depth=80 \n",
      "[CV]  n_estimators=1339, min_samples_split=10, min_samples_leaf=1, max_features=sqrt, max_depth=80, total=   3.0s\n",
      "[CV] n_estimators=1339, min_samples_split=10, min_samples_leaf=1, max_features=sqrt, max_depth=80 \n",
      "[CV]  n_estimators=1339, min_samples_split=10, min_samples_leaf=1, max_features=sqrt, max_depth=80, total=   2.9s\n",
      "[CV] n_estimators=2000, min_samples_split=2, min_samples_leaf=3, max_features=sqrt, max_depth=20 \n",
      "[CV]  n_estimators=2000, min_samples_split=2, min_samples_leaf=3, max_features=sqrt, max_depth=20, total=   3.6s\n",
      "[CV] n_estimators=2000, min_samples_split=2, min_samples_leaf=3, max_features=sqrt, max_depth=20 \n",
      "[CV]  n_estimators=2000, min_samples_split=2, min_samples_leaf=3, max_features=sqrt, max_depth=20, total=   3.6s\n",
      "[CV] n_estimators=2000, min_samples_split=2, min_samples_leaf=3, max_features=sqrt, max_depth=20 \n",
      "[CV]  n_estimators=2000, min_samples_split=2, min_samples_leaf=3, max_features=sqrt, max_depth=20, total=   3.6s\n",
      "[CV] n_estimators=1339, min_samples_split=10, min_samples_leaf=3, max_features=sqrt, max_depth=60 \n",
      "[CV]  n_estimators=1339, min_samples_split=10, min_samples_leaf=3, max_features=sqrt, max_depth=60, total=   2.4s\n",
      "[CV] n_estimators=1339, min_samples_split=10, min_samples_leaf=3, max_features=sqrt, max_depth=60 \n",
      "[CV]  n_estimators=1339, min_samples_split=10, min_samples_leaf=3, max_features=sqrt, max_depth=60, total=   2.3s\n",
      "[CV] n_estimators=1339, min_samples_split=10, min_samples_leaf=3, max_features=sqrt, max_depth=60 \n",
      "[CV]  n_estimators=1339, min_samples_split=10, min_samples_leaf=3, max_features=sqrt, max_depth=60, total=   2.3s\n",
      "[CV] n_estimators=678, min_samples_split=2, min_samples_leaf=1, max_features=auto, max_depth=30 \n",
      "[CV]  n_estimators=678, min_samples_split=2, min_samples_leaf=1, max_features=auto, max_depth=30, total=  14.1s\n",
      "[CV] n_estimators=678, min_samples_split=2, min_samples_leaf=1, max_features=auto, max_depth=30 \n",
      "[CV]  n_estimators=678, min_samples_split=2, min_samples_leaf=1, max_features=auto, max_depth=30, total=  13.9s\n",
      "[CV] n_estimators=678, min_samples_split=2, min_samples_leaf=1, max_features=auto, max_depth=30 \n",
      "[CV]  n_estimators=678, min_samples_split=2, min_samples_leaf=1, max_features=auto, max_depth=30, total=  14.0s\n",
      "[CV] n_estimators=414, min_samples_split=10, min_samples_leaf=1, max_features=auto, max_depth=30 \n",
      "[CV]  n_estimators=414, min_samples_split=10, min_samples_leaf=1, max_features=auto, max_depth=30, total=   5.0s\n",
      "[CV] n_estimators=414, min_samples_split=10, min_samples_leaf=1, max_features=auto, max_depth=30 \n",
      "[CV]  n_estimators=414, min_samples_split=10, min_samples_leaf=1, max_features=auto, max_depth=30, total=   4.9s\n",
      "[CV] n_estimators=414, min_samples_split=10, min_samples_leaf=1, max_features=auto, max_depth=30 \n",
      "[CV]  n_estimators=414, min_samples_split=10, min_samples_leaf=1, max_features=auto, max_depth=30, total=   4.8s\n",
      "[CV] n_estimators=942, min_samples_split=6, min_samples_leaf=1, max_features=auto, max_depth=20 \n",
      "[CV]  n_estimators=942, min_samples_split=6, min_samples_leaf=1, max_features=auto, max_depth=20, total=  13.0s\n",
      "[CV] n_estimators=942, min_samples_split=6, min_samples_leaf=1, max_features=auto, max_depth=20 \n",
      "[CV]  n_estimators=942, min_samples_split=6, min_samples_leaf=1, max_features=auto, max_depth=20, total=  12.9s\n",
      "[CV] n_estimators=942, min_samples_split=6, min_samples_leaf=1, max_features=auto, max_depth=20 \n",
      "[CV]  n_estimators=942, min_samples_split=6, min_samples_leaf=1, max_features=auto, max_depth=20, total=  12.8s\n",
      "[CV] n_estimators=810, min_samples_split=2, min_samples_leaf=3, max_features=sqrt, max_depth=70 \n",
      "[CV]  n_estimators=810, min_samples_split=2, min_samples_leaf=3, max_features=sqrt, max_depth=70, total=   1.5s\n",
      "[CV] n_estimators=810, min_samples_split=2, min_samples_leaf=3, max_features=sqrt, max_depth=70 \n"
     ]
    },
    {
     "name": "stdout",
     "output_type": "stream",
     "text": [
      "[CV]  n_estimators=810, min_samples_split=2, min_samples_leaf=3, max_features=sqrt, max_depth=70, total=   1.5s\n",
      "[CV] n_estimators=810, min_samples_split=2, min_samples_leaf=3, max_features=sqrt, max_depth=70 \n",
      "[CV]  n_estimators=810, min_samples_split=2, min_samples_leaf=3, max_features=sqrt, max_depth=70, total=   1.5s\n",
      "[CV] n_estimators=150, min_samples_split=10, min_samples_leaf=5, max_features=sqrt, max_depth=80 \n",
      "[CV]  n_estimators=150, min_samples_split=10, min_samples_leaf=5, max_features=sqrt, max_depth=80, total=   0.3s\n",
      "[CV] n_estimators=150, min_samples_split=10, min_samples_leaf=5, max_features=sqrt, max_depth=80 \n",
      "[CV]  n_estimators=150, min_samples_split=10, min_samples_leaf=5, max_features=sqrt, max_depth=80, total=   0.3s\n",
      "[CV] n_estimators=150, min_samples_split=10, min_samples_leaf=5, max_features=sqrt, max_depth=80 \n",
      "[CV]  n_estimators=150, min_samples_split=10, min_samples_leaf=5, max_features=sqrt, max_depth=80, total=   0.3s\n",
      "[CV] n_estimators=1603, min_samples_split=10, min_samples_leaf=1, max_features=auto, max_depth=60 \n",
      "[CV]  n_estimators=1603, min_samples_split=10, min_samples_leaf=1, max_features=auto, max_depth=60, total=  19.2s\n",
      "[CV] n_estimators=1603, min_samples_split=10, min_samples_leaf=1, max_features=auto, max_depth=60 \n",
      "[CV]  n_estimators=1603, min_samples_split=10, min_samples_leaf=1, max_features=auto, max_depth=60, total=  18.9s\n",
      "[CV] n_estimators=1603, min_samples_split=10, min_samples_leaf=1, max_features=auto, max_depth=60 \n",
      "[CV]  n_estimators=1603, min_samples_split=10, min_samples_leaf=1, max_features=auto, max_depth=60, total=  18.7s\n",
      "[CV] n_estimators=546, min_samples_split=6, min_samples_leaf=5, max_features=sqrt, max_depth=100 \n",
      "[CV]  n_estimators=546, min_samples_split=6, min_samples_leaf=5, max_features=sqrt, max_depth=100, total=   0.9s\n",
      "[CV] n_estimators=546, min_samples_split=6, min_samples_leaf=5, max_features=sqrt, max_depth=100 \n",
      "[CV]  n_estimators=546, min_samples_split=6, min_samples_leaf=5, max_features=sqrt, max_depth=100, total=   0.9s\n",
      "[CV] n_estimators=546, min_samples_split=6, min_samples_leaf=5, max_features=sqrt, max_depth=100 \n",
      "[CV]  n_estimators=546, min_samples_split=6, min_samples_leaf=5, max_features=sqrt, max_depth=100, total=   0.9s\n",
      "[CV] n_estimators=942, min_samples_split=6, min_samples_leaf=3, max_features=sqrt, max_depth=20 \n",
      "[CV]  n_estimators=942, min_samples_split=6, min_samples_leaf=3, max_features=sqrt, max_depth=20, total=   1.7s\n",
      "[CV] n_estimators=942, min_samples_split=6, min_samples_leaf=3, max_features=sqrt, max_depth=20 \n",
      "[CV]  n_estimators=942, min_samples_split=6, min_samples_leaf=3, max_features=sqrt, max_depth=20, total=   1.7s\n",
      "[CV] n_estimators=942, min_samples_split=6, min_samples_leaf=3, max_features=sqrt, max_depth=20 \n",
      "[CV]  n_estimators=942, min_samples_split=6, min_samples_leaf=3, max_features=sqrt, max_depth=20, total=   1.7s\n",
      "[CV] n_estimators=1471, min_samples_split=6, min_samples_leaf=5, max_features=auto, max_depth=100 \n",
      "[CV]  n_estimators=1471, min_samples_split=6, min_samples_leaf=5, max_features=auto, max_depth=100, total=  15.2s\n",
      "[CV] n_estimators=1471, min_samples_split=6, min_samples_leaf=5, max_features=auto, max_depth=100 \n",
      "[CV]  n_estimators=1471, min_samples_split=6, min_samples_leaf=5, max_features=auto, max_depth=100, total=  14.9s\n",
      "[CV] n_estimators=1471, min_samples_split=6, min_samples_leaf=5, max_features=auto, max_depth=100 \n",
      "[CV]  n_estimators=1471, min_samples_split=6, min_samples_leaf=5, max_features=auto, max_depth=100, total=  14.9s\n",
      "[CV] n_estimators=1603, min_samples_split=6, min_samples_leaf=3, max_features=auto, max_depth=30 \n",
      "[CV]  n_estimators=1603, min_samples_split=6, min_samples_leaf=3, max_features=auto, max_depth=30, total=  19.7s\n",
      "[CV] n_estimators=1603, min_samples_split=6, min_samples_leaf=3, max_features=auto, max_depth=30 \n",
      "[CV]  n_estimators=1603, min_samples_split=6, min_samples_leaf=3, max_features=auto, max_depth=30, total=  19.3s\n",
      "[CV] n_estimators=1603, min_samples_split=6, min_samples_leaf=3, max_features=auto, max_depth=30 \n",
      "[CV]  n_estimators=1603, min_samples_split=6, min_samples_leaf=3, max_features=auto, max_depth=30, total=  19.3s\n",
      "[CV] n_estimators=1603, min_samples_split=10, min_samples_leaf=1, max_features=sqrt, max_depth=40 \n",
      "[CV]  n_estimators=1603, min_samples_split=10, min_samples_leaf=1, max_features=sqrt, max_depth=40, total=   3.5s\n",
      "[CV] n_estimators=1603, min_samples_split=10, min_samples_leaf=1, max_features=sqrt, max_depth=40 \n",
      "[CV]  n_estimators=1603, min_samples_split=10, min_samples_leaf=1, max_features=sqrt, max_depth=40, total=   3.5s\n",
      "[CV] n_estimators=1603, min_samples_split=10, min_samples_leaf=1, max_features=sqrt, max_depth=40 \n",
      "[CV]  n_estimators=1603, min_samples_split=10, min_samples_leaf=1, max_features=sqrt, max_depth=40, total=   3.5s\n",
      "[CV] n_estimators=1075, min_samples_split=10, min_samples_leaf=1, max_features=auto, max_depth=80 \n",
      "[CV]  n_estimators=1075, min_samples_split=10, min_samples_leaf=1, max_features=auto, max_depth=80, total=  12.9s\n",
      "[CV] n_estimators=1075, min_samples_split=10, min_samples_leaf=1, max_features=auto, max_depth=80 \n",
      "[CV]  n_estimators=1075, min_samples_split=10, min_samples_leaf=1, max_features=auto, max_depth=80, total=  12.9s\n",
      "[CV] n_estimators=1075, min_samples_split=10, min_samples_leaf=1, max_features=auto, max_depth=80 \n",
      "[CV]  n_estimators=1075, min_samples_split=10, min_samples_leaf=1, max_features=auto, max_depth=80, total=  12.7s\n",
      "[CV] n_estimators=150, min_samples_split=2, min_samples_leaf=1, max_features=sqrt, max_depth=40 \n",
      "[CV]  n_estimators=150, min_samples_split=2, min_samples_leaf=1, max_features=sqrt, max_depth=40, total=   0.5s\n",
      "[CV] n_estimators=150, min_samples_split=2, min_samples_leaf=1, max_features=sqrt, max_depth=40 \n",
      "[CV]  n_estimators=150, min_samples_split=2, min_samples_leaf=1, max_features=sqrt, max_depth=40, total=   0.5s\n",
      "[CV] n_estimators=150, min_samples_split=2, min_samples_leaf=1, max_features=sqrt, max_depth=40 \n",
      "[CV]  n_estimators=150, min_samples_split=2, min_samples_leaf=1, max_features=sqrt, max_depth=40, total=   0.5s\n",
      "[CV] n_estimators=1207, min_samples_split=2, min_samples_leaf=3, max_features=sqrt, max_depth=10 \n",
      "[CV]  n_estimators=1207, min_samples_split=2, min_samples_leaf=3, max_features=sqrt, max_depth=10, total=   2.1s\n",
      "[CV] n_estimators=1207, min_samples_split=2, min_samples_leaf=3, max_features=sqrt, max_depth=10 \n",
      "[CV]  n_estimators=1207, min_samples_split=2, min_samples_leaf=3, max_features=sqrt, max_depth=10, total=   2.1s\n",
      "[CV] n_estimators=1207, min_samples_split=2, min_samples_leaf=3, max_features=sqrt, max_depth=10 \n",
      "[CV]  n_estimators=1207, min_samples_split=2, min_samples_leaf=3, max_features=sqrt, max_depth=10, total=   2.1s\n",
      "[CV] n_estimators=2000, min_samples_split=6, min_samples_leaf=5, max_features=sqrt, max_depth=100 \n",
      "[CV]  n_estimators=2000, min_samples_split=6, min_samples_leaf=5, max_features=sqrt, max_depth=100, total=   3.3s\n",
      "[CV] n_estimators=2000, min_samples_split=6, min_samples_leaf=5, max_features=sqrt, max_depth=100 \n",
      "[CV]  n_estimators=2000, min_samples_split=6, min_samples_leaf=5, max_features=sqrt, max_depth=100, total=   3.2s\n",
      "[CV] n_estimators=2000, min_samples_split=6, min_samples_leaf=5, max_features=sqrt, max_depth=100 \n",
      "[CV]  n_estimators=2000, min_samples_split=6, min_samples_leaf=5, max_features=sqrt, max_depth=100, total=   3.2s\n",
      "[CV] n_estimators=942, min_samples_split=6, min_samples_leaf=5, max_features=auto, max_depth=30 \n",
      "[CV]  n_estimators=942, min_samples_split=6, min_samples_leaf=5, max_features=auto, max_depth=30, total=   9.8s\n",
      "[CV] n_estimators=942, min_samples_split=6, min_samples_leaf=5, max_features=auto, max_depth=30 \n",
      "[CV]  n_estimators=942, min_samples_split=6, min_samples_leaf=5, max_features=auto, max_depth=30, total=   9.5s\n",
      "[CV] n_estimators=942, min_samples_split=6, min_samples_leaf=5, max_features=auto, max_depth=30 \n",
      "[CV]  n_estimators=942, min_samples_split=6, min_samples_leaf=5, max_features=auto, max_depth=30, total=   9.5s\n",
      "[CV] n_estimators=282, min_samples_split=10, min_samples_leaf=3, max_features=sqrt, max_depth=100 \n",
      "[CV]  n_estimators=282, min_samples_split=10, min_samples_leaf=3, max_features=sqrt, max_depth=100, total=   0.5s\n",
      "[CV] n_estimators=282, min_samples_split=10, min_samples_leaf=3, max_features=sqrt, max_depth=100 \n"
     ]
    },
    {
     "name": "stdout",
     "output_type": "stream",
     "text": [
      "[CV]  n_estimators=282, min_samples_split=10, min_samples_leaf=3, max_features=sqrt, max_depth=100, total=   0.5s\n",
      "[CV] n_estimators=282, min_samples_split=10, min_samples_leaf=3, max_features=sqrt, max_depth=100 \n",
      "[CV]  n_estimators=282, min_samples_split=10, min_samples_leaf=3, max_features=sqrt, max_depth=100, total=   0.5s\n",
      "[CV] n_estimators=942, min_samples_split=2, min_samples_leaf=1, max_features=sqrt, max_depth=50 \n",
      "[CV]  n_estimators=942, min_samples_split=2, min_samples_leaf=1, max_features=sqrt, max_depth=50, total=   3.1s\n",
      "[CV] n_estimators=942, min_samples_split=2, min_samples_leaf=1, max_features=sqrt, max_depth=50 \n",
      "[CV]  n_estimators=942, min_samples_split=2, min_samples_leaf=1, max_features=sqrt, max_depth=50, total=   3.1s\n",
      "[CV] n_estimators=942, min_samples_split=2, min_samples_leaf=1, max_features=sqrt, max_depth=50 \n",
      "[CV]  n_estimators=942, min_samples_split=2, min_samples_leaf=1, max_features=sqrt, max_depth=50, total=   3.1s\n",
      "[CV] n_estimators=546, min_samples_split=2, min_samples_leaf=5, max_features=auto, max_depth=50 \n",
      "[CV]  n_estimators=546, min_samples_split=2, min_samples_leaf=5, max_features=auto, max_depth=50, total=   5.7s\n",
      "[CV] n_estimators=546, min_samples_split=2, min_samples_leaf=5, max_features=auto, max_depth=50 \n",
      "[CV]  n_estimators=546, min_samples_split=2, min_samples_leaf=5, max_features=auto, max_depth=50, total=   5.5s\n",
      "[CV] n_estimators=546, min_samples_split=2, min_samples_leaf=5, max_features=auto, max_depth=50 \n",
      "[CV]  n_estimators=546, min_samples_split=2, min_samples_leaf=5, max_features=auto, max_depth=50, total=   5.6s\n",
      "[CV] n_estimators=678, min_samples_split=6, min_samples_leaf=5, max_features=auto, max_depth=30 \n",
      "[CV]  n_estimators=678, min_samples_split=6, min_samples_leaf=5, max_features=auto, max_depth=30, total=   7.0s\n",
      "[CV] n_estimators=678, min_samples_split=6, min_samples_leaf=5, max_features=auto, max_depth=30 \n",
      "[CV]  n_estimators=678, min_samples_split=6, min_samples_leaf=5, max_features=auto, max_depth=30, total=   6.8s\n",
      "[CV] n_estimators=678, min_samples_split=6, min_samples_leaf=5, max_features=auto, max_depth=30 \n",
      "[CV]  n_estimators=678, min_samples_split=6, min_samples_leaf=5, max_features=auto, max_depth=30, total=   6.9s\n",
      "[CV] n_estimators=1471, min_samples_split=2, min_samples_leaf=5, max_features=auto, max_depth=70 \n",
      "[CV]  n_estimators=1471, min_samples_split=2, min_samples_leaf=5, max_features=auto, max_depth=70, total=  15.3s\n",
      "[CV] n_estimators=1471, min_samples_split=2, min_samples_leaf=5, max_features=auto, max_depth=70 \n",
      "[CV]  n_estimators=1471, min_samples_split=2, min_samples_leaf=5, max_features=auto, max_depth=70, total=  14.8s\n",
      "[CV] n_estimators=1471, min_samples_split=2, min_samples_leaf=5, max_features=auto, max_depth=70 \n",
      "[CV]  n_estimators=1471, min_samples_split=2, min_samples_leaf=5, max_features=auto, max_depth=70, total=  14.9s\n",
      "[CV] n_estimators=414, min_samples_split=10, min_samples_leaf=3, max_features=auto, max_depth=30 \n",
      "[CV]  n_estimators=414, min_samples_split=10, min_samples_leaf=3, max_features=auto, max_depth=30, total=   4.5s\n",
      "[CV] n_estimators=414, min_samples_split=10, min_samples_leaf=3, max_features=auto, max_depth=30 \n",
      "[CV]  n_estimators=414, min_samples_split=10, min_samples_leaf=3, max_features=auto, max_depth=30, total=   4.4s\n",
      "[CV] n_estimators=414, min_samples_split=10, min_samples_leaf=3, max_features=auto, max_depth=30 \n",
      "[CV]  n_estimators=414, min_samples_split=10, min_samples_leaf=3, max_features=auto, max_depth=30, total=   4.4s\n",
      "[CV] n_estimators=414, min_samples_split=10, min_samples_leaf=1, max_features=auto, max_depth=10 \n",
      "[CV]  n_estimators=414, min_samples_split=10, min_samples_leaf=1, max_features=auto, max_depth=10, total=   4.7s\n",
      "[CV] n_estimators=414, min_samples_split=10, min_samples_leaf=1, max_features=auto, max_depth=10 \n",
      "[CV]  n_estimators=414, min_samples_split=10, min_samples_leaf=1, max_features=auto, max_depth=10, total=   4.7s\n",
      "[CV] n_estimators=414, min_samples_split=10, min_samples_leaf=1, max_features=auto, max_depth=10 \n",
      "[CV]  n_estimators=414, min_samples_split=10, min_samples_leaf=1, max_features=auto, max_depth=10, total=   4.6s\n",
      "[CV] n_estimators=810, min_samples_split=6, min_samples_leaf=1, max_features=sqrt, max_depth=80 \n",
      "[CV]  n_estimators=810, min_samples_split=6, min_samples_leaf=1, max_features=sqrt, max_depth=80, total=   2.0s\n",
      "[CV] n_estimators=810, min_samples_split=6, min_samples_leaf=1, max_features=sqrt, max_depth=80 \n",
      "[CV]  n_estimators=810, min_samples_split=6, min_samples_leaf=1, max_features=sqrt, max_depth=80, total=   2.0s\n",
      "[CV] n_estimators=810, min_samples_split=6, min_samples_leaf=1, max_features=sqrt, max_depth=80 \n",
      "[CV]  n_estimators=810, min_samples_split=6, min_samples_leaf=1, max_features=sqrt, max_depth=80, total=   2.0s\n",
      "[CV] n_estimators=1339, min_samples_split=10, min_samples_leaf=5, max_features=auto, max_depth=100 \n",
      "[CV]  n_estimators=1339, min_samples_split=10, min_samples_leaf=5, max_features=auto, max_depth=100, total=  13.8s\n",
      "[CV] n_estimators=1339, min_samples_split=10, min_samples_leaf=5, max_features=auto, max_depth=100 \n",
      "[CV]  n_estimators=1339, min_samples_split=10, min_samples_leaf=5, max_features=auto, max_depth=100, total=  13.5s\n",
      "[CV] n_estimators=1339, min_samples_split=10, min_samples_leaf=5, max_features=auto, max_depth=100 \n",
      "[CV]  n_estimators=1339, min_samples_split=10, min_samples_leaf=5, max_features=auto, max_depth=100, total=  13.5s\n",
      "[CV] n_estimators=150, min_samples_split=2, min_samples_leaf=3, max_features=sqrt, max_depth=20 \n",
      "[CV]  n_estimators=150, min_samples_split=2, min_samples_leaf=3, max_features=sqrt, max_depth=20, total=   0.3s\n",
      "[CV] n_estimators=150, min_samples_split=2, min_samples_leaf=3, max_features=sqrt, max_depth=20 \n",
      "[CV]  n_estimators=150, min_samples_split=2, min_samples_leaf=3, max_features=sqrt, max_depth=20, total=   0.3s\n",
      "[CV] n_estimators=150, min_samples_split=2, min_samples_leaf=3, max_features=sqrt, max_depth=20 \n",
      "[CV]  n_estimators=150, min_samples_split=2, min_samples_leaf=3, max_features=sqrt, max_depth=20, total=   0.3s\n",
      "[CV] n_estimators=1339, min_samples_split=6, min_samples_leaf=3, max_features=sqrt, max_depth=60 \n",
      "[CV]  n_estimators=1339, min_samples_split=6, min_samples_leaf=3, max_features=sqrt, max_depth=60, total=   2.4s\n",
      "[CV] n_estimators=1339, min_samples_split=6, min_samples_leaf=3, max_features=sqrt, max_depth=60 \n",
      "[CV]  n_estimators=1339, min_samples_split=6, min_samples_leaf=3, max_features=sqrt, max_depth=60, total=   2.4s\n",
      "[CV] n_estimators=1339, min_samples_split=6, min_samples_leaf=3, max_features=sqrt, max_depth=60 \n",
      "[CV]  n_estimators=1339, min_samples_split=6, min_samples_leaf=3, max_features=sqrt, max_depth=60, total=   2.4s\n",
      "[CV] n_estimators=282, min_samples_split=6, min_samples_leaf=3, max_features=sqrt, max_depth=10 \n",
      "[CV]  n_estimators=282, min_samples_split=6, min_samples_leaf=3, max_features=sqrt, max_depth=10, total=   0.5s\n",
      "[CV] n_estimators=282, min_samples_split=6, min_samples_leaf=3, max_features=sqrt, max_depth=10 \n",
      "[CV]  n_estimators=282, min_samples_split=6, min_samples_leaf=3, max_features=sqrt, max_depth=10, total=   0.5s\n",
      "[CV] n_estimators=282, min_samples_split=6, min_samples_leaf=3, max_features=sqrt, max_depth=10 \n",
      "[CV]  n_estimators=282, min_samples_split=6, min_samples_leaf=3, max_features=sqrt, max_depth=10, total=   0.5s\n",
      "[CV] n_estimators=150, min_samples_split=2, min_samples_leaf=5, max_features=sqrt, max_depth=70 \n",
      "[CV]  n_estimators=150, min_samples_split=2, min_samples_leaf=5, max_features=sqrt, max_depth=70, total=   0.3s\n",
      "[CV] n_estimators=150, min_samples_split=2, min_samples_leaf=5, max_features=sqrt, max_depth=70 \n",
      "[CV]  n_estimators=150, min_samples_split=2, min_samples_leaf=5, max_features=sqrt, max_depth=70, total=   0.3s\n",
      "[CV] n_estimators=150, min_samples_split=2, min_samples_leaf=5, max_features=sqrt, max_depth=70 \n",
      "[CV]  n_estimators=150, min_samples_split=2, min_samples_leaf=5, max_features=sqrt, max_depth=70, total=   0.3s\n",
      "[CV] n_estimators=282, min_samples_split=2, min_samples_leaf=1, max_features=sqrt, max_depth=70 \n",
      "[CV]  n_estimators=282, min_samples_split=2, min_samples_leaf=1, max_features=sqrt, max_depth=70, total=   1.0s\n",
      "[CV] n_estimators=282, min_samples_split=2, min_samples_leaf=1, max_features=sqrt, max_depth=70 \n"
     ]
    },
    {
     "name": "stdout",
     "output_type": "stream",
     "text": [
      "[CV]  n_estimators=282, min_samples_split=2, min_samples_leaf=1, max_features=sqrt, max_depth=70, total=   1.0s\n",
      "[CV] n_estimators=282, min_samples_split=2, min_samples_leaf=1, max_features=sqrt, max_depth=70 \n",
      "[CV]  n_estimators=282, min_samples_split=2, min_samples_leaf=1, max_features=sqrt, max_depth=70, total=   1.0s\n",
      "[CV] n_estimators=1603, min_samples_split=6, min_samples_leaf=5, max_features=sqrt, max_depth=20 \n",
      "[CV]  n_estimators=1603, min_samples_split=6, min_samples_leaf=5, max_features=sqrt, max_depth=20, total=   2.7s\n",
      "[CV] n_estimators=1603, min_samples_split=6, min_samples_leaf=5, max_features=sqrt, max_depth=20 \n",
      "[CV]  n_estimators=1603, min_samples_split=6, min_samples_leaf=5, max_features=sqrt, max_depth=20, total=   2.6s\n",
      "[CV] n_estimators=1603, min_samples_split=6, min_samples_leaf=5, max_features=sqrt, max_depth=20 \n",
      "[CV]  n_estimators=1603, min_samples_split=6, min_samples_leaf=5, max_features=sqrt, max_depth=20, total=   2.6s\n",
      "[CV] n_estimators=678, min_samples_split=10, min_samples_leaf=1, max_features=sqrt, max_depth=40 \n",
      "[CV]  n_estimators=678, min_samples_split=10, min_samples_leaf=1, max_features=sqrt, max_depth=40, total=   1.5s\n",
      "[CV] n_estimators=678, min_samples_split=10, min_samples_leaf=1, max_features=sqrt, max_depth=40 \n",
      "[CV]  n_estimators=678, min_samples_split=10, min_samples_leaf=1, max_features=sqrt, max_depth=40, total=   1.5s\n",
      "[CV] n_estimators=678, min_samples_split=10, min_samples_leaf=1, max_features=sqrt, max_depth=40 \n",
      "[CV]  n_estimators=678, min_samples_split=10, min_samples_leaf=1, max_features=sqrt, max_depth=40, total=   1.5s\n",
      "[CV] n_estimators=1603, min_samples_split=6, min_samples_leaf=1, max_features=auto, max_depth=100 \n",
      "[CV]  n_estimators=1603, min_samples_split=6, min_samples_leaf=1, max_features=auto, max_depth=100, total=  22.2s\n",
      "[CV] n_estimators=1603, min_samples_split=6, min_samples_leaf=1, max_features=auto, max_depth=100 \n",
      "[CV]  n_estimators=1603, min_samples_split=6, min_samples_leaf=1, max_features=auto, max_depth=100, total=  21.8s\n",
      "[CV] n_estimators=1603, min_samples_split=6, min_samples_leaf=1, max_features=auto, max_depth=100 \n",
      "[CV]  n_estimators=1603, min_samples_split=6, min_samples_leaf=1, max_features=auto, max_depth=100, total=  21.7s\n",
      "[CV] n_estimators=546, min_samples_split=2, min_samples_leaf=5, max_features=auto, max_depth=10 \n",
      "[CV]  n_estimators=546, min_samples_split=2, min_samples_leaf=5, max_features=auto, max_depth=10, total=   5.6s\n",
      "[CV] n_estimators=546, min_samples_split=2, min_samples_leaf=5, max_features=auto, max_depth=10 \n",
      "[CV]  n_estimators=546, min_samples_split=2, min_samples_leaf=5, max_features=auto, max_depth=10, total=   5.5s\n",
      "[CV] n_estimators=546, min_samples_split=2, min_samples_leaf=5, max_features=auto, max_depth=10 \n",
      "[CV]  n_estimators=546, min_samples_split=2, min_samples_leaf=5, max_features=auto, max_depth=10, total=   5.6s\n",
      "[CV] n_estimators=1603, min_samples_split=2, min_samples_leaf=1, max_features=auto, max_depth=90 \n",
      "[CV]  n_estimators=1603, min_samples_split=2, min_samples_leaf=1, max_features=auto, max_depth=90, total=  33.5s\n",
      "[CV] n_estimators=1603, min_samples_split=2, min_samples_leaf=1, max_features=auto, max_depth=90 \n",
      "[CV]  n_estimators=1603, min_samples_split=2, min_samples_leaf=1, max_features=auto, max_depth=90, total=  32.8s\n",
      "[CV] n_estimators=1603, min_samples_split=2, min_samples_leaf=1, max_features=auto, max_depth=90 \n",
      "[CV]  n_estimators=1603, min_samples_split=2, min_samples_leaf=1, max_features=auto, max_depth=90, total=  32.9s\n",
      "[CV] n_estimators=2000, min_samples_split=2, min_samples_leaf=5, max_features=auto, max_depth=100 \n",
      "[CV]  n_estimators=2000, min_samples_split=2, min_samples_leaf=5, max_features=auto, max_depth=100, total=  20.8s\n",
      "[CV] n_estimators=2000, min_samples_split=2, min_samples_leaf=5, max_features=auto, max_depth=100 \n",
      "[CV]  n_estimators=2000, min_samples_split=2, min_samples_leaf=5, max_features=auto, max_depth=100, total=  20.1s\n",
      "[CV] n_estimators=2000, min_samples_split=2, min_samples_leaf=5, max_features=auto, max_depth=100 \n",
      "[CV]  n_estimators=2000, min_samples_split=2, min_samples_leaf=5, max_features=auto, max_depth=100, total=  20.2s\n",
      "[CV] n_estimators=810, min_samples_split=6, min_samples_leaf=3, max_features=auto, max_depth=90 \n",
      "[CV]  n_estimators=810, min_samples_split=6, min_samples_leaf=3, max_features=auto, max_depth=90, total=  10.1s\n",
      "[CV] n_estimators=810, min_samples_split=6, min_samples_leaf=3, max_features=auto, max_depth=90 \n",
      "[CV]  n_estimators=810, min_samples_split=6, min_samples_leaf=3, max_features=auto, max_depth=90, total=   9.9s\n",
      "[CV] n_estimators=810, min_samples_split=6, min_samples_leaf=3, max_features=auto, max_depth=90 \n",
      "[CV]  n_estimators=810, min_samples_split=6, min_samples_leaf=3, max_features=auto, max_depth=90, total=   9.8s\n",
      "[CV] n_estimators=1075, min_samples_split=6, min_samples_leaf=5, max_features=auto, max_depth=60 \n",
      "[CV]  n_estimators=1075, min_samples_split=6, min_samples_leaf=5, max_features=auto, max_depth=60, total=  11.1s\n",
      "[CV] n_estimators=1075, min_samples_split=6, min_samples_leaf=5, max_features=auto, max_depth=60 \n",
      "[CV]  n_estimators=1075, min_samples_split=6, min_samples_leaf=5, max_features=auto, max_depth=60, total=  10.8s\n",
      "[CV] n_estimators=1075, min_samples_split=6, min_samples_leaf=5, max_features=auto, max_depth=60 \n",
      "[CV]  n_estimators=1075, min_samples_split=6, min_samples_leaf=5, max_features=auto, max_depth=60, total=  10.9s\n",
      "[CV] n_estimators=1603, min_samples_split=2, min_samples_leaf=1, max_features=auto, max_depth=60 \n",
      "[CV]  n_estimators=1603, min_samples_split=2, min_samples_leaf=1, max_features=auto, max_depth=60, total=  33.4s\n",
      "[CV] n_estimators=1603, min_samples_split=2, min_samples_leaf=1, max_features=auto, max_depth=60 \n",
      "[CV]  n_estimators=1603, min_samples_split=2, min_samples_leaf=1, max_features=auto, max_depth=60, total=  32.9s\n",
      "[CV] n_estimators=1603, min_samples_split=2, min_samples_leaf=1, max_features=auto, max_depth=60 \n",
      "[CV]  n_estimators=1603, min_samples_split=2, min_samples_leaf=1, max_features=auto, max_depth=60, total=  32.9s\n",
      "[CV] n_estimators=150, min_samples_split=2, min_samples_leaf=5, max_features=sqrt, max_depth=20 \n",
      "[CV]  n_estimators=150, min_samples_split=2, min_samples_leaf=5, max_features=sqrt, max_depth=20, total=   0.3s\n",
      "[CV] n_estimators=150, min_samples_split=2, min_samples_leaf=5, max_features=sqrt, max_depth=20 \n",
      "[CV]  n_estimators=150, min_samples_split=2, min_samples_leaf=5, max_features=sqrt, max_depth=20, total=   0.3s\n",
      "[CV] n_estimators=150, min_samples_split=2, min_samples_leaf=5, max_features=sqrt, max_depth=20 \n",
      "[CV]  n_estimators=150, min_samples_split=2, min_samples_leaf=5, max_features=sqrt, max_depth=20, total=   0.3s\n",
      "[CV] n_estimators=678, min_samples_split=10, min_samples_leaf=1, max_features=auto, max_depth=50 \n",
      "[CV]  n_estimators=678, min_samples_split=10, min_samples_leaf=1, max_features=auto, max_depth=50, total=   8.1s\n",
      "[CV] n_estimators=678, min_samples_split=10, min_samples_leaf=1, max_features=auto, max_depth=50 \n",
      "[CV]  n_estimators=678, min_samples_split=10, min_samples_leaf=1, max_features=auto, max_depth=50, total=   8.0s\n",
      "[CV] n_estimators=678, min_samples_split=10, min_samples_leaf=1, max_features=auto, max_depth=50 \n",
      "[CV]  n_estimators=678, min_samples_split=10, min_samples_leaf=1, max_features=auto, max_depth=50, total=   7.9s\n",
      "[CV] n_estimators=678, min_samples_split=6, min_samples_leaf=5, max_features=sqrt, max_depth=70 \n",
      "[CV]  n_estimators=678, min_samples_split=6, min_samples_leaf=5, max_features=sqrt, max_depth=70, total=   1.1s\n",
      "[CV] n_estimators=678, min_samples_split=6, min_samples_leaf=5, max_features=sqrt, max_depth=70 \n",
      "[CV]  n_estimators=678, min_samples_split=6, min_samples_leaf=5, max_features=sqrt, max_depth=70, total=   1.1s\n",
      "[CV] n_estimators=678, min_samples_split=6, min_samples_leaf=5, max_features=sqrt, max_depth=70 \n",
      "[CV]  n_estimators=678, min_samples_split=6, min_samples_leaf=5, max_features=sqrt, max_depth=70, total=   1.1s\n",
      "[CV] n_estimators=1471, min_samples_split=10, min_samples_leaf=1, max_features=sqrt, max_depth=50 \n",
      "[CV]  n_estimators=1471, min_samples_split=10, min_samples_leaf=1, max_features=sqrt, max_depth=50, total=   3.2s\n",
      "[CV] n_estimators=1471, min_samples_split=10, min_samples_leaf=1, max_features=sqrt, max_depth=50 \n"
     ]
    },
    {
     "name": "stdout",
     "output_type": "stream",
     "text": [
      "[CV]  n_estimators=1471, min_samples_split=10, min_samples_leaf=1, max_features=sqrt, max_depth=50, total=   3.2s\n",
      "[CV] n_estimators=1471, min_samples_split=10, min_samples_leaf=1, max_features=sqrt, max_depth=50 \n",
      "[CV]  n_estimators=1471, min_samples_split=10, min_samples_leaf=1, max_features=sqrt, max_depth=50, total=   3.2s\n",
      "[CV] n_estimators=150, min_samples_split=2, min_samples_leaf=5, max_features=auto, max_depth=40 \n",
      "[CV]  n_estimators=150, min_samples_split=2, min_samples_leaf=5, max_features=auto, max_depth=40, total=   1.6s\n",
      "[CV] n_estimators=150, min_samples_split=2, min_samples_leaf=5, max_features=auto, max_depth=40 \n",
      "[CV]  n_estimators=150, min_samples_split=2, min_samples_leaf=5, max_features=auto, max_depth=40, total=   1.5s\n",
      "[CV] n_estimators=150, min_samples_split=2, min_samples_leaf=5, max_features=auto, max_depth=40 \n",
      "[CV]  n_estimators=150, min_samples_split=2, min_samples_leaf=5, max_features=auto, max_depth=40, total=   1.5s\n",
      "[CV] n_estimators=546, min_samples_split=10, min_samples_leaf=3, max_features=sqrt, max_depth=100 \n",
      "[CV]  n_estimators=546, min_samples_split=10, min_samples_leaf=3, max_features=sqrt, max_depth=100, total=   1.0s\n",
      "[CV] n_estimators=546, min_samples_split=10, min_samples_leaf=3, max_features=sqrt, max_depth=100 \n",
      "[CV]  n_estimators=546, min_samples_split=10, min_samples_leaf=3, max_features=sqrt, max_depth=100, total=   1.0s\n",
      "[CV] n_estimators=546, min_samples_split=10, min_samples_leaf=3, max_features=sqrt, max_depth=100 \n",
      "[CV]  n_estimators=546, min_samples_split=10, min_samples_leaf=3, max_features=sqrt, max_depth=100, total=   1.0s\n",
      "[CV] n_estimators=1867, min_samples_split=10, min_samples_leaf=3, max_features=auto, max_depth=100 \n",
      "[CV]  n_estimators=1867, min_samples_split=10, min_samples_leaf=3, max_features=auto, max_depth=100, total=  20.5s\n",
      "[CV] n_estimators=1867, min_samples_split=10, min_samples_leaf=3, max_features=auto, max_depth=100 \n",
      "[CV]  n_estimators=1867, min_samples_split=10, min_samples_leaf=3, max_features=auto, max_depth=100, total=  19.8s\n",
      "[CV] n_estimators=1867, min_samples_split=10, min_samples_leaf=3, max_features=auto, max_depth=100 \n",
      "[CV]  n_estimators=1867, min_samples_split=10, min_samples_leaf=3, max_features=auto, max_depth=100, total=  20.0s\n",
      "[CV] n_estimators=282, min_samples_split=2, min_samples_leaf=3, max_features=auto, max_depth=40 \n",
      "[CV]  n_estimators=282, min_samples_split=2, min_samples_leaf=3, max_features=auto, max_depth=40, total=   3.5s\n",
      "[CV] n_estimators=282, min_samples_split=2, min_samples_leaf=3, max_features=auto, max_depth=40 \n",
      "[CV]  n_estimators=282, min_samples_split=2, min_samples_leaf=3, max_features=auto, max_depth=40, total=   3.4s\n",
      "[CV] n_estimators=282, min_samples_split=2, min_samples_leaf=3, max_features=auto, max_depth=40 \n",
      "[CV]  n_estimators=282, min_samples_split=2, min_samples_leaf=3, max_features=auto, max_depth=40, total=   3.4s\n",
      "[CV] n_estimators=1075, min_samples_split=2, min_samples_leaf=3, max_features=sqrt, max_depth=20 \n",
      "[CV]  n_estimators=1075, min_samples_split=2, min_samples_leaf=3, max_features=sqrt, max_depth=20, total=   2.0s\n",
      "[CV] n_estimators=1075, min_samples_split=2, min_samples_leaf=3, max_features=sqrt, max_depth=20 \n",
      "[CV]  n_estimators=1075, min_samples_split=2, min_samples_leaf=3, max_features=sqrt, max_depth=20, total=   2.0s\n",
      "[CV] n_estimators=1075, min_samples_split=2, min_samples_leaf=3, max_features=sqrt, max_depth=20 \n",
      "[CV]  n_estimators=1075, min_samples_split=2, min_samples_leaf=3, max_features=sqrt, max_depth=20, total=   1.9s\n",
      "[CV] n_estimators=1603, min_samples_split=10, min_samples_leaf=3, max_features=sqrt, max_depth=10 \n",
      "[CV]  n_estimators=1603, min_samples_split=10, min_samples_leaf=3, max_features=sqrt, max_depth=10, total=   2.7s\n",
      "[CV] n_estimators=1603, min_samples_split=10, min_samples_leaf=3, max_features=sqrt, max_depth=10 \n",
      "[CV]  n_estimators=1603, min_samples_split=10, min_samples_leaf=3, max_features=sqrt, max_depth=10, total=   2.7s\n",
      "[CV] n_estimators=1603, min_samples_split=10, min_samples_leaf=3, max_features=sqrt, max_depth=10 \n",
      "[CV]  n_estimators=1603, min_samples_split=10, min_samples_leaf=3, max_features=sqrt, max_depth=10, total=   2.7s\n",
      "[CV] n_estimators=678, min_samples_split=2, min_samples_leaf=1, max_features=sqrt, max_depth=30 \n",
      "[CV]  n_estimators=678, min_samples_split=2, min_samples_leaf=1, max_features=sqrt, max_depth=30, total=   2.3s\n",
      "[CV] n_estimators=678, min_samples_split=2, min_samples_leaf=1, max_features=sqrt, max_depth=30 \n",
      "[CV]  n_estimators=678, min_samples_split=2, min_samples_leaf=1, max_features=sqrt, max_depth=30, total=   2.3s\n",
      "[CV] n_estimators=678, min_samples_split=2, min_samples_leaf=1, max_features=sqrt, max_depth=30 \n",
      "[CV]  n_estimators=678, min_samples_split=2, min_samples_leaf=1, max_features=sqrt, max_depth=30, total=   2.3s\n",
      "[CV] n_estimators=1471, min_samples_split=10, min_samples_leaf=1, max_features=sqrt, max_depth=10 \n",
      "[CV]  n_estimators=1471, min_samples_split=10, min_samples_leaf=1, max_features=sqrt, max_depth=10, total=   2.7s\n",
      "[CV] n_estimators=1471, min_samples_split=10, min_samples_leaf=1, max_features=sqrt, max_depth=10 \n",
      "[CV]  n_estimators=1471, min_samples_split=10, min_samples_leaf=1, max_features=sqrt, max_depth=10, total=   2.7s\n",
      "[CV] n_estimators=1471, min_samples_split=10, min_samples_leaf=1, max_features=sqrt, max_depth=10 \n",
      "[CV]  n_estimators=1471, min_samples_split=10, min_samples_leaf=1, max_features=sqrt, max_depth=10, total=   2.8s\n"
     ]
    },
    {
     "name": "stderr",
     "output_type": "stream",
     "text": [
      "[Parallel(n_jobs=1)]: Done 300 out of 300 | elapsed: 38.6min finished\n"
     ]
    },
    {
     "data": {
      "text/plain": [
       "RandomizedSearchCV(cv=3, error_score='raise-deprecating',\n",
       "                   estimator=RandomForestRegressor(bootstrap=True,\n",
       "                                                   criterion='mse',\n",
       "                                                   max_depth=13,\n",
       "                                                   max_features='auto',\n",
       "                                                   max_leaf_nodes=None,\n",
       "                                                   min_impurity_decrease=0.0,\n",
       "                                                   min_impurity_split=None,\n",
       "                                                   min_samples_leaf=1,\n",
       "                                                   min_samples_split=2,\n",
       "                                                   min_weight_fraction_leaf=0.0,\n",
       "                                                   n_estimators=80, n_jobs=None,\n",
       "                                                   oob_score=False,\n",
       "                                                   random_state=0, v...\n",
       "                   iid='warn', n_iter=100, n_jobs=None,\n",
       "                   param_distributions={'max_depth': [10, 20, 30, 40, 50, 60,\n",
       "                                                      70, 80, 90, 100],\n",
       "                                        'max_features': ['auto', 'sqrt'],\n",
       "                                        'min_samples_leaf': [1, 3, 5],\n",
       "                                        'min_samples_split': [2, 6, 10],\n",
       "                                        'n_estimators': [150, 282, 414, 546,\n",
       "                                                         678, 810, 942, 1075,\n",
       "                                                         1207, 1339, 1471, 1603,\n",
       "                                                         1735, 1867, 2000]},\n",
       "                   pre_dispatch='2*n_jobs', random_state=42, refit=True,\n",
       "                   return_train_score=False, scoring=None, verbose=2)"
      ]
     },
     "execution_count": 119,
     "metadata": {},
     "output_type": "execute_result"
    }
   ],
   "source": [
    "rf_random.fit(X_train, y_train)"
   ]
  },
  {
   "cell_type": "code",
   "execution_count": 120,
   "metadata": {},
   "outputs": [
    {
     "data": {
      "text/plain": [
       "{'n_estimators': 678,\n",
       " 'min_samples_split': 2,\n",
       " 'min_samples_leaf': 1,\n",
       " 'max_features': 'auto',\n",
       " 'max_depth': 30}"
      ]
     },
     "execution_count": 120,
     "metadata": {},
     "output_type": "execute_result"
    }
   ],
   "source": [
    "rf_random.best_params_"
   ]
  },
  {
   "cell_type": "code",
   "execution_count": 121,
   "metadata": {},
   "outputs": [
    {
     "name": "stdout",
     "output_type": "stream",
     "text": [
      "The training score is: 0.98519\n",
      "The test     score is: 0.90284\n"
     ]
    }
   ],
   "source": [
    "print(\"The training score is: %.5f\" % (rf_random.best_estimator_.score(X_train, y_train)))\n",
    "print(\"The test     score is: %.5f\" % (rf_random.best_estimator_.score(X_test, y_test)))"
   ]
  },
  {
   "cell_type": "markdown",
   "metadata": {},
   "source": [
    "## Grid Search"
   ]
  },
  {
   "cell_type": "code",
   "execution_count": 163,
   "metadata": {},
   "outputs": [],
   "source": [
    "grid_para_forest = {\n",
    "    'max_depth': range(1, 31, 10),\n",
    "    'n_estimators': range(100, 701, 150)\n",
    "    \n",
    "}"
   ]
  },
  {
   "cell_type": "code",
   "execution_count": 164,
   "metadata": {},
   "outputs": [],
   "source": [
    "grid_search_forest = ms.GridSearchCV(randomForest, grid_para_forest, cv = 3, verbose = 2)"
   ]
  },
  {
   "cell_type": "code",
   "execution_count": 165,
   "metadata": {},
   "outputs": [
    {
     "name": "stdout",
     "output_type": "stream",
     "text": [
      "Fitting 3 folds for each of 15 candidates, totalling 45 fits\n",
      "[CV] max_depth=1, n_estimators=100 ...................................\n"
     ]
    },
    {
     "name": "stderr",
     "output_type": "stream",
     "text": [
      "[Parallel(n_jobs=1)]: Using backend SequentialBackend with 1 concurrent workers.\n"
     ]
    },
    {
     "name": "stdout",
     "output_type": "stream",
     "text": [
      "[CV] .................... max_depth=1, n_estimators=100, total=   0.4s\n",
      "[CV] max_depth=1, n_estimators=100 ...................................\n"
     ]
    },
    {
     "name": "stderr",
     "output_type": "stream",
     "text": [
      "[Parallel(n_jobs=1)]: Done   1 out of   1 | elapsed:    0.4s remaining:    0.0s\n"
     ]
    },
    {
     "name": "stdout",
     "output_type": "stream",
     "text": [
      "[CV] .................... max_depth=1, n_estimators=100, total=   0.3s\n",
      "[CV] max_depth=1, n_estimators=100 ...................................\n",
      "[CV] .................... max_depth=1, n_estimators=100, total=   0.3s\n",
      "[CV] max_depth=1, n_estimators=250 ...................................\n",
      "[CV] .................... max_depth=1, n_estimators=250, total=   0.9s\n",
      "[CV] max_depth=1, n_estimators=250 ...................................\n",
      "[CV] .................... max_depth=1, n_estimators=250, total=   1.0s\n",
      "[CV] max_depth=1, n_estimators=250 ...................................\n",
      "[CV] .................... max_depth=1, n_estimators=250, total=   1.5s\n",
      "[CV] max_depth=1, n_estimators=400 ...................................\n",
      "[CV] .................... max_depth=1, n_estimators=400, total=   1.4s\n",
      "[CV] max_depth=1, n_estimators=400 ...................................\n",
      "[CV] .................... max_depth=1, n_estimators=400, total=   1.3s\n",
      "[CV] max_depth=1, n_estimators=400 ...................................\n",
      "[CV] .................... max_depth=1, n_estimators=400, total=   1.4s\n",
      "[CV] max_depth=1, n_estimators=550 ...................................\n",
      "[CV] .................... max_depth=1, n_estimators=550, total=   1.8s\n",
      "[CV] max_depth=1, n_estimators=550 ...................................\n",
      "[CV] .................... max_depth=1, n_estimators=550, total=   1.8s\n",
      "[CV] max_depth=1, n_estimators=550 ...................................\n",
      "[CV] .................... max_depth=1, n_estimators=550, total=   1.9s\n",
      "[CV] max_depth=1, n_estimators=700 ...................................\n",
      "[CV] .................... max_depth=1, n_estimators=700, total=   2.4s\n",
      "[CV] max_depth=1, n_estimators=700 ...................................\n",
      "[CV] .................... max_depth=1, n_estimators=700, total=   2.6s\n",
      "[CV] max_depth=1, n_estimators=700 ...................................\n",
      "[CV] .................... max_depth=1, n_estimators=700, total=   2.7s\n",
      "[CV] max_depth=11, n_estimators=100 ..................................\n",
      "[CV] ................... max_depth=11, n_estimators=100, total=   1.9s\n",
      "[CV] max_depth=11, n_estimators=100 ..................................\n",
      "[CV] ................... max_depth=11, n_estimators=100, total=   1.9s\n",
      "[CV] max_depth=11, n_estimators=100 ..................................\n",
      "[CV] ................... max_depth=11, n_estimators=100, total=   1.9s\n",
      "[CV] max_depth=11, n_estimators=250 ..................................\n",
      "[CV] ................... max_depth=11, n_estimators=250, total=   4.7s\n",
      "[CV] max_depth=11, n_estimators=250 ..................................\n",
      "[CV] ................... max_depth=11, n_estimators=250, total=   4.7s\n",
      "[CV] max_depth=11, n_estimators=250 ..................................\n",
      "[CV] ................... max_depth=11, n_estimators=250, total=   4.7s\n",
      "[CV] max_depth=11, n_estimators=400 ..................................\n",
      "[CV] ................... max_depth=11, n_estimators=400, total=   7.4s\n",
      "[CV] max_depth=11, n_estimators=400 ..................................\n",
      "[CV] ................... max_depth=11, n_estimators=400, total=   7.6s\n",
      "[CV] max_depth=11, n_estimators=400 ..................................\n",
      "[CV] ................... max_depth=11, n_estimators=400, total=   7.5s\n",
      "[CV] max_depth=11, n_estimators=550 ..................................\n",
      "[CV] ................... max_depth=11, n_estimators=550, total=  10.3s\n",
      "[CV] max_depth=11, n_estimators=550 ..................................\n",
      "[CV] ................... max_depth=11, n_estimators=550, total=  10.3s\n",
      "[CV] max_depth=11, n_estimators=550 ..................................\n",
      "[CV] ................... max_depth=11, n_estimators=550, total=  10.3s\n",
      "[CV] max_depth=11, n_estimators=700 ..................................\n",
      "[CV] ................... max_depth=11, n_estimators=700, total=  13.0s\n",
      "[CV] max_depth=11, n_estimators=700 ..................................\n",
      "[CV] ................... max_depth=11, n_estimators=700, total=  13.1s\n",
      "[CV] max_depth=11, n_estimators=700 ..................................\n",
      "[CV] ................... max_depth=11, n_estimators=700, total=  13.2s\n",
      "[CV] max_depth=21, n_estimators=100 ..................................\n",
      "[CV] ................... max_depth=21, n_estimators=100, total=   2.2s\n",
      "[CV] max_depth=21, n_estimators=100 ..................................\n",
      "[CV] ................... max_depth=21, n_estimators=100, total=   2.2s\n",
      "[CV] max_depth=21, n_estimators=100 ..................................\n",
      "[CV] ................... max_depth=21, n_estimators=100, total=   2.2s\n",
      "[CV] max_depth=21, n_estimators=250 ..................................\n",
      "[CV] ................... max_depth=21, n_estimators=250, total=   5.6s\n",
      "[CV] max_depth=21, n_estimators=250 ..................................\n",
      "[CV] ................... max_depth=21, n_estimators=250, total=   5.5s\n",
      "[CV] max_depth=21, n_estimators=250 ..................................\n",
      "[CV] ................... max_depth=21, n_estimators=250, total=   5.7s\n",
      "[CV] max_depth=21, n_estimators=400 ..................................\n",
      "[CV] ................... max_depth=21, n_estimators=400, total=   8.9s\n",
      "[CV] max_depth=21, n_estimators=400 ..................................\n",
      "[CV] ................... max_depth=21, n_estimators=400, total=   8.8s\n",
      "[CV] max_depth=21, n_estimators=400 ..................................\n",
      "[CV] ................... max_depth=21, n_estimators=400, total=   8.7s\n",
      "[CV] max_depth=21, n_estimators=550 ..................................\n",
      "[CV] ................... max_depth=21, n_estimators=550, total=  12.3s\n",
      "[CV] max_depth=21, n_estimators=550 ..................................\n",
      "[CV] ................... max_depth=21, n_estimators=550, total=  12.0s\n",
      "[CV] max_depth=21, n_estimators=550 ..................................\n",
      "[CV] ................... max_depth=21, n_estimators=550, total=  12.0s\n",
      "[CV] max_depth=21, n_estimators=700 ..................................\n",
      "[CV] ................... max_depth=21, n_estimators=700, total=  15.5s\n",
      "[CV] max_depth=21, n_estimators=700 ..................................\n",
      "[CV] ................... max_depth=21, n_estimators=700, total=  15.3s\n",
      "[CV] max_depth=21, n_estimators=700 ..................................\n",
      "[CV] ................... max_depth=21, n_estimators=700, total=  15.2s\n"
     ]
    },
    {
     "name": "stderr",
     "output_type": "stream",
     "text": [
      "[Parallel(n_jobs=1)]: Done  45 out of  45 | elapsed:  4.4min finished\n"
     ]
    },
    {
     "name": "stdout",
     "output_type": "stream",
     "text": [
      "CPU times: user 4min 38s, sys: 2.04 s, total: 4min 40s\n",
      "Wall time: 4min 41s\n"
     ]
    },
    {
     "data": {
      "text/plain": [
       "GridSearchCV(cv=3, error_score='raise-deprecating',\n",
       "             estimator=RandomForestRegressor(bootstrap=True, criterion='mse',\n",
       "                                             max_depth=13, max_features='auto',\n",
       "                                             max_leaf_nodes=None,\n",
       "                                             min_impurity_decrease=0.0,\n",
       "                                             min_impurity_split=None,\n",
       "                                             min_samples_leaf=1,\n",
       "                                             min_samples_split=2,\n",
       "                                             min_weight_fraction_leaf=0.0,\n",
       "                                             n_estimators=80, n_jobs=None,\n",
       "                                             oob_score=False, random_state=0,\n",
       "                                             verbose=0, warm_start=False),\n",
       "             iid='warn', n_jobs=None,\n",
       "             param_grid={'max_depth': range(1, 31, 10),\n",
       "                         'n_estimators': range(100, 701, 150)},\n",
       "             pre_dispatch='2*n_jobs', refit=True, return_train_score=False,\n",
       "             scoring=None, verbose=2)"
      ]
     },
     "execution_count": 165,
     "metadata": {},
     "output_type": "execute_result"
    }
   ],
   "source": [
    "%time grid_search_forest.fit(X_train, y_train)"
   ]
  },
  {
   "cell_type": "code",
   "execution_count": 166,
   "metadata": {},
   "outputs": [
    {
     "data": {
      "text/plain": [
       "{'max_depth': 11, 'n_estimators': 550}"
      ]
     },
     "execution_count": 166,
     "metadata": {},
     "output_type": "execute_result"
    }
   ],
   "source": [
    "grid_search_forest.best_params_"
   ]
  },
  {
   "cell_type": "code",
   "execution_count": 167,
   "metadata": {},
   "outputs": [
    {
     "data": {
      "text/plain": [
       "0.8871570986455721"
      ]
     },
     "execution_count": 167,
     "metadata": {},
     "output_type": "execute_result"
    }
   ],
   "source": [
    "grid_search_forest.best_score_"
   ]
  },
  {
   "cell_type": "code",
   "execution_count": 168,
   "metadata": {},
   "outputs": [
    {
     "name": "stdout",
     "output_type": "stream",
     "text": [
      "The training score is: 0.98313\n",
      "The test     score is: 0.90266\n"
     ]
    }
   ],
   "source": [
    "print(\"The training score is: %.5f\" % (grid_search_forest.best_estimator_.score(X_train, y_train)))\n",
    "print(\"The test     score is: %.5f\" % (grid_search_forest.best_estimator_.score(X_test, y_test)))"
   ]
  },
  {
   "cell_type": "markdown",
   "metadata": {},
   "source": [
    "<p><a name=\"Random Forest Prediction\"></a></p>\n",
    "\n",
    "## Random Forest Prediction"
   ]
  },
  {
   "cell_type": "code",
   "execution_count": 63,
   "metadata": {},
   "outputs": [],
   "source": [
    "rf_newtest = newtest"
   ]
  },
  {
   "cell_type": "code",
   "execution_count": 64,
   "metadata": {},
   "outputs": [],
   "source": [
    "rf_predictions = randomForest.predict(rf_newtest)"
   ]
  },
  {
   "cell_type": "code",
   "execution_count": 65,
   "metadata": {},
   "outputs": [
    {
     "name": "stderr",
     "output_type": "stream",
     "text": [
      "/Users/thisbekristin/opt/anaconda3/lib/python3.7/site-packages/pandas/core/indexing.py:376: SettingWithCopyWarning: \n",
      "A value is trying to be set on a copy of a slice from a DataFrame.\n",
      "Try using .loc[row_indexer,col_indexer] = value instead\n",
      "\n",
      "See the caveats in the documentation: http://pandas.pydata.org/pandas-docs/stable/user_guide/indexing.html#returning-a-view-versus-a-copy\n",
      "  self.obj[key] = _infer_fill_value(value)\n",
      "/Users/thisbekristin/opt/anaconda3/lib/python3.7/site-packages/pandas/core/indexing.py:494: SettingWithCopyWarning: \n",
      "A value is trying to be set on a copy of a slice from a DataFrame.\n",
      "Try using .loc[row_indexer,col_indexer] = value instead\n",
      "\n",
      "See the caveats in the documentation: http://pandas.pydata.org/pandas-docs/stable/user_guide/indexing.html#returning-a-view-versus-a-copy\n",
      "  self.obj[item] = s\n"
     ]
    }
   ],
   "source": [
    "rf_newtest.loc[:, 'SalePrice'] = rf_predictions\n",
    "rf_predictions = pd.Series(rf_predictions)"
   ]
  },
  {
   "cell_type": "code",
   "execution_count": 68,
   "metadata": {},
   "outputs": [],
   "source": [
    "RandomForestPred = pd.concat([id_no,rf_predictions],axis=1)\n",
    "RandomForestPred.columns = ['Id','SalePrice']\n",
    "RandomForestPred = RandomForestPred.dropna()"
   ]
  },
  {
   "cell_type": "code",
   "execution_count": 69,
   "metadata": {},
   "outputs": [
    {
     "data": {
      "text/html": [
       "<div>\n",
       "<style scoped>\n",
       "    .dataframe tbody tr th:only-of-type {\n",
       "        vertical-align: middle;\n",
       "    }\n",
       "\n",
       "    .dataframe tbody tr th {\n",
       "        vertical-align: top;\n",
       "    }\n",
       "\n",
       "    .dataframe thead th {\n",
       "        text-align: right;\n",
       "    }\n",
       "</style>\n",
       "<table border=\"1\" class=\"dataframe\">\n",
       "  <thead>\n",
       "    <tr style=\"text-align: right;\">\n",
       "      <th></th>\n",
       "      <th>Id</th>\n",
       "      <th>SalePrice</th>\n",
       "    </tr>\n",
       "  </thead>\n",
       "  <tbody>\n",
       "    <tr>\n",
       "      <td>0</td>\n",
       "      <td>1461</td>\n",
       "      <td>125590.0</td>\n",
       "    </tr>\n",
       "    <tr>\n",
       "      <td>1</td>\n",
       "      <td>1462</td>\n",
       "      <td>156750.0</td>\n",
       "    </tr>\n",
       "    <tr>\n",
       "      <td>2</td>\n",
       "      <td>1463</td>\n",
       "      <td>187190.0</td>\n",
       "    </tr>\n",
       "    <tr>\n",
       "      <td>3</td>\n",
       "      <td>1464</td>\n",
       "      <td>181380.0</td>\n",
       "    </tr>\n",
       "    <tr>\n",
       "      <td>4</td>\n",
       "      <td>1465</td>\n",
       "      <td>190617.2</td>\n",
       "    </tr>\n",
       "    <tr>\n",
       "      <td>...</td>\n",
       "      <td>...</td>\n",
       "      <td>...</td>\n",
       "    </tr>\n",
       "    <tr>\n",
       "      <td>1454</td>\n",
       "      <td>2915</td>\n",
       "      <td>84350.0</td>\n",
       "    </tr>\n",
       "    <tr>\n",
       "      <td>1455</td>\n",
       "      <td>2916</td>\n",
       "      <td>89000.0</td>\n",
       "    </tr>\n",
       "    <tr>\n",
       "      <td>1456</td>\n",
       "      <td>2917</td>\n",
       "      <td>162725.0</td>\n",
       "    </tr>\n",
       "    <tr>\n",
       "      <td>1457</td>\n",
       "      <td>2918</td>\n",
       "      <td>126910.0</td>\n",
       "    </tr>\n",
       "    <tr>\n",
       "      <td>1458</td>\n",
       "      <td>2919</td>\n",
       "      <td>214450.0</td>\n",
       "    </tr>\n",
       "  </tbody>\n",
       "</table>\n",
       "<p>1459 rows × 2 columns</p>\n",
       "</div>"
      ],
      "text/plain": [
       "        Id  SalePrice\n",
       "0     1461   125590.0\n",
       "1     1462   156750.0\n",
       "2     1463   187190.0\n",
       "3     1464   181380.0\n",
       "4     1465   190617.2\n",
       "...    ...        ...\n",
       "1454  2915    84350.0\n",
       "1455  2916    89000.0\n",
       "1456  2917   162725.0\n",
       "1457  2918   126910.0\n",
       "1458  2919   214450.0\n",
       "\n",
       "[1459 rows x 2 columns]"
      ]
     },
     "execution_count": 69,
     "metadata": {},
     "output_type": "execute_result"
    }
   ],
   "source": [
    "RandomForestPred"
   ]
  },
  {
   "cell_type": "code",
   "execution_count": 70,
   "metadata": {},
   "outputs": [],
   "source": [
    "# RandomForestPred.to_csv('RandomForestPred.csv',index=False)\n",
    "RandomForestPred.to_csv('RandomForestPred_02.csv',index=False)"
   ]
  },
  {
   "cell_type": "code",
   "execution_count": 71,
   "metadata": {},
   "outputs": [
    {
     "data": {
      "text/plain": [
       "[b'TotalSF', b'OverallQua', b'BsmtQual', b'KitchenQua', b'YearBuilt']"
      ]
     },
     "execution_count": 71,
     "metadata": {},
     "output_type": "execute_result"
    }
   ],
   "source": [
    "feature_importance = list(zip(df.columns, randomForest.feature_importances_))\n",
    "dtype = [('feature', 'S10'), ('importance', 'float')]\n",
    "feature_importance = np.array(feature_importance, dtype=dtype)\n",
    "feature_sort = np.sort(feature_importance, order='importance')[::-1]\n",
    "[i for (i, j) in feature_sort[0:5]]"
   ]
  },
  {
   "cell_type": "markdown",
   "metadata": {},
   "source": [
    "<p><a name=\"Gradient Boosting\"></a></p>\n",
    "\n",
    "## Gradient Boosting\n",
    "* Fit data with GradientBoostingRegressor\n",
    "* Use Train Test Split\n",
    "* Evaluate Model with R2"
   ]
  },
  {
   "cell_type": "code",
   "execution_count": 38,
   "metadata": {},
   "outputs": [
    {
     "name": "stdout",
     "output_type": "stream",
     "text": [
      "<class 'pandas.core.frame.DataFrame'>\n",
      "Int64Index: 2903 entries, 0 to 1458\n",
      "Columns: 1333 entries, LotFrontage to SaleCondition_Partial\n",
      "dtypes: float64(19), int64(12), uint8(1302)\n",
      "memory usage: 4.3 MB\n"
     ]
    }
   ],
   "source": [
    "df = pd.get_dummies(combine.drop(['SalePrice'], axis=1), drop_first=True)\n",
    "df.info()"
   ]
  },
  {
   "cell_type": "code",
   "execution_count": 39,
   "metadata": {},
   "outputs": [],
   "source": [
    "# df.to_csv('fulldataset_wdummy_nonetype.csv', index=False)"
   ]
  },
  {
   "cell_type": "code",
   "execution_count": 40,
   "metadata": {},
   "outputs": [],
   "source": [
    "y = combine['SalePrice'].dropna()"
   ]
  },
  {
   "cell_type": "code",
   "execution_count": 87,
   "metadata": {},
   "outputs": [],
   "source": [
    "newtrain = df[:1444]\n",
    "newtest = df[1444:]"
   ]
  },
  {
   "cell_type": "code",
   "execution_count": 88,
   "metadata": {},
   "outputs": [
    {
     "data": {
      "text/plain": [
       "((1459, 1333), (1444, 1333), (1444,))"
      ]
     },
     "execution_count": 88,
     "metadata": {},
     "output_type": "execute_result"
    }
   ],
   "source": [
    "newtest.shape, newtrain.shape, y.shape"
   ]
  },
  {
   "cell_type": "code",
   "execution_count": 43,
   "metadata": {},
   "outputs": [
    {
     "data": {
      "text/plain": [
       "GradientBoostingRegressor(alpha=0.9, criterion='friedman_mse', init=None,\n",
       "                          learning_rate=0.1, loss='ls', max_depth=3,\n",
       "                          max_features=None, max_leaf_nodes=None,\n",
       "                          min_impurity_decrease=0.0, min_impurity_split=None,\n",
       "                          min_samples_leaf=1, min_samples_split=2,\n",
       "                          min_weight_fraction_leaf=0.0, n_estimators=100,\n",
       "                          n_iter_no_change=None, presort='auto',\n",
       "                          random_state=None, subsample=1.0, tol=0.0001,\n",
       "                          validation_fraction=0.1, verbose=0, warm_start=False)"
      ]
     },
     "execution_count": 43,
     "metadata": {},
     "output_type": "execute_result"
    }
   ],
   "source": [
    "gbm = GradientBoostingRegressor()\n",
    "gbm.fit(newtrain,y)"
   ]
  },
  {
   "cell_type": "code",
   "execution_count": 44,
   "metadata": {},
   "outputs": [
    {
     "data": {
      "text/plain": [
       "0.9636948975885411"
      ]
     },
     "execution_count": 44,
     "metadata": {},
     "output_type": "execute_result"
    }
   ],
   "source": [
    "gbm.score(newtrain,y)"
   ]
  },
  {
   "cell_type": "code",
   "execution_count": 45,
   "metadata": {},
   "outputs": [
    {
     "data": {
      "text/plain": [
       "((1010, 1333), (434, 1333), (1010,), (434,))"
      ]
     },
     "execution_count": 45,
     "metadata": {},
     "output_type": "execute_result"
    }
   ],
   "source": [
    "X_train,X_test,y_train,y_test = train_test_split(newtrain, y, test_size = .30, random_state= 42)\n",
    "X_train.shape, X_test.shape, y_train.shape, y_test.shape"
   ]
  },
  {
   "cell_type": "code",
   "execution_count": 46,
   "metadata": {},
   "outputs": [
    {
     "data": {
      "text/plain": [
       "GradientBoostingRegressor(alpha=0.9, criterion='friedman_mse', init=None,\n",
       "                          learning_rate=0.1, loss='ls', max_depth=3,\n",
       "                          max_features=None, max_leaf_nodes=None,\n",
       "                          min_impurity_decrease=0.0, min_impurity_split=None,\n",
       "                          min_samples_leaf=1, min_samples_split=2,\n",
       "                          min_weight_fraction_leaf=0.0, n_estimators=500,\n",
       "                          n_iter_no_change=None, presort='auto',\n",
       "                          random_state=None, subsample=0.9, tol=0.0001,\n",
       "                          validation_fraction=0.1, verbose=0, warm_start=False)"
      ]
     },
     "execution_count": 46,
     "metadata": {},
     "output_type": "execute_result"
    }
   ],
   "source": [
    "gbm.set_params(subsample = 0.9, n_estimators = 500)"
   ]
  },
  {
   "cell_type": "code",
   "execution_count": 47,
   "metadata": {},
   "outputs": [
    {
     "data": {
      "text/plain": [
       "GradientBoostingRegressor(alpha=0.9, criterion='friedman_mse', init=None,\n",
       "                          learning_rate=0.1, loss='ls', max_depth=3,\n",
       "                          max_features=None, max_leaf_nodes=None,\n",
       "                          min_impurity_decrease=0.0, min_impurity_split=None,\n",
       "                          min_samples_leaf=1, min_samples_split=2,\n",
       "                          min_weight_fraction_leaf=0.0, n_estimators=500,\n",
       "                          n_iter_no_change=None, presort='auto',\n",
       "                          random_state=None, subsample=0.9, tol=0.0001,\n",
       "                          validation_fraction=0.1, verbose=0, warm_start=False)"
      ]
     },
     "execution_count": 47,
     "metadata": {},
     "output_type": "execute_result"
    }
   ],
   "source": [
    "gbm.fit(X_train,y_train)"
   ]
  },
  {
   "cell_type": "code",
   "execution_count": 48,
   "metadata": {},
   "outputs": [
    {
     "name": "stdout",
     "output_type": "stream",
     "text": [
      "The train set R^2 is 0.993\n",
      "The test set R^2 is 0.921\n"
     ]
    }
   ],
   "source": [
    "# GarageArea and GarageCars: switched from None instead of 0\n",
    "print(\"The train set R^2 is %.3f\" %(gbm.score(X_train, y_train)))\n",
    "print(\"The test set R^2 is %.3f\" %(gbm.score(X_test,y_test)))"
   ]
  },
  {
   "cell_type": "markdown",
   "metadata": {},
   "source": [
    "## Check GBR Parameters "
   ]
  },
  {
   "cell_type": "markdown",
   "metadata": {},
   "source": [
    "### Learning Rate\n",
    "Saw no learning rate improvements between 0.1 & 1 (over-fitting) and 0.1 & 0.01 (worst)"
   ]
  },
  {
   "cell_type": "code",
   "execution_count": 72,
   "metadata": {},
   "outputs": [],
   "source": [
    "from sklearn.metrics import accuracy_score\n",
    "\n",
    "n_estimators = 1000\n",
    "gbm.set_params(n_estimators=n_estimators)\n",
    "steps = list(range(100,1000,100))"
   ]
  },
  {
   "cell_type": "code",
   "execution_count": 73,
   "metadata": {},
   "outputs": [],
   "source": [
    "gbm.set_params(learning_rate = 1)\n",
    "gbm.fit(X_train, y_train)\n",
    "gen = gbm.staged_predict(X_train)\n",
    "scores_rate1 = []\n",
    "for n in range(n_estimators):\n",
    "           predicted_labels = next(gen)\n",
    "           if n not in steps: continue\n",
    "           scores_rate1.append(r2_score(y_train, predicted_labels))   "
   ]
  },
  {
   "cell_type": "code",
   "execution_count": 74,
   "metadata": {},
   "outputs": [],
   "source": [
    "gbm.set_params(learning_rate = 0.1)\n",
    "gbm.fit(X_train, y_train)\n",
    "gen = gbm.staged_predict(X_train)\n",
    "scores_rate01 = []\n",
    "for n in range(n_estimators):\n",
    "           predicted_labels = next(gen)\n",
    "           if n not in steps: continue\n",
    "           scores_rate01.append(r2_score(y_train, predicted_labels))  "
   ]
  },
  {
   "cell_type": "code",
   "execution_count": 75,
   "metadata": {},
   "outputs": [],
   "source": [
    "gbm.set_params(learning_rate = 0.01)\n",
    "gbm.fit(X_train, y_train)\n",
    "gen = gbm.staged_predict(X_train)\n",
    "scores_rate001 = []\n",
    "for n in range(n_estimators):\n",
    "           predicted_labels = next(gen)\n",
    "           if n not in steps: continue\n",
    "           scores_rate001.append(r2_score(y_train, predicted_labels))    "
   ]
  },
  {
   "cell_type": "code",
   "execution_count": 113,
   "metadata": {},
   "outputs": [
    {
     "data": {
      "text/plain": [
       "Text(0.5, 1.0, 'Gradient Boosting Parameter: Learning Rate')"
      ]
     },
     "execution_count": 113,
     "metadata": {},
     "output_type": "execute_result"
    },
    {
     "data": {
      "image/png": "[encoded data removed]",
      "text/plain": [
       "<Figure size 432x288 with 1 Axes>"
      ]
     },
     "metadata": {
      "needs_background": "light"
     },
     "output_type": "display_data"
    }
   ],
   "source": [
    "plt.plot(steps, scores_rate1, label='learning rate = 1')\n",
    "plt.plot(steps, scores_rate01, label='learning rate = 0.1')\n",
    "plt.plot(steps, scores_rate001, label='learning rate = 0.01')\n",
    "plt.legend(loc=4)\n",
    "plt.title(\"Gradient Boosting Parameter: Learning Rate\")"
   ]
  },
  {
   "cell_type": "markdown",
   "metadata": {},
   "source": [
    "### Subsample\n",
    "Reduced subsample to 0.9 to reduce possible over-fitting"
   ]
  },
  {
   "cell_type": "code",
   "execution_count": 77,
   "metadata": {},
   "outputs": [],
   "source": [
    "from sklearn.metrics import accuracy_score\n",
    "\n",
    "n_estimators = 1000\n",
    "gbm.set_params(n_estimators=n_estimators)\n",
    "steps = list(range(100,1000,100))"
   ]
  },
  {
   "cell_type": "code",
   "execution_count": 78,
   "metadata": {},
   "outputs": [],
   "source": [
    "gbm.set_params(learning_rate = 0.01, subsample = 0.9)\n",
    "gbm.fit(newtrain, y)\n",
    "gen = gbm.staged_predict(newtrain)\n",
    "scores_subsample09 = []\n",
    "for n in range(n_estimators):\n",
    "           predicted_labels = next(gen)\n",
    "           if n not in steps: continue\n",
    "           scores_subsample09.append(r2_score(y, predicted_labels))  "
   ]
  },
  {
   "cell_type": "code",
   "execution_count": 79,
   "metadata": {},
   "outputs": [],
   "source": [
    "gbm.set_params(learning_rate = 0.01, subsample=0.1)\n",
    "gbm.fit(X_train, y_train)\n",
    "gen = gbm.staged_predict(X_train)\n",
    "scores_subsample01 = []\n",
    "for n in range(n_estimators):\n",
    "           predicted_labels = next(gen)\n",
    "           if n not in steps: continue\n",
    "           scores_subsample01.append(r2_score(y_train, predicted_labels))"
   ]
  },
  {
   "cell_type": "code",
   "execution_count": 101,
   "metadata": {},
   "outputs": [
    {
     "data": {
      "text/plain": [
       "Text(0.5, 1.0, 'Gradient Boosting Parameter: Subsample')"
      ]
     },
     "execution_count": 101,
     "metadata": {},
     "output_type": "execute_result"
    },
    {
     "data": {
      "image/png": "[encoded data removed]",
      "text/plain": [
       "<Figure size 432x288 with 1 Axes>"
      ]
     },
     "metadata": {
      "needs_background": "light"
     },
     "output_type": "display_data"
    }
   ],
   "source": [
    "plt.plot(steps, scores_rate001, label = 'subsample=1.0')  # not taking subsample\n",
    "plt.plot(steps, scores_subsample09, label = 'subsample=0.9')\n",
    "plt.plot(steps, scores_subsample01, label = 'subsample=0.1')\n",
    "plt.legend(loc=4)\n",
    "plt.title(\"Gradient Boosting Parameter: Subsample\")"
   ]
  },
  {
   "cell_type": "markdown",
   "metadata": {},
   "source": [
    "### Features"
   ]
  },
  {
   "cell_type": "code",
   "execution_count": 81,
   "metadata": {},
   "outputs": [
    {
     "data": {
      "text/plain": [
       "[('BsmtUnfSF', 0.2951118477804334),\n",
       " ('LotArea', 0.1802275048062955),\n",
       " ('YearRemodAdd', 0.04339942589840219),\n",
       " ('Street', 0.0325134142862795),\n",
       " ('Condition2', 0.03224687263567285),\n",
       " ('MSZoning', 0.03144527508877848),\n",
       " ('Exterior1st', 0.029134739712536648),\n",
       " ('Utilities', 0.027147651477569902),\n",
       " ('BldgType', 0.022471800544980068),\n",
       " ('BsmtFinType1', 0.018062312542361215)]"
      ]
     },
     "execution_count": 81,
     "metadata": {},
     "output_type": "execute_result"
    }
   ],
   "source": [
    "sorted_importance = sorted(zip(combine.drop('SalePrice',axis=1), gbm.feature_importances_), key=lambda t:t[1], reverse=True)[:10]\n",
    "sorted_importance"
   ]
  },
  {
   "cell_type": "code",
   "execution_count": 82,
   "metadata": {},
   "outputs": [
    {
     "data": {
      "text/plain": [
       "Text(0.5, 1.0, 'Feature Importance Plot of 500-Tree GBM')"
      ]
     },
     "execution_count": 82,
     "metadata": {},
     "output_type": "execute_result"
    },
    {
     "data": {
      "image/png": "[encoded data removed]",
      "text/plain": [
       "<Figure size 432x288 with 1 Axes>"
      ]
     },
     "metadata": {
      "needs_background": "light"
     },
     "output_type": "display_data"
    }
   ],
   "source": [
    "a, b = zip(*sorted_importance) # this splits the list of tuples into two lists\n",
    "pd.DataFrame({'feature_name':a, 'importance_score':b}).plot.bar(x='feature_name',y='importance_score', legend=None)\n",
    "plt.title('Feature Importance Plot of 500-Tree GBM')"
   ]
  },
  {
   "cell_type": "markdown",
   "metadata": {},
   "source": [
    "### Max Depth\n",
    "Saw no max_depth improvements between 3 & 10 (over-fitting) and 3 & 5 (worst)"
   ]
  },
  {
   "cell_type": "code",
   "execution_count": 83,
   "metadata": {},
   "outputs": [],
   "source": [
    "n_estimators = 1000\n",
    "gbm.set_params(n_estimators=n_estimators)\n",
    "steps = list(range(100,1000,100))\n",
    "gbm.set_params(max_depth = 5)\n",
    "    \n",
    "gbm.fit(X_train, y_train)\n",
    "gen = gbm.staged_predict(X_train)\n",
    "r2_maxdepth5 = []\n",
    "for n in range(n_estimators):\n",
    "           predicted_targets = next(gen)\n",
    "           if n not in steps: continue\n",
    "           r2_maxdepth5.append(r2_score(y_train, predicted_targets)) "
   ]
  },
  {
   "cell_type": "code",
   "execution_count": 84,
   "metadata": {},
   "outputs": [],
   "source": [
    "gbm.set_params(learning_rate = 0.1, max_depth = 10)\n",
    "    \n",
    "gbm.fit(X_train, y_train)\n",
    "gen = gbm.staged_predict(X_train)\n",
    "r2_maxdepth10 = []\n",
    "for n in range(n_estimators):\n",
    "           predicted_targets = next(gen)\n",
    "           if n not in steps: continue\n",
    "           r2_maxdepth10.append(r2_score(y_train, predicted_targets)) "
   ]
  },
  {
   "cell_type": "code",
   "execution_count": 85,
   "metadata": {},
   "outputs": [
    {
     "data": {
      "text/plain": [
       "<matplotlib.legend.Legend at 0x7ffc41d2b6d0>"
      ]
     },
     "execution_count": 85,
     "metadata": {},
     "output_type": "execute_result"
    },
    {
     "data": {
      "image/png": "[encoded data removed]",
      "text/plain": [
       "<Figure size 432x288 with 1 Axes>"
      ]
     },
     "metadata": {
      "needs_background": "light"
     },
     "output_type": "display_data"
    }
   ],
   "source": [
    "plt.plot(steps, scores_rate01, label='max_depth = 3')\n",
    "plt.plot(steps, r2_maxdepth5, label='max_depth = 5')\n",
    "plt.plot(steps, r2_maxdepth10, label='max_depth = 10')\n",
    "plt.title('$R^2$ curves with different depths')\n",
    "plt.legend(loc=4)"
   ]
  },
  {
   "cell_type": "markdown",
   "metadata": {},
   "source": [
    "<p><a name=\"GBR Prediction\"></a></p>\n",
    "\n",
    "## GBR Prediction"
   ]
  },
  {
   "cell_type": "code",
   "execution_count": 89,
   "metadata": {},
   "outputs": [],
   "source": [
    "gbm_predictions = gbm.predict(newtest)"
   ]
  },
  {
   "cell_type": "code",
   "execution_count": 90,
   "metadata": {},
   "outputs": [
    {
     "name": "stderr",
     "output_type": "stream",
     "text": [
      "/Users/thisbekristin/opt/anaconda3/lib/python3.7/site-packages/pandas/core/indexing.py:376: SettingWithCopyWarning: \n",
      "A value is trying to be set on a copy of a slice from a DataFrame.\n",
      "Try using .loc[row_indexer,col_indexer] = value instead\n",
      "\n",
      "See the caveats in the documentation: http://pandas.pydata.org/pandas-docs/stable/user_guide/indexing.html#returning-a-view-versus-a-copy\n",
      "  self.obj[key] = _infer_fill_value(value)\n",
      "/Users/thisbekristin/opt/anaconda3/lib/python3.7/site-packages/pandas/core/indexing.py:494: SettingWithCopyWarning: \n",
      "A value is trying to be set on a copy of a slice from a DataFrame.\n",
      "Try using .loc[row_indexer,col_indexer] = value instead\n",
      "\n",
      "See the caveats in the documentation: http://pandas.pydata.org/pandas-docs/stable/user_guide/indexing.html#returning-a-view-versus-a-copy\n",
      "  self.obj[item] = s\n"
     ]
    }
   ],
   "source": [
    "newtest.loc[:, 'SalePrice'] = gbm_predictions\n",
    "gbm_predictions = pd.Series(gbm_predictions)"
   ]
  },
  {
   "cell_type": "code",
   "execution_count": 91,
   "metadata": {},
   "outputs": [
    {
     "data": {
      "text/plain": [
       "(1459,)"
      ]
     },
     "execution_count": 91,
     "metadata": {},
     "output_type": "execute_result"
    }
   ],
   "source": [
    "gbm_predictions.shape"
   ]
  },
  {
   "cell_type": "code",
   "execution_count": 92,
   "metadata": {},
   "outputs": [],
   "source": [
    "id_no = pd.Series(range(1461,2920))"
   ]
  },
  {
   "cell_type": "code",
   "execution_count": 93,
   "metadata": {},
   "outputs": [],
   "source": [
    "GradientBoost = pd.concat([id_no,gbm_predictions],axis=1)"
   ]
  },
  {
   "cell_type": "code",
   "execution_count": 94,
   "metadata": {},
   "outputs": [],
   "source": [
    "GradientBoost.columns = ['Id','SalePrice']"
   ]
  },
  {
   "cell_type": "code",
   "execution_count": 95,
   "metadata": {},
   "outputs": [
    {
     "data": {
      "text/plain": [
       "(1459, 2)"
      ]
     },
     "execution_count": 95,
     "metadata": {},
     "output_type": "execute_result"
    }
   ],
   "source": [
    "GradientBoost.shape"
   ]
  },
  {
   "cell_type": "code",
   "execution_count": 96,
   "metadata": {},
   "outputs": [],
   "source": [
    "GradientBoost = GradientBoost.dropna()"
   ]
  },
  {
   "cell_type": "code",
   "execution_count": 97,
   "metadata": {},
   "outputs": [
    {
     "data": {
      "text/html": [
       "<div>\n",
       "<style scoped>\n",
       "    .dataframe tbody tr th:only-of-type {\n",
       "        vertical-align: middle;\n",
       "    }\n",
       "\n",
       "    .dataframe tbody tr th {\n",
       "        vertical-align: top;\n",
       "    }\n",
       "\n",
       "    .dataframe thead th {\n",
       "        text-align: right;\n",
       "    }\n",
       "</style>\n",
       "<table border=\"1\" class=\"dataframe\">\n",
       "  <thead>\n",
       "    <tr style=\"text-align: right;\">\n",
       "      <th></th>\n",
       "      <th>Id</th>\n",
       "      <th>SalePrice</th>\n",
       "    </tr>\n",
       "  </thead>\n",
       "  <tbody>\n",
       "    <tr>\n",
       "      <td>0</td>\n",
       "      <td>1461</td>\n",
       "      <td>118617.228112</td>\n",
       "    </tr>\n",
       "    <tr>\n",
       "      <td>1</td>\n",
       "      <td>1462</td>\n",
       "      <td>190406.352638</td>\n",
       "    </tr>\n",
       "    <tr>\n",
       "      <td>2</td>\n",
       "      <td>1463</td>\n",
       "      <td>206428.110694</td>\n",
       "    </tr>\n",
       "    <tr>\n",
       "      <td>3</td>\n",
       "      <td>1464</td>\n",
       "      <td>200587.434794</td>\n",
       "    </tr>\n",
       "    <tr>\n",
       "      <td>4</td>\n",
       "      <td>1465</td>\n",
       "      <td>174856.115320</td>\n",
       "    </tr>\n",
       "    <tr>\n",
       "      <td>...</td>\n",
       "      <td>...</td>\n",
       "      <td>...</td>\n",
       "    </tr>\n",
       "    <tr>\n",
       "      <td>1454</td>\n",
       "      <td>2915</td>\n",
       "      <td>84894.705667</td>\n",
       "    </tr>\n",
       "    <tr>\n",
       "      <td>1455</td>\n",
       "      <td>2916</td>\n",
       "      <td>74561.425739</td>\n",
       "    </tr>\n",
       "    <tr>\n",
       "      <td>1456</td>\n",
       "      <td>2917</td>\n",
       "      <td>212131.224793</td>\n",
       "    </tr>\n",
       "    <tr>\n",
       "      <td>1457</td>\n",
       "      <td>2918</td>\n",
       "      <td>121652.230457</td>\n",
       "    </tr>\n",
       "    <tr>\n",
       "      <td>1458</td>\n",
       "      <td>2919</td>\n",
       "      <td>232138.108803</td>\n",
       "    </tr>\n",
       "  </tbody>\n",
       "</table>\n",
       "<p>1459 rows × 2 columns</p>\n",
       "</div>"
      ],
      "text/plain": [
       "        Id      SalePrice\n",
       "0     1461  118617.228112\n",
       "1     1462  190406.352638\n",
       "2     1463  206428.110694\n",
       "3     1464  200587.434794\n",
       "4     1465  174856.115320\n",
       "...    ...            ...\n",
       "1454  2915   84894.705667\n",
       "1455  2916   74561.425739\n",
       "1456  2917  212131.224793\n",
       "1457  2918  121652.230457\n",
       "1458  2919  232138.108803\n",
       "\n",
       "[1459 rows x 2 columns]"
      ]
     },
     "execution_count": 97,
     "metadata": {},
     "output_type": "execute_result"
    }
   ],
   "source": [
    "GradientBoost"
   ]
  },
  {
   "cell_type": "code",
   "execution_count": null,
   "metadata": {},
   "outputs": [],
   "source": [
    "# GradientBoost.to_csv('OriginalGradientBoostPred.csv',index=False)"
   ]
  }
 ],
 "metadata": {
  "kernelspec": {
   "display_name": "Python 3",
   "language": "python",
   "name": "python3"
  },
  "language_info": {
   "codemirror_mode": {
    "name": "ipython",
    "version": 3
   },
   "file_extension": ".py",
   "mimetype": "text/x-python",
   "name": "python",
   "nbconvert_exporter": "python",
   "pygments_lexer": "ipython3",
   "version": "3.7.4"
  }
 },
 "nbformat": 4,
 "nbformat_minor": 2
}
