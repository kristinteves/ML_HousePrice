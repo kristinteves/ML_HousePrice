{
 "cells": [
  {
   "cell_type": "code",
   "execution_count": 832,
   "metadata": {},
   "outputs": [],
   "source": [
    "#Import packages\n",
    "import pandas as pd\n",
    "import numpy as np\n",
    "import seaborn as sns\n",
    "import matplotlib.pyplot as plt\n",
    "import missingno as msno \n",
    "from scipy.stats import norm, skew, stats\n",
    "import statsmodels.api as sm\n",
    "from sklearn.metrics import r2_score\n"
   ]
  },
  {
   "cell_type": "code",
   "execution_count": 1046,
   "metadata": {},
   "outputs": [],
   "source": [
    "train = pd.read_csv('train_processed.csv')\n",
    "test = pd.read_csv('test_processed.csv')\n",
    "pd.set_option('display.max_columns', None)"
   ]
  },
  {
   "cell_type": "code",
   "execution_count": 1047,
   "metadata": {},
   "outputs": [
    {
     "name": "stdout",
     "output_type": "stream",
     "text": [
      "(1458,)\n"
     ]
    },
    {
     "data": {
      "text/plain": [
       "(2917, 64)"
      ]
     },
     "execution_count": 1047,
     "metadata": {},
     "output_type": "execute_result"
    }
   ],
   "source": [
    "y_train = train['SalePrice']\n",
    "train.drop('SalePrice', axis=1, inplace=True)\n",
    "print(y_train.shape)\n",
    "test['SalePrice'] = 0\n",
    "y_test = test['SalePrice'] \n",
    "AmesHousing_totalDF = pd.concat([train,test], ignore_index=True)\n",
    "AmesHousing_totalDF.drop('SalePrice', axis=1, inplace=True)\n",
    "\n",
    "AmesHousing_totalDF.shape\n"
   ]
  },
  {
   "cell_type": "code",
   "execution_count": 1048,
   "metadata": {},
   "outputs": [
    {
     "name": "stdout",
     "output_type": "stream",
     "text": [
      "(2917, 234)\n"
     ]
    }
   ],
   "source": [
    "def dummify_catFeat(df):\n",
    "    dummy = pd.get_dummies(df, drop_first=True)\n",
    "    del_feat = df.select_dtypes(['object']).columns.to_list()\n",
    "    for feature in del_feat:\n",
    "        df.drop(feature, axis=1, inplace=True)\n",
    "    df = pd.concat([df, dummy], axis=1)\n",
    "    return df\n",
    "\n",
    "AmesHousing_dummies = dummify_catFeat(AmesHousing_totalDF)\n",
    "print(AmesHousing_dummies.shape)\n",
    "# AmesHousing_dummies.head()\n",
    "test_dummies = AmesHousing_dummies[1460:].copy()"
   ]
  },
  {
   "cell_type": "code",
   "execution_count": 1049,
   "metadata": {},
   "outputs": [],
   "source": [
    "# AmesHousing_dummies.fillna(0, inplace=True)\n",
    "# np.sum(np.isnan(AmesHousing_dummies)).max()"
   ]
  },
  {
   "cell_type": "code",
   "execution_count": 1050,
   "metadata": {},
   "outputs": [
    {
     "name": "stdout",
     "output_type": "stream",
     "text": [
      "x_train: (1020, 234)\n",
      "x_test: (438, 234)\n",
      "y_train: (1020,)\n",
      "y_test (438,)\n"
     ]
    }
   ],
   "source": [
    "try:  # train_test_split was moved in 0.18.0\n",
    "    from sklearn.model_selection import train_test_split\n",
    "except:  # Following import works through 0.19 but outputs a warning in 0.18\n",
    "    from sklearn.cross_validation import train_test_split\n",
    "x_train, x_test, y_train, y_test = train_test_split(AmesHousing_dummies[:1458], y_train, test_size=0.3, random_state=42)\n",
    "# x_train, x_test, y_train, y_test = train_test_split(train_dummies, y_train, test_size=0.3, random_state=42)\n",
    "\n",
    "# x_train = AmesHousing_dummies[:1460].copy()\n",
    "# x_test = AmesHousing_dummies[1460:].copy()\n",
    "\n",
    "print('x_train:', x_train.shape)\n",
    "print('x_test:', x_test.shape)\n",
    "print('y_train:', y_train.shape)\n",
    "print('y_test', y_test.shape)"
   ]
  },
  {
   "cell_type": "code",
   "execution_count": 1051,
   "metadata": {},
   "outputs": [
    {
     "data": {
      "text/plain": [
       "LinearRegression(copy_X=True, fit_intercept=True, n_jobs=None, normalize=False)"
      ]
     },
     "execution_count": 1051,
     "metadata": {},
     "output_type": "execute_result"
    }
   ],
   "source": [
    "from sklearn.linear_model import LinearRegression\n",
    "ols = LinearRegression()\n",
    "ols.fit(x_train, y_train)"
   ]
  },
  {
   "cell_type": "code",
   "execution_count": 1052,
   "metadata": {},
   "outputs": [
    {
     "name": "stdout",
     "output_type": "stream",
     "text": [
      "R^2 is equal to 0.951\n",
      "RSS is equal to 8.072\n",
      "The intercept is 4.109\n"
     ]
    }
   ],
   "source": [
    "print('R^2 is equal to %.3f' %(ols.score(x_train, y_train)))\n",
    "print('RSS is equal to %.3f' %(np.sum((y_train-ols.predict(x_train))**2)))\n",
    "print('The intercept is %.3f' %(ols.intercept_))\n",
    "# print('The slopes are %s' %(ols.coef_))\n"
   ]
  },
  {
   "cell_type": "code",
   "execution_count": 1053,
   "metadata": {},
   "outputs": [
    {
     "data": {
      "text/plain": [
       "0.9507611593610075"
      ]
     },
     "execution_count": 1053,
     "metadata": {},
     "output_type": "execute_result"
    }
   ],
   "source": [
    "r2_score(y_train, ols.predict(x_train))\n",
    "# ols.predict(x_train)"
   ]
  },
  {
   "cell_type": "code",
   "execution_count": 1054,
   "metadata": {},
   "outputs": [
    {
     "name": "stdout",
     "output_type": "stream",
     "text": [
      "0.8941289183551646\n",
      "0.8941289183551646\n"
     ]
    }
   ],
   "source": [
    "print(ols.score(x_test, y_test))\n",
    "print(r2_score(y_test, ols.predict(x_test)))"
   ]
  },
  {
   "cell_type": "code",
   "execution_count": 1043,
   "metadata": {},
   "outputs": [
    {
     "name": "stdout",
     "output_type": "stream",
     "text": [
      "                            OLS Regression Results                            \n",
      "==============================================================================\n",
      "Dep. Variable:              SalePrice   R-squared:                       0.951\n",
      "Model:                            OLS   Adj. R-squared:                  0.940\n",
      "Method:                 Least Squares   F-statistic:                     84.80\n",
      "Date:                Sun, 20 Dec 2020   Prob (F-statistic):               0.00\n",
      "Time:                        17:01:59   Log-Likelihood:                 1020.7\n",
      "No. Observations:                1020   AIC:                            -1661.\n",
      "Df Residuals:                     830   BIC:                            -725.1\n",
      "Df Model:                         189                                         \n",
      "Covariance Type:            nonrobust                                         \n",
      "=========================================================================================\n",
      "                            coef    std err          t      P>|t|      [0.025      0.975]\n",
      "-----------------------------------------------------------------------------------------\n",
      "const                     4.1088      0.936      4.390      0.000       2.272       5.946\n",
      "MSSubClass            -3.408e-05      0.000     -0.164      0.869      -0.000       0.000\n",
      "LotFrontage               0.0003      0.000      2.432      0.015    5.26e-05       0.000\n",
      "LotArea                8.212e-07    2.2e-07      3.732      0.000    3.89e-07    1.25e-06\n",
      "LotShape                  0.0027      0.004      0.758      0.449      -0.004       0.010\n",
      "LandSlope                 0.0101      0.009      1.126      0.261      -0.008       0.028\n",
      "OverallQual               0.0170      0.003      6.363      0.000       0.012       0.022\n",
      "OverallCond               0.0176      0.002      7.840      0.000       0.013       0.022\n",
      "YearBuilt                 0.0012      0.000      6.195      0.000       0.001       0.002\n",
      "YearRemodAdd              0.0003      0.000      2.028      0.043    9.67e-06       0.001\n",
      "MasVnrArea             1.823e-05   1.67e-05      1.094      0.274   -1.45e-05    5.09e-05\n",
      "ExterQual                -0.0031      0.005     -0.590      0.555      -0.014       0.007\n",
      "ExterCond                -0.0114      0.006     -2.034      0.042      -0.022      -0.000\n",
      "BsmtQual                  0.0070      0.005      1.471      0.142      -0.002       0.016\n",
      "BsmtCond                  0.0076      0.007      1.142      0.254      -0.005       0.021\n",
      "BsmtFinType1              0.0023      0.001      1.800      0.072      -0.000       0.005\n",
      "BsmtFinSF1            -3.521e-05   1.87e-05     -1.886      0.060   -7.19e-05    1.44e-06\n",
      "BsmtFinType2             -0.0013      0.003     -0.382      0.702      -0.008       0.005\n",
      "BsmtFinSF2            -5.567e-05    2.5e-05     -2.230      0.026      -0.000   -6.68e-06\n",
      "BsmtUnfSF             -6.428e-05   1.84e-05     -3.502      0.000      -0.000   -2.83e-05\n",
      "HeatingQC                 0.0045      0.003      1.736      0.083      -0.001       0.010\n",
      "LowQualFinSF           3.967e-05   4.97e-05      0.799      0.425   -5.78e-05       0.000\n",
      "BedroomAbvGr             -0.0049      0.004     -1.374      0.170      -0.012       0.002\n",
      "KitchenAbvGr             -0.0246      0.018     -1.376      0.169      -0.060       0.010\n",
      "KitchenQual               0.0089      0.004      1.999      0.046       0.000       0.018\n",
      "TotRmsAbvGrd              0.0081      0.002      3.314      0.001       0.003       0.013\n",
      "Fireplaces                0.0120      0.006      2.140      0.033       0.001       0.023\n",
      "FireplaceQu               0.0006      0.002      0.307      0.759      -0.003       0.005\n",
      "GarageYrBlt              -0.0001      0.000     -0.752      0.452      -0.000       0.000\n",
      "GarageCars                0.0125      0.006      2.075      0.038       0.001       0.024\n",
      "GarageArea             4.048e-05    2.1e-05      1.930      0.054   -6.82e-07    8.16e-05\n",
      "GarageQual                0.0202      0.010      1.979      0.048       0.000       0.040\n",
      "GarageCond               -0.0042      0.011     -0.373      0.710      -0.026       0.018\n",
      "PavedDrive                0.0097      0.004      2.210      0.027       0.001       0.018\n",
      "WoodDeckSF             4.171e-05   1.53e-05      2.731      0.006    1.17e-05    7.17e-05\n",
      "PoolArea              -2.741e-05   5.98e-05     -0.458      0.647      -0.000    8.99e-05\n",
      "TotalSF                   0.0001   1.11e-05     10.077      0.000    9.01e-05       0.000\n",
      "TotalPorchSF           7.858e-05    1.8e-05      4.376      0.000    4.33e-05       0.000\n",
      "TotalBathrooms            0.0141      0.004      3.488      0.001       0.006       0.022\n",
      "MSSubClass            -3.408e-05      0.000     -0.164      0.869      -0.000       0.000\n",
      "LotFrontage               0.0003      0.000      2.432      0.015    5.26e-05       0.000\n",
      "LotArea                8.213e-07    2.2e-07      3.732      0.000    3.89e-07    1.25e-06\n",
      "LotShape                  0.0027      0.004      0.758      0.449      -0.004       0.010\n",
      "LandSlope                 0.0101      0.009      1.126      0.261      -0.008       0.028\n",
      "OverallQual               0.0170      0.003      6.363      0.000       0.012       0.022\n",
      "OverallCond               0.0176      0.002      7.840      0.000       0.013       0.022\n",
      "YearBuilt                 0.0012      0.000      6.195      0.000       0.001       0.002\n",
      "YearRemodAdd              0.0003      0.000      2.028      0.043    9.67e-06       0.001\n",
      "MasVnrArea             1.823e-05   1.67e-05      1.094      0.274   -1.45e-05    5.09e-05\n",
      "ExterQual                -0.0031      0.005     -0.590      0.555      -0.014       0.007\n",
      "ExterCond                -0.0114      0.006     -2.034      0.042      -0.022      -0.000\n",
      "BsmtQual                  0.0070      0.005      1.471      0.142      -0.002       0.016\n",
      "BsmtCond                  0.0076      0.007      1.142      0.254      -0.005       0.021\n",
      "BsmtFinType1              0.0023      0.001      1.800      0.072      -0.000       0.005\n",
      "BsmtFinSF1            -3.521e-05   1.87e-05     -1.886      0.060   -7.19e-05    1.44e-06\n",
      "BsmtFinType2             -0.0013      0.003     -0.382      0.702      -0.008       0.005\n",
      "BsmtFinSF2            -5.567e-05    2.5e-05     -2.230      0.026      -0.000   -6.68e-06\n",
      "BsmtUnfSF             -6.428e-05   1.84e-05     -3.502      0.000      -0.000   -2.83e-05\n",
      "HeatingQC                 0.0045      0.003      1.736      0.083      -0.001       0.010\n",
      "LowQualFinSF           3.967e-05   4.97e-05      0.799      0.425   -5.78e-05       0.000\n",
      "BedroomAbvGr             -0.0049      0.004     -1.374      0.170      -0.012       0.002\n",
      "KitchenAbvGr             -0.0246      0.018     -1.376      0.169      -0.060       0.010\n",
      "KitchenQual               0.0089      0.004      1.999      0.046       0.000       0.018\n",
      "TotRmsAbvGrd              0.0081      0.002      3.314      0.001       0.003       0.013\n",
      "Fireplaces                0.0120      0.006      2.140      0.033       0.001       0.023\n",
      "FireplaceQu               0.0006      0.002      0.307      0.759      -0.003       0.005\n",
      "GarageYrBlt              -0.0001      0.000     -0.752      0.452      -0.000       0.000\n",
      "GarageCars                0.0125      0.006      2.075      0.038       0.001       0.024\n",
      "GarageArea             4.048e-05    2.1e-05      1.930      0.054   -6.82e-07    8.16e-05\n",
      "GarageQual                0.0202      0.010      1.979      0.048       0.000       0.040\n",
      "GarageCond               -0.0042      0.011     -0.373      0.710      -0.026       0.018\n",
      "PavedDrive                0.0097      0.004      2.210      0.027       0.001       0.018\n",
      "WoodDeckSF             4.171e-05   1.53e-05      2.731      0.006    1.17e-05    7.17e-05\n",
      "PoolArea              -2.741e-05   5.98e-05     -0.458      0.647      -0.000    8.99e-05\n",
      "TotalSF                   0.0001   1.11e-05     10.077      0.000    9.01e-05       0.000\n",
      "TotalPorchSF           7.858e-05    1.8e-05      4.376      0.000    4.33e-05       0.000\n",
      "TotalBathrooms            0.0141      0.004      3.488      0.001       0.006       0.022\n",
      "MSZoning_FV               0.4238      0.069      6.136      0.000       0.288       0.559\n",
      "MSZoning_RH               0.3493      0.071      4.929      0.000       0.210       0.488\n",
      "MSZoning_RL               0.3835      0.059      6.451      0.000       0.267       0.500\n",
      "MSZoning_RM               0.3286      0.057      5.795      0.000       0.217       0.440\n",
      "Street_Pave               0.1017      0.062      1.628      0.104      -0.021       0.224\n",
      "LandContour_HLS          -0.0190      0.029     -0.645      0.519      -0.077       0.039\n",
      "LandContour_Low          -0.0319      0.036     -0.897      0.370      -0.102       0.038\n",
      "LandContour_Lvl          -0.0218      0.022     -0.999      0.318      -0.065       0.021\n",
      "Utilities_NoSeWa         -0.1589      0.121     -1.315      0.189      -0.396       0.078\n",
      "LotConfig_CulDSac         0.0330      0.017      1.970      0.049       0.000       0.066\n",
      "LotConfig_FR2            -0.0347      0.020     -1.737      0.083      -0.074       0.004\n",
      "LotConfig_FR3            -0.0916      0.057     -1.606      0.109      -0.204       0.020\n",
      "LotConfig_Inside         -0.0151      0.009     -1.622      0.105      -0.033       0.003\n",
      "Neighborhood_Blueste     -0.0375      0.110     -0.340      0.734      -0.254       0.179\n",
      "Neighborhood_BrDale       0.0233      0.060      0.390      0.697      -0.094       0.140\n",
      "Neighborhood_BrkSide      0.0853      0.049      1.747      0.081      -0.011       0.181\n",
      "Neighborhood_ClearCr      0.0462      0.049      0.949      0.343      -0.049       0.142\n",
      "Neighborhood_CollgCr      0.0166      0.038      0.440      0.660      -0.057       0.091\n",
      "Neighborhood_Crawfor      0.1594      0.044      3.610      0.000       0.073       0.246\n",
      "Neighborhood_Edwards     -0.0130      0.041     -0.318      0.751      -0.093       0.067\n",
      "Neighborhood_Gilbert      0.0083      0.039      0.211      0.833      -0.069       0.086\n",
      "Neighborhood_IDOTRR       0.0351      0.055      0.643      0.520      -0.072       0.142\n",
      "Neighborhood_MeadowV     -0.1175      0.060     -1.950      0.052      -0.236       0.001\n",
      "Neighborhood_Mitchel      0.0025      0.042      0.059      0.953      -0.081       0.086\n",
      "Neighborhood_NAmes        0.0153      0.040      0.379      0.705      -0.064       0.095\n",
      "Neighborhood_NPkVill      0.0409      0.081      0.505      0.614      -0.118       0.200\n",
      "Neighborhood_NWAmes       0.0115      0.041      0.277      0.782      -0.070       0.093\n",
      "Neighborhood_NoRidge      0.0534      0.044      1.223      0.222      -0.032       0.139\n",
      "Neighborhood_NridgHt      0.1026      0.039      2.648      0.008       0.027       0.179\n",
      "Neighborhood_OldTown      0.0537      0.050      1.066      0.287      -0.045       0.153\n",
      "Neighborhood_SWISU        0.0266      0.053      0.505      0.613      -0.077       0.130\n",
      "Neighborhood_Sawyer       0.0341      0.042      0.809      0.419      -0.049       0.117\n",
      "Neighborhood_SawyerW      0.0083      0.041      0.199      0.842      -0.073       0.090\n",
      "Neighborhood_Somerst      0.0274      0.048      0.575      0.565      -0.066       0.121\n",
      "Neighborhood_StoneBr      0.1713      0.042      4.113      0.000       0.090       0.253\n",
      "Neighborhood_Timber       0.0509      0.043      1.195      0.232      -0.033       0.134\n",
      "Neighborhood_Veenker      0.0979      0.051      1.931      0.054      -0.002       0.197\n",
      "Condition1_Feedr          0.0578      0.025      2.283      0.023       0.008       0.107\n",
      "Condition1_Norm           0.0898      0.021      4.279      0.000       0.049       0.131\n",
      "Condition1_PosA           0.0076      0.052      0.145      0.885      -0.095       0.110\n",
      "Condition1_PosN           0.0496      0.042      1.183      0.237      -0.033       0.132\n",
      "Condition1_RRAe          -0.0339      0.044     -0.777      0.437      -0.119       0.052\n",
      "Condition1_RRAn           0.0684      0.034      2.030      0.043       0.002       0.135\n",
      "Condition1_RRNe           0.1068      0.105      1.021      0.307      -0.098       0.312\n",
      "Condition1_RRNn           0.0372      0.077      0.484      0.629      -0.114       0.188\n",
      "Condition2_Feedr          0.2623      0.144      1.818      0.070      -0.021       0.546\n",
      "Condition2_Norm           0.1154      0.121      0.952      0.341      -0.122       0.353\n",
      "Condition2_PosA           0.3037      0.169      1.798      0.073      -0.028       0.635\n",
      "Condition2_PosN       -1.399e-16   5.04e-16     -0.278      0.781   -1.13e-15    8.49e-16\n",
      "Condition2_RRAe          -0.1982      0.212     -0.937      0.349      -0.614       0.217\n",
      "Condition2_RRAn           0.0237      0.160      0.148      0.882      -0.291       0.338\n",
      "Condition2_RRNn           0.1523      0.164      0.930      0.353      -0.169       0.474\n",
      "BldgType_2fmCon           0.0174      0.064      0.272      0.786      -0.108       0.143\n",
      "BldgType_Duplex          -0.0274      0.045     -0.603      0.547      -0.116       0.062\n",
      "BldgType_Twnhs           -0.0726      0.051     -1.413      0.158      -0.173       0.028\n",
      "BldgType_TwnhsE          -0.0232      0.045     -0.514      0.607      -0.112       0.065\n",
      "HouseStyle_1.5Fin         0.0062      0.019      0.321      0.748      -0.032       0.044\n",
      "HouseStyle_1.5Unf         0.0140      0.043      0.324      0.746      -0.071       0.099\n",
      "HouseStyle_2             -0.0024      0.022     -0.107      0.915      -0.046       0.041\n",
      "HouseStyle_2.5Fin         0.0273      0.076      0.361      0.718      -0.121       0.176\n",
      "HouseStyle_2.5Unf         0.0718      0.050      1.445      0.149      -0.026       0.169\n",
      "HouseStyle_SFoyer        -0.0093      0.033     -0.283      0.777      -0.074       0.055\n",
      "HouseStyle_SLvl           0.0082      0.032      0.261      0.794      -0.054       0.070\n",
      "RoofStyle_Gable          -0.1331      0.113     -1.173      0.241      -0.356       0.090\n",
      "RoofStyle_Gambrel        -0.1065      0.122     -0.876      0.381      -0.345       0.132\n",
      "RoofStyle_Hip            -0.1232      0.113     -1.086      0.278      -0.346       0.099\n",
      "RoofStyle_Mansard        -0.0586      0.129     -0.454      0.650      -0.312       0.195\n",
      "RoofStyle_Shed            0.0848      0.174      0.486      0.627      -0.258       0.427\n",
      "RoofMatl_Membran      -3.274e-16    1.8e-16     -1.821      0.069    -6.8e-16    2.54e-17\n",
      "RoofMatl_Metal           -0.0182      0.156     -0.117      0.907      -0.324       0.288\n",
      "RoofMatl_Roll            -0.1321      0.116     -1.144      0.253      -0.359       0.095\n",
      "RoofMatl_Tar&Grv         -0.0145      0.122     -0.119      0.906      -0.254       0.225\n",
      "RoofMatl_WdShake          0.0228      0.083      0.275      0.783      -0.140       0.186\n",
      "RoofMatl_WdShngl          0.1062      0.060      1.777      0.076      -0.011       0.224\n",
      "Exterior1st_AsphShn      -0.0204      0.059     -0.349      0.727      -0.136       0.095\n",
      "Exterior1st_BrkComm      -0.3258      0.138     -2.361      0.018      -0.597      -0.055\n",
      "Exterior1st_BrkFace       0.0469      0.066      0.713      0.476      -0.082       0.176\n",
      "Exterior1st_CBlock       -0.0824      0.057     -1.456      0.146      -0.193       0.029\n",
      "Exterior1st_CemntBd      -0.0820      0.089     -0.920      0.358      -0.257       0.093\n",
      "Exterior1st_HdBoard      -0.0659      0.067     -0.983      0.326      -0.197       0.066\n",
      "Exterior1st_ImStucc      -0.0562      0.132     -0.425      0.671      -0.316       0.203\n",
      "Exterior1st_MetalSd       0.0025      0.081      0.031      0.976      -0.156       0.161\n",
      "Exterior1st_Plywood      -0.0881      0.067     -1.311      0.190      -0.220       0.044\n",
      "Exterior1st_Stone         0.0922      0.144      0.640      0.523      -0.191       0.375\n",
      "Exterior1st_Stucco       -0.0270      0.071     -0.381      0.703      -0.166       0.112\n",
      "Exterior1st_VinylSd      -0.0569      0.068     -0.832      0.406      -0.191       0.077\n",
      "Exterior1st_Wd Sdng      -0.0847      0.064     -1.324      0.186      -0.210       0.041\n",
      "Exterior1st_WdShing      -0.0628      0.068     -0.922      0.357      -0.196       0.071\n",
      "Exterior2nd_AsphShn      -0.0204      0.059     -0.349      0.727      -0.136       0.095\n",
      "Exterior2nd_Brk Cmn       0.0429      0.108      0.398      0.691      -0.169       0.254\n",
      "Exterior2nd_BrkFace      -0.0213      0.067     -0.320      0.749      -0.152       0.110\n",
      "Exterior2nd_CBlock       -0.0824      0.057     -1.456      0.146      -0.193       0.029\n",
      "Exterior2nd_CmentBd       0.0752      0.086      0.879      0.380      -0.093       0.243\n",
      "Exterior2nd_HdBoard       0.0066      0.062      0.107      0.915      -0.114       0.127\n",
      "Exterior2nd_ImStucc       0.0208      0.079      0.262      0.793      -0.135       0.176\n",
      "Exterior2nd_MetalSd      -0.0214      0.078     -0.276      0.783      -0.174       0.131\n",
      "Exterior2nd_Other        -0.1086      0.123     -0.884      0.377      -0.350       0.133\n",
      "Exterior2nd_Plywood       0.0089      0.060      0.148      0.882      -0.109       0.127\n",
      "Exterior2nd_Stone        -0.0425      0.091     -0.466      0.641      -0.221       0.136\n",
      "Exterior2nd_Stucco        0.0366      0.064      0.574      0.566      -0.088       0.162\n",
      "Exterior2nd_VinylSd       0.0245      0.064      0.383      0.702      -0.101       0.150\n",
      "Exterior2nd_Wd Sdng       0.0503      0.059      0.856      0.392      -0.065       0.166\n",
      "Exterior2nd_Wd Shng       0.0059      0.061      0.097      0.923      -0.113       0.125\n",
      "MasVnrType_BrkCmn        -0.0121      0.061     -0.199      0.842      -0.132       0.108\n",
      "MasVnrType_BrkFace        0.0206      0.052      0.393      0.694      -0.082       0.123\n",
      "MasVnrType_None           0.0204      0.052      0.396      0.692      -0.081       0.122\n",
      "MasVnrType_Stone          0.0460      0.053      0.874      0.382      -0.057       0.149\n",
      "Foundation_CBlock        -0.0029      0.017     -0.174      0.862      -0.036       0.030\n",
      "Foundation_PConc          0.0211      0.018      1.145      0.253      -0.015       0.057\n",
      "Foundation_Slab          -0.0417      0.053     -0.783      0.434      -0.146       0.063\n",
      "Foundation_Stone         -0.0101      0.060     -0.170      0.865      -0.127       0.107\n",
      "Foundation_Wood          -0.1313      0.066     -1.996      0.046      -0.260      -0.002\n",
      "BsmtExposure_2           -0.0021      0.013     -0.157      0.875      -0.028       0.024\n",
      "BsmtExposure_3            0.0078      0.011      0.687      0.492      -0.014       0.030\n",
      "BsmtExposure_4            0.0593      0.015      3.900      0.000       0.029       0.089\n",
      "BsmtExposure_None         0.1356      0.065      2.099      0.036       0.009       0.262\n",
      "Heating_GasA              0.2395      0.117      2.042      0.042       0.009       0.470\n",
      "Heating_GasW              0.2691      0.121      2.220      0.027       0.031       0.507\n",
      "Heating_Grav             -0.0653      0.131     -0.498      0.619      -0.323       0.192\n",
      "Heating_OthW              0.2876      0.163      1.760      0.079      -0.033       0.608\n",
      "Heating_Wall              0.3099      0.141      2.200      0.028       0.033       0.586\n",
      "CentralAir_Y              0.0669      0.020      3.268      0.001       0.027       0.107\n",
      "Electrical_FuseF         -0.0215      0.031     -0.703      0.482      -0.081       0.038\n",
      "Electrical_FuseP         -0.0593      0.076     -0.776      0.438      -0.209       0.091\n",
      "Electrical_Mix                 0          0        nan        nan           0           0\n",
      "Electrical_SBrkr         -0.0165      0.016     -1.054      0.292      -0.047       0.014\n",
      "Functional_Maj2          -0.2310      0.073     -3.163      0.002      -0.374      -0.088\n",
      "Functional_Min1           0.0351      0.041      0.861      0.389      -0.045       0.115\n",
      "Functional_Min2           0.0347      0.042      0.827      0.408      -0.048       0.117\n",
      "Functional_Mod           -0.0558      0.046     -1.222      0.222      -0.145       0.034\n",
      "Functional_Sev                 0          0        nan        nan           0           0\n",
      "Functional_Typ            0.0781      0.035      2.243      0.025       0.010       0.146\n",
      "GarageType_Attchd         0.0937      0.056      1.671      0.095      -0.016       0.204\n",
      "GarageType_Basment        0.0588      0.066      0.892      0.373      -0.071       0.188\n",
      "GarageType_BuiltIn        0.0843      0.059      1.439      0.151      -0.031       0.199\n",
      "GarageType_CarPort        0.1111      0.072      1.539      0.124      -0.031       0.253\n",
      "GarageType_Detchd         0.0972      0.056      1.751      0.080      -0.012       0.206\n",
      "GarageType_None          -0.1699      0.307     -0.553      0.581      -0.773       0.434\n",
      "GarageFinish_2            0.0050      0.011      0.450      0.653      -0.017       0.027\n",
      "GarageFinish_3            0.0035      0.012      0.280      0.779      -0.021       0.028\n",
      "GarageFinish_None        -0.1699      0.307     -0.553      0.581      -0.773       0.434\n",
      "Fence_GdWo               -0.0302      0.024     -1.242      0.215      -0.078       0.018\n",
      "Fence_MnPrv               0.0017      0.021      0.080      0.936      -0.039       0.043\n",
      "Fence_MnWw               -0.0694      0.042     -1.673      0.095      -0.151       0.012\n",
      "Fence_None               -0.0016      0.019     -0.084      0.933      -0.039       0.036\n",
      "SaleType_CWD              0.0784      0.058      1.351      0.177      -0.036       0.192\n",
      "SaleType_Con              0.0508      0.079      0.645      0.519      -0.104       0.205\n",
      "SaleType_ConLD            0.0852      0.054      1.574      0.116      -0.021       0.191\n",
      "SaleType_ConLI           -0.0383      0.115     -0.334      0.738      -0.263       0.187\n",
      "SaleType_ConLw            0.0937      0.071      1.327      0.185      -0.045       0.232\n",
      "SaleType_New              0.5644      0.119      4.751      0.000       0.331       0.798\n",
      "SaleType_Oth              0.0302      0.080      0.378      0.706      -0.127       0.187\n",
      "SaleType_WD              -0.0175      0.023     -0.759      0.448      -0.063       0.028\n",
      "SaleCondition_AdjLand     0.1299      0.074      1.759      0.079      -0.015       0.275\n",
      "SaleCondition_Alloca      0.1115      0.051      2.176      0.030       0.011       0.212\n",
      "SaleCondition_Family      0.0042      0.030      0.139      0.889      -0.055       0.063\n",
      "SaleCondition_Normal      0.0725      0.016      4.599      0.000       0.042       0.103\n",
      "SaleCondition_Partial    -0.4556      0.117     -3.906      0.000      -0.685      -0.227\n",
      "==============================================================================\n",
      "Omnibus:                      192.487   Durbin-Watson:                   1.950\n",
      "Prob(Omnibus):                  0.000   Jarque-Bera (JB):             1335.570\n",
      "Skew:                          -0.671   Prob(JB):                    9.65e-291\n",
      "Kurtosis:                       8.443   Cond. No.                     1.71e+16\n",
      "==============================================================================\n",
      "\n",
      "Warnings:\n",
      "[1] Standard Errors assume that the covariance matrix of the errors is correctly specified.\n",
      "[2] The smallest eigenvalue is 1.73e-21. This might indicate that there are\n",
      "strong multicollinearity problems or that the design matrix is singular.\n"
     ]
    },
    {
     "name": "stderr",
     "output_type": "stream",
     "text": [
      "/opt/anaconda3/lib/python3.7/site-packages/statsmodels/base/model.py:1362: RuntimeWarning: invalid value encountered in true_divide\n",
      "  return self.params / self.bse\n",
      "/opt/anaconda3/lib/python3.7/site-packages/scipy/stats/_distn_infrastructure.py:903: RuntimeWarning: invalid value encountered in greater\n",
      "  return (a < x) & (x < b)\n",
      "/opt/anaconda3/lib/python3.7/site-packages/scipy/stats/_distn_infrastructure.py:903: RuntimeWarning: invalid value encountered in less\n",
      "  return (a < x) & (x < b)\n",
      "/opt/anaconda3/lib/python3.7/site-packages/scipy/stats/_distn_infrastructure.py:1912: RuntimeWarning: invalid value encountered in less_equal\n",
      "  cond2 = cond0 & (x <= _a)\n"
     ]
    }
   ],
   "source": [
    "import statsmodels.api as sm \n",
    "X_add_const = sm.add_constant(x_train) \n",
    "ols = sm.OLS(y_train, X_add_const)\n",
    "results = ols.fit()\n",
    "print(results.summary())"
   ]
  },
  {
   "cell_type": "code",
   "execution_count": 1044,
   "metadata": {},
   "outputs": [
    {
     "name": "stdout",
     "output_type": "stream",
     "text": [
      "The significant coefficients\n",
      "const                    1.278070e-05\n",
      "LotFrontage              1.523981e-02\n",
      "LotArea                  2.029733e-04\n",
      "OverallQual              3.271548e-10\n",
      "OverallCond              1.381489e-14\n",
      "                             ...     \n",
      "Functional_Typ           2.514729e-02\n",
      "SaleType_New             2.381098e-06\n",
      "SaleCondition_Alloca     2.983109e-02\n",
      "SaleCondition_Normal     4.898234e-06\n",
      "SaleCondition_Partial    1.015536e-04\n",
      "Length: 64, dtype: float64\n"
     ]
    }
   ],
   "source": [
    "pValues = results.pvalues\n",
    "print('The significant coefficients')\n",
    "print(pValues[pValues<0.05])"
   ]
  },
  {
   "cell_type": "code",
   "execution_count": 1032,
   "metadata": {},
   "outputs": [
    {
     "name": "stdout",
     "output_type": "stream",
     "text": [
      "R^2 is equal to 0.951\n"
     ]
    }
   ],
   "source": [
    "# Using log(SalePrice)\n",
    "# y_trainLog = np.log(y_train)\n",
    "# ols2 = LinearRegression()\n",
    "# ols2.fit(x_train, y_trainLog)\n",
    "# print('R^2 is equal to %.3f' %(ols2.score(x_train, y_trainLog)))\n"
   ]
  },
  {
   "cell_type": "code",
   "execution_count": 1033,
   "metadata": {},
   "outputs": [
    {
     "data": {
      "text/plain": [
       "0.8941289183551643"
      ]
     },
     "execution_count": 1033,
     "metadata": {},
     "output_type": "execute_result"
    }
   ],
   "source": [
    "# r2_score(np.log(y_test), ols2.predict(x_test))"
   ]
  },
  {
   "cell_type": "code",
   "execution_count": 1030,
   "metadata": {},
   "outputs": [],
   "source": [
    "# ols.predict(test_dummies)"
   ]
  },
  {
   "cell_type": "code",
   "execution_count": null,
   "metadata": {},
   "outputs": [],
   "source": []
  }
 ],
 "metadata": {
  "kernelspec": {
   "display_name": "Python 3",
   "language": "python",
   "name": "python3"
  },
  "language_info": {
   "codemirror_mode": {
    "name": "ipython",
    "version": 3
   },
   "file_extension": ".py",
   "mimetype": "text/x-python",
   "name": "python",
   "nbconvert_exporter": "python",
   "pygments_lexer": "ipython3",
   "version": "3.7.6"
  }
 },
 "nbformat": 4,
 "nbformat_minor": 4
}
