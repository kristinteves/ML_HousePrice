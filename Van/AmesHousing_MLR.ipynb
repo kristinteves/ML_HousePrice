{
 "cells": [
  {
   "cell_type": "code",
   "execution_count": 52,
   "metadata": {},
   "outputs": [],
   "source": [
    "#Import packages\n",
    "import pandas as pd\n",
    "import numpy as np\n",
    "import matplotlib.pyplot as plt\n",
    "import missingno as msno \n",
    "from scipy.stats import norm, skew, stats\n",
    "import statsmodels.api as sm\n",
    "import seaborn as sns\n",
    "\n",
    "from sklearn.model_selection import train_test_split\n",
    "from sklearn.metrics import r2_score, mean_squared_error, accuracy_score\n",
    "import sklearn\n"
   ]
  },
  {
   "cell_type": "code",
   "execution_count": 53,
   "metadata": {},
   "outputs": [
    {
     "name": "stdout",
     "output_type": "stream",
     "text": [
      "(2903, 296)\n",
      "<class 'pandas.core.frame.DataFrame'>\n",
      "RangeIndex: 2903 entries, 0 to 2902\n",
      "Columns: 296 entries, LotFrontage to SaleCondition_Partial\n",
      "dtypes: float64(22), int64(274)\n",
      "memory usage: 6.6 MB\n"
     ]
    }
   ],
   "source": [
    "combine = pd.read_csv('fulldataset.csv') # cleand and processed data set\n",
    "df = pd.read_csv('fulldataset_wdummy.csv') # dummified data set\n",
    "pd.set_option('display.max_columns', None)\n",
    "\n",
    "print(df.shape)\n",
    "df.info()"
   ]
  },
  {
   "cell_type": "code",
   "execution_count": 54,
   "metadata": {},
   "outputs": [
    {
     "data": {
      "text/plain": [
       "((1459, 296), (1444, 296), (1444,))"
      ]
     },
     "execution_count": 54,
     "metadata": {},
     "output_type": "execute_result"
    }
   ],
   "source": [
    "y = combine['SalePrice'].dropna()\n",
    "newtrain = df[:1444]\n",
    "newtest = df[1444:]\n",
    "newtest.shape, newtrain.shape, y.shape"
   ]
  },
  {
   "cell_type": "code",
   "execution_count": 55,
   "metadata": {},
   "outputs": [
    {
     "data": {
      "text/plain": [
       "((1010, 296), (434, 296), (1010,), (434,))"
      ]
     },
     "execution_count": 55,
     "metadata": {},
     "output_type": "execute_result"
    }
   ],
   "source": [
    "# Execute train, test, split for multiple linear regression\n",
    "X_train,X_test,y_train,y_test = train_test_split(newtrain, y, test_size = .30, random_state= 42)\n",
    "X_train.shape, X_test.shape, y_train.shape, y_test.shape\n"
   ]
  },
  {
   "cell_type": "markdown",
   "metadata": {},
   "source": [
    "### Multiple Linear Regression"
   ]
  },
  {
   "cell_type": "code",
   "execution_count": 56,
   "metadata": {},
   "outputs": [
    {
     "data": {
      "text/plain": [
       "LinearRegression(copy_X=True, fit_intercept=True, n_jobs=None, normalize=False)"
      ]
     },
     "execution_count": 56,
     "metadata": {},
     "output_type": "execute_result"
    }
   ],
   "source": [
    "from sklearn.linear_model import LinearRegression\n",
    "linear = LinearRegression()\n",
    "linear.fit(X_train, y_train)"
   ]
  },
  {
   "cell_type": "code",
   "execution_count": 57,
   "metadata": {},
   "outputs": [
    {
     "name": "stdout",
     "output_type": "stream",
     "text": [
      "R^2 is equal to 0.936\n",
      "RSS is equal to 350769091592.505\n",
      "The intercept is -813949.163\n"
     ]
    }
   ],
   "source": [
    "print('R^2 is equal to %.3f' %(linear.score(X_train, y_train)))\n",
    "print('RSS is equal to %.3f' %(np.sum((y_train-linear.predict(X_train))**2)))\n",
    "print('The intercept is %.3f' %(linear.intercept_))\n",
    "# print('The slopes are %s' %(linear.coef_))\n"
   ]
  },
  {
   "cell_type": "code",
   "execution_count": 58,
   "metadata": {},
   "outputs": [
    {
     "name": "stdout",
     "output_type": "stream",
     "text": [
      "0.8816452287403729\n",
      "0.8816452287403729\n"
     ]
    }
   ],
   "source": [
    "print(linear.score(X_test, y_test))\n",
    "print(r2_score(y_test, linear.predict(X_test)))"
   ]
  },
  {
   "cell_type": "code",
   "execution_count": 59,
   "metadata": {},
   "outputs": [
    {
     "data": {
      "text/plain": [
       "(1459,)"
      ]
     },
     "execution_count": 59,
     "metadata": {},
     "output_type": "execute_result"
    }
   ],
   "source": [
    "predictions = linear.predict(newtest)\n",
    "# newtest.loc[:, 'SalePrice'] = predictions\n",
    "predictions = pd.Series(predictions)\n",
    "predictions.shape\n",
    "\n"
   ]
  },
  {
   "cell_type": "code",
   "execution_count": 60,
   "metadata": {},
   "outputs": [],
   "source": [
    "id_no = pd.Series(range(1461,2920))\n",
    "MLR = pd.concat([id_no,predictions],axis=1)\n",
    "MLR.columns = ['Id','SalePrice']"
   ]
  },
  {
   "cell_type": "code",
   "execution_count": 61,
   "metadata": {},
   "outputs": [
    {
     "name": "stdout",
     "output_type": "stream",
     "text": [
      "(1459, 2)\n"
     ]
    },
    {
     "data": {
      "text/html": [
       "<div>\n",
       "<style scoped>\n",
       "    .dataframe tbody tr th:only-of-type {\n",
       "        vertical-align: middle;\n",
       "    }\n",
       "\n",
       "    .dataframe tbody tr th {\n",
       "        vertical-align: top;\n",
       "    }\n",
       "\n",
       "    .dataframe thead th {\n",
       "        text-align: right;\n",
       "    }\n",
       "</style>\n",
       "<table border=\"1\" class=\"dataframe\">\n",
       "  <thead>\n",
       "    <tr style=\"text-align: right;\">\n",
       "      <th></th>\n",
       "      <th>Id</th>\n",
       "      <th>SalePrice</th>\n",
       "    </tr>\n",
       "  </thead>\n",
       "  <tbody>\n",
       "    <tr>\n",
       "      <th>0</th>\n",
       "      <td>1461</td>\n",
       "      <td>117783.836721</td>\n",
       "    </tr>\n",
       "    <tr>\n",
       "      <th>1</th>\n",
       "      <td>1462</td>\n",
       "      <td>179720.301302</td>\n",
       "    </tr>\n",
       "    <tr>\n",
       "      <th>2</th>\n",
       "      <td>1463</td>\n",
       "      <td>189379.579750</td>\n",
       "    </tr>\n",
       "    <tr>\n",
       "      <th>3</th>\n",
       "      <td>1464</td>\n",
       "      <td>193609.159302</td>\n",
       "    </tr>\n",
       "    <tr>\n",
       "      <th>4</th>\n",
       "      <td>1465</td>\n",
       "      <td>199298.010315</td>\n",
       "    </tr>\n",
       "  </tbody>\n",
       "</table>\n",
       "</div>"
      ],
      "text/plain": [
       "     Id      SalePrice\n",
       "0  1461  117783.836721\n",
       "1  1462  179720.301302\n",
       "2  1463  189379.579750\n",
       "3  1464  193609.159302\n",
       "4  1465  199298.010315"
      ]
     },
     "execution_count": 61,
     "metadata": {},
     "output_type": "execute_result"
    }
   ],
   "source": [
    "print(MLR.shape)\n",
    "MLR.head()"
   ]
  },
  {
   "cell_type": "code",
   "execution_count": 62,
   "metadata": {},
   "outputs": [],
   "source": [
    "MLR = MLR.dropna()\n",
    "MLR.to_csv('LinearPred.csv', index=False)"
   ]
  },
  {
   "cell_type": "code",
   "execution_count": 63,
   "metadata": {},
   "outputs": [
    {
     "name": "stdout",
     "output_type": "stream",
     "text": [
      "                            OLS Regression Results                            \n",
      "==============================================================================\n",
      "Dep. Variable:              SalePrice   R-squared:                       0.936\n",
      "Model:                            OLS   Adj. R-squared:                  0.912\n",
      "Method:                 Least Squares   F-statistic:                     38.57\n",
      "Date:                Sun, 10 Jan 2021   Prob (F-statistic):          1.60e-314\n",
      "Time:                        11:35:36   Log-Likelihood:                -11364.\n",
      "No. Observations:                1010   AIC:                         2.328e+04\n",
      "Df Residuals:                     732   BIC:                         2.465e+04\n",
      "Df Model:                         277                                         \n",
      "Covariance Type:            nonrobust                                         \n",
      "=========================================================================================\n",
      "                            coef    std err          t      P>|t|      [0.025      0.975]\n",
      "-----------------------------------------------------------------------------------------\n",
      "const                 -6.724e+05   2.01e+05     -3.342      0.001   -1.07e+06   -2.77e+05\n",
      "LotFrontage              49.7663     53.786      0.925      0.355     -55.826     155.359\n",
      "LotArea                   0.7065      0.153      4.621      0.000       0.406       1.007\n",
      "LotShape               1941.3896   1746.103      1.112      0.267   -1486.578    5369.357\n",
      "OverallQual            7852.3711   1313.868      5.977      0.000    5272.973    1.04e+04\n",
      "YearBuilt               124.9047    102.840      1.215      0.225     -76.991     326.801\n",
      "YearRemodAdd            172.3467     69.314      2.486      0.013      36.268     308.425\n",
      "MasVnrArea               11.4203      7.380      1.547      0.122      -3.069      25.909\n",
      "ExterQual              4619.1980   2697.887      1.712      0.087    -677.320    9915.716\n",
      "BsmtQual               4027.8841   2123.715      1.897      0.058    -141.415    8197.184\n",
      "BsmtCond              -4282.3334   2660.632     -1.610      0.108   -9505.712     941.045\n",
      "BsmtExposure           3876.4131   1032.216      3.755      0.000    1849.956    5902.870\n",
      "BsmtFinType1            758.2708    612.821      1.237      0.216    -444.825    1961.366\n",
      "BsmtFinSF1               13.2885      5.586      2.379      0.018       2.322      24.255\n",
      "BsmtUnfSF                -5.4188      5.506     -0.984      0.325     -16.228       5.391\n",
      "HeatingQC              1967.8410   1225.540      1.606      0.109    -438.151    4373.834\n",
      "CentralAir             3318.3035   5070.245      0.654      0.513   -6635.653    1.33e+04\n",
      "LowQualFinSF              1.9499     24.205      0.081      0.936     -45.570      49.470\n",
      "GrLivArea                26.5007      9.771      2.712      0.007       7.318      45.684\n",
      "BedroomAbvGr          -3789.8877   1819.286     -2.083      0.038   -7361.528    -218.247\n",
      "KitchenAbvGr          -2.311e+04   8527.252     -2.710      0.007   -3.98e+04   -6364.434\n",
      "KitchenQual            6395.4253   2146.489      2.979      0.003    2181.417    1.06e+04\n",
      "TotRmsAbvGrd           2582.4280   1201.700      2.149      0.032     223.238    4941.618\n",
      "Functional             8189.0907   1464.746      5.591      0.000    5313.486    1.11e+04\n",
      "Fireplaces             6188.7378   3198.440      1.935      0.053     -90.473    1.25e+04\n",
      "GarageFinish            -94.0892   1519.172     -0.062      0.951   -3076.543    2888.365\n",
      "GarageCars             5410.5945   2813.539      1.923      0.055    -112.973    1.09e+04\n",
      "GarageArea               19.3520      9.643      2.007      0.045       0.421      38.283\n",
      "GarageQual             8429.7028   5424.368      1.554      0.121   -2219.471    1.91e+04\n",
      "GarageCond            -3919.5026   5594.071     -0.701      0.484   -1.49e+04    7062.835\n",
      "PavedDrive               19.1451   2319.623      0.008      0.993   -4534.761    4573.051\n",
      "MoSold                 -740.2667    302.921     -2.444      0.015   -1334.965    -145.568\n",
      "TotalBaths              756.7852   1914.925      0.395      0.693   -3002.614    4516.185\n",
      "PorchSF                  28.4018      6.048      4.696      0.000      16.529      40.275\n",
      "TotalSF                  24.2805      6.559      3.702      0.000      11.403      37.158\n",
      "MSSubClass_150         1.181e-09   4.76e-10      2.478      0.013    2.45e-10    2.12e-09\n",
      "MSSubClass_160         3316.8643   1.16e+04      0.286      0.775   -1.94e+04    2.61e+04\n",
      "MSSubClass_180         1.136e+04   1.73e+04      0.655      0.512   -2.27e+04    4.54e+04\n",
      "MSSubClass_190        -5388.2119    3.8e+04     -0.142      0.887   -7.99e+04    6.91e+04\n",
      "MSSubClass_20           229.1558   2.73e+04      0.008      0.993   -5.34e+04    5.38e+04\n",
      "MSSubClass_30         -8000.6536    2.8e+04     -0.286      0.775   -6.29e+04    4.69e+04\n",
      "MSSubClass_40          1.527e+04   3.76e+04      0.406      0.685   -5.86e+04    8.91e+04\n",
      "MSSubClass_45         -8294.8683    3.9e+04     -0.213      0.832   -8.49e+04    6.83e+04\n",
      "MSSubClass_50         -2002.4158   2.98e+04     -0.067      0.946   -6.05e+04    5.64e+04\n",
      "MSSubClass_60          4903.5573   2.89e+04      0.170      0.865   -5.18e+04    6.16e+04\n",
      "MSSubClass_70         -9710.7307   2.96e+04     -0.328      0.743   -6.79e+04    4.85e+04\n",
      "MSSubClass_75         -1.833e+04   3.61e+04     -0.507      0.612   -8.93e+04    5.26e+04\n",
      "MSSubClass_80          1.541e+04    3.2e+04      0.481      0.631   -4.75e+04    7.83e+04\n",
      "MSSubClass_85         -1.014e+04   3.04e+04     -0.334      0.739   -6.98e+04    4.96e+04\n",
      "MSSubClass_90         -2697.0387   1.44e+04     -0.187      0.852    -3.1e+04    2.56e+04\n",
      "MSZoning_FV            3.551e+04   1.66e+04      2.135      0.033    2853.300    6.82e+04\n",
      "MSZoning_RH             3.32e+04   1.74e+04      1.910      0.056    -919.483    6.73e+04\n",
      "MSZoning_RL             3.13e+04   1.53e+04      2.047      0.041    1281.436    6.13e+04\n",
      "MSZoning_RM            2.884e+04   1.47e+04      1.956      0.051    -111.139    5.78e+04\n",
      "Street_Pave            1.229e+04   1.52e+04      0.807      0.420   -1.76e+04    4.22e+04\n",
      "LandContour_HLS        -750.6196   7206.299     -0.104      0.917   -1.49e+04    1.34e+04\n",
      "LandContour_Low       -1.065e+04   8690.180     -1.225      0.221   -2.77e+04    6411.919\n",
      "LandContour_Lvl       -2456.6912   5083.618     -0.483      0.629   -1.24e+04    7523.518\n",
      "Utilities_NoSeWa      -5.849e-10   2.12e-10     -2.765      0.006      -1e-09    -1.7e-10\n",
      "LotConfig_CulDSac      1.144e+04   4161.062      2.748      0.006    3267.203    1.96e+04\n",
      "LotConfig_FR2         -8336.0810   5340.249     -1.561      0.119   -1.88e+04    2147.951\n",
      "LotConfig_FR3         -1.177e+04   1.51e+04     -0.781      0.435   -4.14e+04    1.78e+04\n",
      "LotConfig_Inside      -1582.5388   2194.881     -0.721      0.471   -5891.551    2726.474\n",
      "Neighborhood_Blueste    1.56e+04   2.79e+04      0.560      0.576   -3.91e+04    7.03e+04\n",
      "Neighborhood_BrDale    7331.9145   1.52e+04      0.483      0.629   -2.24e+04    3.71e+04\n",
      "Neighborhood_BrkSide   1229.4588   1.23e+04      0.100      0.920   -2.29e+04    2.54e+04\n",
      "Neighborhood_ClearCr  -2.227e+04   1.26e+04     -1.773      0.077   -4.69e+04    2393.234\n",
      "Neighborhood_CollgCr  -1.808e+04   9391.547     -1.925      0.055   -3.65e+04     355.515\n",
      "Neighborhood_Crawfor   1.215e+04   1.12e+04      1.087      0.277   -9786.431    3.41e+04\n",
      "Neighborhood_Edwards  -1.425e+04   1.05e+04     -1.363      0.173   -3.48e+04    6278.531\n",
      "Neighborhood_Gilbert   -1.53e+04      1e+04     -1.528      0.127    -3.5e+04    4360.535\n",
      "Neighborhood_IDOTRR   -4770.3620    1.4e+04     -0.341      0.733   -3.23e+04    2.27e+04\n",
      "Neighborhood_MeadowV  -2837.6864   1.75e+04     -0.162      0.871   -3.71e+04    3.15e+04\n",
      "Neighborhood_Mitchel  -1.925e+04   1.06e+04     -1.821      0.069      -4e+04    1507.446\n",
      "Neighborhood_NAmes    -1.485e+04   1.01e+04     -1.467      0.143   -3.47e+04    5018.005\n",
      "Neighborhood_NPkVill   1.762e+04   1.55e+04      1.139      0.255   -1.28e+04     4.8e+04\n",
      "Neighborhood_NWAmes   -1.909e+04   1.03e+04     -1.845      0.066   -3.94e+04    1227.809\n",
      "Neighborhood_NoRidge   3618.4022   1.08e+04      0.334      0.738   -1.76e+04    2.49e+04\n",
      "Neighborhood_NridgHt   1.318e+04   9635.828      1.368      0.172   -5738.856    3.21e+04\n",
      "Neighborhood_OldTown  -1.037e+04   1.25e+04     -0.831      0.406   -3.49e+04    1.41e+04\n",
      "Neighborhood_SWISU    -7373.6482    1.3e+04     -0.568      0.570   -3.29e+04    1.81e+04\n",
      "Neighborhood_Sawyer   -1.095e+04   1.06e+04     -1.033      0.302   -3.17e+04    9847.851\n",
      "Neighborhood_SawyerW  -9302.2978   1.03e+04     -0.902      0.367   -2.96e+04    1.09e+04\n",
      "Neighborhood_Somerst  -1.154e+04   1.08e+04     -1.067      0.286   -3.28e+04    9694.146\n",
      "Neighborhood_StoneBr   2.012e+04   1.07e+04      1.877      0.061    -926.083    4.12e+04\n",
      "Neighborhood_Timber   -1.678e+04   1.03e+04     -1.629      0.104    -3.7e+04    3446.273\n",
      "Neighborhood_Veenker   3692.7426   1.28e+04      0.289      0.772   -2.14e+04    2.87e+04\n",
      "Condition1_Feedr       5832.9575   6439.082      0.906      0.365   -6808.314    1.85e+04\n",
      "Condition1_Norm         1.08e+04   5431.678      1.989      0.047     140.001    2.15e+04\n",
      "Condition1_PosA        4406.8431   1.16e+04      0.380      0.704   -1.84e+04    2.72e+04\n",
      "Condition1_PosN        1338.9710   8451.669      0.158      0.874   -1.53e+04    1.79e+04\n",
      "Condition1_RRAe       -1.756e+04   1.07e+04     -1.637      0.102   -3.86e+04    3504.835\n",
      "Condition1_RRAn        9106.3402   8221.725      1.108      0.268   -7034.634    2.52e+04\n",
      "Condition1_RRNe       -1.068e+04   1.83e+04     -0.585      0.559   -4.66e+04    2.52e+04\n",
      "Condition1_RRNn        6674.3801   1.37e+04      0.487      0.627   -2.03e+04    3.36e+04\n",
      "Condition2_Feedr       1.607e+04   2.93e+04      0.548      0.584   -4.15e+04    7.37e+04\n",
      "Condition2_Norm        2.277e+04   2.55e+04      0.894      0.372   -2.72e+04    7.28e+04\n",
      "Condition2_PosA        9.682e+04   3.82e+04      2.532      0.012    2.17e+04    1.72e+05\n",
      "Condition2_PosN        1.201e+04   3.57e+04      0.336      0.737   -5.81e+04    8.21e+04\n",
      "Condition2_RRAe       -4.229e+04   5.72e+04     -0.740      0.460   -1.54e+05    6.99e+04\n",
      "Condition2_RRAn         3.57e+04   3.52e+04      1.014      0.311   -3.34e+04    1.05e+05\n",
      "Condition2_RRNn        4.033e+04   3.57e+04      1.131      0.258   -2.97e+04     1.1e+05\n",
      "BldgType_2fmCon        3270.7639   2.52e+04      0.130      0.897   -4.62e+04    5.28e+04\n",
      "BldgType_Duplex       -2697.0387   1.44e+04     -0.187      0.852    -3.1e+04    2.56e+04\n",
      "BldgType_Twnhs        -2.871e+04   2.85e+04     -1.007      0.314   -8.47e+04    2.72e+04\n",
      "BldgType_TwnhsE       -2.026e+04   2.77e+04     -0.733      0.464   -7.45e+04     3.4e+04\n",
      "HouseStyle_1.5Unf      1.084e+04   2.72e+04      0.398      0.690   -4.26e+04    6.43e+04\n",
      "HouseStyle_1Story      5405.5001   1.12e+04      0.481      0.630   -1.66e+04    2.75e+04\n",
      "HouseStyle_2.5Fin     -1.821e+04   2.44e+04     -0.747      0.455   -6.61e+04    2.97e+04\n",
      "HouseStyle_2.5Unf     -9503.5839   2.29e+04     -0.414      0.679   -5.45e+04    3.55e+04\n",
      "HouseStyle_2Story       679.4056   1.03e+04      0.066      0.947   -1.96e+04    2.09e+04\n",
      "HouseStyle_SFoyer       608.2192   1.47e+04      0.041      0.967   -2.83e+04    2.95e+04\n",
      "HouseStyle_SLvl       -1.017e+04   1.82e+04     -0.559      0.576   -4.59e+04    2.56e+04\n",
      "RoofStyle_Gable       -3.094e+04   2.64e+04     -1.173      0.241   -8.27e+04    2.08e+04\n",
      "RoofStyle_Gambrel     -1.349e+04   2.95e+04     -0.458      0.647   -7.14e+04    4.44e+04\n",
      "RoofStyle_Hip         -2.519e+04   2.64e+04     -0.956      0.340   -7.69e+04    2.66e+04\n",
      "RoofStyle_Mansard     -2.042e+04    2.9e+04     -0.704      0.482   -7.74e+04    3.65e+04\n",
      "RoofStyle_Shed         1.054e+04   4.82e+04      0.219      0.827    -8.4e+04    1.05e+05\n",
      "RoofMatl_Membran       2.735e+04   3.55e+04      0.770      0.442   -4.24e+04    9.71e+04\n",
      "RoofMatl_Metal        -7761.6564   3.62e+04     -0.215      0.830   -7.87e+04    6.32e+04\n",
      "RoofMatl_Roll          8.602e-11   9.54e-11      0.902      0.367   -1.01e-10    2.73e-10\n",
      "RoofMatl_Tar&Grv      -2.635e+04   2.83e+04     -0.931      0.352   -8.19e+04    2.92e+04\n",
      "RoofMatl_WdShake       -2.23e+04   1.95e+04     -1.146      0.252   -6.05e+04    1.59e+04\n",
      "RoofMatl_WdShngl       2.483e+04    1.7e+04      1.458      0.145   -8611.790    5.83e+04\n",
      "Exterior1st_AsphShn    1989.4506   3.47e+04      0.057      0.954   -6.62e+04    7.02e+04\n",
      "Exterior1st_BrkComm   -2.472e+04   2.95e+04     -0.838      0.402   -8.26e+04    3.32e+04\n",
      "Exterior1st_BrkFace    7375.4209   1.54e+04      0.480      0.631   -2.28e+04    3.75e+04\n",
      "Exterior1st_CBlock     6.279e-11   6.69e-11      0.939      0.348   -6.85e-11    1.94e-10\n",
      "Exterior1st_CemntBd    -2.33e+04    2.3e+04     -1.015      0.311   -6.84e+04    2.18e+04\n",
      "Exterior1st_HdBoard    -1.15e+04   1.53e+04     -0.754      0.451   -4.15e+04    1.85e+04\n",
      "Exterior1st_ImStucc   -2.648e+04   2.99e+04     -0.887      0.376   -8.51e+04    3.22e+04\n",
      "Exterior1st_MetalSd   -7728.9996   1.72e+04     -0.449      0.654   -4.15e+04    2.61e+04\n",
      "Exterior1st_Plywood   -1.351e+04   1.52e+04     -0.888      0.375   -4.34e+04    1.63e+04\n",
      "Exterior1st_Stone     -1.246e+04   2.65e+04     -0.470      0.639   -6.45e+04    3.96e+04\n",
      "Exterior1st_Stucco     1.014e+04   1.72e+04      0.591      0.555   -2.36e+04    4.38e+04\n",
      "Exterior1st_VinylSd   -7819.3492   1.55e+04     -0.505      0.614   -3.82e+04    2.26e+04\n",
      "Exterior1st_Wd Sdng   -2.214e+04   1.46e+04     -1.517      0.130   -5.08e+04    6519.236\n",
      "Exterior1st_WdShing   -2641.4415   1.59e+04     -0.166      0.868   -3.38e+04    2.85e+04\n",
      "Exterior2nd_AsphShn     392.1963   2.38e+04      0.016      0.987   -4.64e+04    4.71e+04\n",
      "Exterior2nd_Brk Cmn    2898.3981   2.21e+04      0.131      0.896   -4.05e+04    4.63e+04\n",
      "Exterior2nd_BrkFace    1421.5302   1.56e+04      0.091      0.928   -2.93e+04    3.21e+04\n",
      "Exterior2nd_CBlock     8.558e-11      1e-10      0.854      0.394   -1.11e-10    2.82e-10\n",
      "Exterior2nd_CmentBd    2.906e+04    2.2e+04      1.322      0.187   -1.41e+04    7.22e+04\n",
      "Exterior2nd_HdBoard    4193.0118   1.42e+04      0.295      0.768   -2.37e+04    3.21e+04\n",
      "Exterior2nd_ImStucc    1.529e+04   1.66e+04      0.921      0.358   -1.73e+04    4.79e+04\n",
      "Exterior2nd_MetalSd    1.026e+04   1.65e+04      0.621      0.535   -2.22e+04    4.27e+04\n",
      "Exterior2nd_Other     -7.254e-11   3.91e-11     -1.856      0.064   -1.49e-10    4.17e-12\n",
      "Exterior2nd_Plywood    5928.0939   1.38e+04      0.429      0.668   -2.12e+04    3.31e+04\n",
      "Exterior2nd_Stone      -600.2403   2.04e+04     -0.029      0.977   -4.07e+04    3.95e+04\n",
      "Exterior2nd_Stucco     4168.6713   1.59e+04      0.262      0.794   -2.71e+04    3.54e+04\n",
      "Exterior2nd_VinylSd    4157.4067   1.46e+04      0.286      0.775   -2.44e+04    3.27e+04\n",
      "Exterior2nd_Wd Sdng    1.863e+04   1.36e+04      1.375      0.170   -7972.019    4.52e+04\n",
      "Exterior2nd_Wd Shng    -833.9536   1.43e+04     -0.058      0.954    -2.9e+04    2.73e+04\n",
      "MasVnrType_BrkFace     2.171e+04   9466.288      2.293      0.022    3123.235    4.03e+04\n",
      "MasVnrType_None         2.17e+04   9663.870      2.246      0.025    2728.920    4.07e+04\n",
      "MasVnrType_Stone       2.549e+04   9933.724      2.566      0.010    5988.872     4.5e+04\n",
      "Foundation_CBlock      4816.9888   4492.149      1.072      0.284   -4002.043    1.36e+04\n",
      "Foundation_PConc       6750.2492   4719.498      1.430      0.153   -2515.117     1.6e+04\n",
      "Foundation_Slab        2.863e+04   1.22e+04      2.355      0.019    4766.170    5.25e+04\n",
      "Foundation_Stone       9896.5400   1.63e+04      0.606      0.545   -2.22e+04     4.2e+04\n",
      "Foundation_Wood       -7440.4994   1.55e+04     -0.481      0.631   -3.78e+04    2.29e+04\n",
      "Heating_GasA          -1.256e+05   4.08e+04     -3.079      0.002   -2.06e+05   -4.55e+04\n",
      "Heating_GasW          -1.221e+05   4.23e+04     -2.888      0.004   -2.05e+05   -3.91e+04\n",
      "Heating_Grav          -1.292e+05   4.28e+04     -3.015      0.003   -2.13e+05    -4.5e+04\n",
      "Heating_OthW          -1.722e+05   4.31e+04     -3.996      0.000   -2.57e+05   -8.76e+04\n",
      "Heating_Wall          -1.235e+05   4.41e+04     -2.800      0.005    -2.1e+05   -3.69e+04\n",
      "Electrical_FuseF       2506.1936   8785.819      0.285      0.776   -1.47e+04    1.98e+04\n",
      "Electrical_FuseP       1.791e+04   3.91e+04      0.458      0.647   -5.89e+04    9.47e+04\n",
      "Electrical_Mix        -1.196e-11   4.56e-11     -0.263      0.793   -1.01e-10    7.75e-11\n",
      "Electrical_SBrkr       1860.4211   4270.475      0.436      0.663   -6523.419    1.02e+04\n",
      "FireplaceQu_Fa        -2.238e+04   9373.918     -2.388      0.017   -4.08e+04   -3981.414\n",
      "FireplaceQu_Gd        -1.334e+04   7498.848     -1.779      0.076   -2.81e+04    1384.743\n",
      "FireplaceQu_None      -6847.5624   8954.234     -0.765      0.445   -2.44e+04    1.07e+04\n",
      "FireplaceQu_Po        -6453.5990   1.04e+04     -0.621      0.535   -2.69e+04     1.4e+04\n",
      "FireplaceQu_TA        -1.548e+04   7782.370     -1.990      0.047   -3.08e+04    -206.514\n",
      "GarageType_Attchd      2.707e+04   1.51e+04      1.789      0.074   -2639.818    5.68e+04\n",
      "GarageType_Basment     2.882e+04   1.71e+04      1.685      0.092   -4754.902    6.24e+04\n",
      "GarageType_BuiltIn     3.791e+04   1.57e+04      2.415      0.016    7088.167    6.87e+04\n",
      "GarageType_CarPort     3.611e+04   1.86e+04      1.945      0.052    -340.042    7.26e+04\n",
      "GarageType_Detchd      2.848e+04   1.51e+04      1.887      0.060   -1155.231    5.81e+04\n",
      "GarageType_None        2.417e+04   1.13e+04      2.141      0.033    2006.781    4.63e+04\n",
      "GarageYrBlt_1896.0    -5.109e-11   3.42e-11     -1.493      0.136   -1.18e-10    1.61e-11\n",
      "GarageYrBlt_1900.0    -3.853e+04   3.55e+04     -1.086      0.278   -1.08e+05    3.11e+04\n",
      "GarageYrBlt_1906.0    -1.952e+04   2.35e+04     -0.831      0.406   -6.56e+04    2.66e+04\n",
      "GarageYrBlt_1908.0     3.205e+04   2.57e+04      1.249      0.212   -1.83e+04    8.24e+04\n",
      "GarageYrBlt_1910.0     1.256e+04   1.98e+04      0.635      0.525   -2.63e+04    5.14e+04\n",
      "GarageYrBlt_1914.0     6335.9192   2.78e+04      0.228      0.820   -4.83e+04    6.09e+04\n",
      "GarageYrBlt_1915.0    -6909.3238   2.97e+04     -0.233      0.816   -6.52e+04    5.13e+04\n",
      "GarageYrBlt_1916.0     1.839e+04   1.51e+04      1.215      0.225   -1.13e+04    4.81e+04\n",
      "GarageYrBlt_1917.0    -4.856e-11   3.59e-11     -1.352      0.177   -1.19e-10    2.19e-11\n",
      "GarageYrBlt_1918.0     -6.53e-11   3.79e-11     -1.724      0.085    -1.4e-10    9.06e-12\n",
      "GarageYrBlt_1919.0    -1.199e-11   3.36e-11     -0.357      0.721    -7.8e-11     5.4e-11\n",
      "GarageYrBlt_1920.0     6822.0039   1.07e+04      0.636      0.525   -1.42e+04    2.79e+04\n",
      "GarageYrBlt_1921.0     1.064e+04   1.73e+04      0.614      0.539   -2.34e+04    4.47e+04\n",
      "GarageYrBlt_1922.0    -4418.0469   1.79e+04     -0.247      0.805   -3.95e+04    3.07e+04\n",
      "GarageYrBlt_1923.0     3217.0043   1.71e+04      0.188      0.851   -3.03e+04    3.68e+04\n",
      "GarageYrBlt_1924.0    -5.095e+04    2.5e+04     -2.038      0.042      -1e+05   -1860.419\n",
      "GarageYrBlt_1925.0    -1.845e+04   9890.148     -1.866      0.062   -3.79e+04     962.701\n",
      "GarageYrBlt_1926.0     5133.0919   3.02e+04      0.170      0.865   -5.42e+04    6.44e+04\n",
      "GarageYrBlt_1927.0     1.506e+04   2.42e+04      0.622      0.534   -3.25e+04    6.26e+04\n",
      "GarageYrBlt_1928.0    -1.073e+04   1.81e+04     -0.591      0.555   -4.63e+04    2.49e+04\n",
      "GarageYrBlt_1929.0    -1.515e+04   2.91e+04     -0.521      0.603   -7.23e+04     4.2e+04\n",
      "GarageYrBlt_1930.0    -1.321e+04   1.36e+04     -0.969      0.333      -4e+04    1.36e+04\n",
      "GarageYrBlt_1931.0     1.207e+04   1.62e+04      0.747      0.456   -1.97e+04    4.38e+04\n",
      "GarageYrBlt_1932.0     1.309e+04    1.7e+04      0.772      0.441   -2.02e+04    4.64e+04\n",
      "GarageYrBlt_1933.0    -3969.5315   2.47e+04     -0.161      0.872   -5.24e+04    4.45e+04\n",
      "GarageYrBlt_1934.0     4.133e-11   2.74e-11      1.509      0.132   -1.24e-11    9.51e-11\n",
      "GarageYrBlt_1935.0     3316.8325   1.53e+04      0.216      0.829   -2.68e+04    3.34e+04\n",
      "GarageYrBlt_1936.0     6807.8034   1.14e+04      0.599      0.549   -1.55e+04    2.91e+04\n",
      "GarageYrBlt_1937.0    -5687.6966   1.82e+04     -0.313      0.755   -4.14e+04       3e+04\n",
      "GarageYrBlt_1938.0    -3.444e+04   2.58e+04     -1.332      0.183   -8.52e+04    1.63e+04\n",
      "GarageYrBlt_1939.0     1.216e+04   1.02e+04      1.195      0.232   -7815.085    3.21e+04\n",
      "GarageYrBlt_1940.0     7285.3723    1.1e+04      0.665      0.506   -1.42e+04    2.88e+04\n",
      "GarageYrBlt_1941.0     5063.9224   9426.620      0.537      0.591   -1.34e+04    2.36e+04\n",
      "GarageYrBlt_1942.0    -1763.8133    1.8e+04     -0.098      0.922   -3.71e+04    3.36e+04\n",
      "GarageYrBlt_1943.0    -4.781e-11   2.23e-11     -2.141      0.033   -9.16e-11   -3.98e-12\n",
      "GarageYrBlt_1945.0    -4490.9931   1.34e+04     -0.335      0.737   -3.08e+04    2.18e+04\n",
      "GarageYrBlt_1946.0    -1.619e+04   1.45e+04     -1.118      0.264   -4.46e+04    1.22e+04\n",
      "GarageYrBlt_1947.0    -8668.2741   1.67e+04     -0.520      0.603   -4.14e+04    2.41e+04\n",
      "GarageYrBlt_1948.0    -4692.9543   9306.098     -0.504      0.614    -2.3e+04    1.36e+04\n",
      "GarageYrBlt_1949.0    -2279.4718    1.1e+04     -0.206      0.837    -2.4e+04    1.94e+04\n",
      "GarageYrBlt_1950.0    -1.479e+04   7535.131     -1.962      0.050   -2.96e+04       7.186\n",
      "GarageYrBlt_1951.0    -3.141e+04   1.33e+04     -2.371      0.018   -5.74e+04   -5399.679\n",
      "GarageYrBlt_1952.0    -8696.7352   1.56e+04     -0.558      0.577   -3.93e+04    2.19e+04\n",
      "GarageYrBlt_1953.0    -1.253e+04   9246.149     -1.355      0.176   -3.07e+04    5622.577\n",
      "GarageYrBlt_1954.0    -8362.5392   7861.379     -1.064      0.288   -2.38e+04    7070.999\n",
      "GarageYrBlt_1955.0    -1.529e+04   7861.654     -1.945      0.052   -3.07e+04     139.816\n",
      "GarageYrBlt_1956.0    -4470.8937   7882.153     -0.567      0.571   -1.99e+04     1.1e+04\n",
      "GarageYrBlt_1957.0    -1.615e+04   7260.222     -2.225      0.026   -3.04e+04   -1898.300\n",
      "GarageYrBlt_1958.0    -7837.6861   7533.202     -1.040      0.298   -2.26e+04    6951.571\n",
      "GarageYrBlt_1959.0    -1.085e+04   7224.262     -1.502      0.134    -2.5e+04    3335.367\n",
      "GarageYrBlt_1960.0    -1.051e+04   7650.115     -1.374      0.170   -2.55e+04    4509.978\n",
      "GarageYrBlt_1961.0    -9091.8803   8607.278     -1.056      0.291    -2.6e+04    7806.014\n",
      "GarageYrBlt_1962.0    -1817.7403   6645.314     -0.274      0.785   -1.49e+04    1.12e+04\n",
      "GarageYrBlt_1963.0    -2.131e+04   7072.976     -3.012      0.003   -3.52e+04   -7420.354\n",
      "GarageYrBlt_1964.0    -7488.9944   7159.911     -1.046      0.296   -2.15e+04    6567.416\n",
      "GarageYrBlt_1965.0    -1.847e+04   7161.358     -2.579      0.010   -3.25e+04   -4411.121\n",
      "GarageYrBlt_1966.0    -1587.2890   7673.137     -0.207      0.836   -1.67e+04    1.35e+04\n",
      "GarageYrBlt_1967.0    -1.062e+04   9206.061     -1.154      0.249   -2.87e+04    7452.418\n",
      "GarageYrBlt_1968.0    -4808.8052   6479.740     -0.742      0.458   -1.75e+04    7912.285\n",
      "GarageYrBlt_1969.0    -1.575e+04   8587.386     -1.834      0.067   -3.26e+04    1106.756\n",
      "GarageYrBlt_1970.0    -2.127e+04   6902.543     -3.082      0.002   -3.48e+04   -7721.233\n",
      "GarageYrBlt_1971.0    -1.436e+04   7891.186     -1.820      0.069   -2.99e+04    1128.114\n",
      "GarageYrBlt_1972.0     -619.9281   8283.274     -0.075      0.940   -1.69e+04    1.56e+04\n",
      "GarageYrBlt_1973.0    -8386.9918   8900.366     -0.942      0.346   -2.59e+04    9086.297\n",
      "GarageYrBlt_1974.0     -277.5720   8165.362     -0.034      0.973   -1.63e+04    1.58e+04\n",
      "GarageYrBlt_1975.0    -7055.2173   9304.679     -0.758      0.449   -2.53e+04    1.12e+04\n",
      "GarageYrBlt_1976.0    -1.124e+04   6430.478     -1.747      0.081   -2.39e+04    1389.361\n",
      "GarageYrBlt_1977.0    -1.547e+04   6167.767     -2.508      0.012   -2.76e+04   -3359.222\n",
      "GarageYrBlt_1978.0    -2327.9513   7757.459     -0.300      0.764   -1.76e+04    1.29e+04\n",
      "GarageYrBlt_1979.0    -6241.3795   8796.647     -0.710      0.478   -2.35e+04     1.1e+04\n",
      "GarageYrBlt_1980.0    -1.119e+04   8757.216     -1.278      0.202   -2.84e+04    5999.262\n",
      "GarageYrBlt_1981.0    -2.734e+04   1.17e+04     -2.341      0.019   -5.03e+04   -4416.744\n",
      "GarageYrBlt_1982.0     -799.5033   1.66e+04     -0.048      0.962   -3.33e+04    3.17e+04\n",
      "GarageYrBlt_1983.0    -4463.8114   1.07e+04     -0.415      0.678   -2.56e+04    1.66e+04\n",
      "GarageYrBlt_1984.0    -2.132e+04   1.01e+04     -2.102      0.036   -4.12e+04   -1407.619\n",
      "GarageYrBlt_1985.0    -1.007e+04   1.12e+04     -0.897      0.370   -3.21e+04     1.2e+04\n",
      "GarageYrBlt_1986.0    -9527.1611   1.15e+04     -0.828      0.408   -3.21e+04    1.31e+04\n",
      "GarageYrBlt_1987.0     5061.9535   8313.379      0.609      0.543   -1.13e+04    2.14e+04\n",
      "GarageYrBlt_1988.0    -1.472e+04   9331.650     -1.577      0.115    -3.3e+04    3600.276\n",
      "GarageYrBlt_1989.0     5365.1282   9942.823      0.540      0.590   -1.42e+04    2.49e+04\n",
      "GarageYrBlt_1990.0    -3.009e+04   9432.341     -3.190      0.001   -4.86e+04   -1.16e+04\n",
      "GarageYrBlt_1991.0    -1.367e+04   9564.383     -1.429      0.153   -3.24e+04    5104.936\n",
      "GarageYrBlt_1992.0    -1.679e+04   1.02e+04     -1.640      0.101   -3.69e+04    3307.418\n",
      "GarageYrBlt_1993.0     -1.88e+04   7708.365     -2.438      0.015   -3.39e+04   -3662.985\n",
      "GarageYrBlt_1994.0    -1.089e+04   7798.422     -1.396      0.163   -2.62e+04    4423.445\n",
      "GarageYrBlt_1995.0    -5103.8899   7502.138     -0.680      0.497   -1.98e+04    9624.383\n",
      "GarageYrBlt_1996.0    -2306.4369   8875.954     -0.260      0.795   -1.97e+04    1.51e+04\n",
      "GarageYrBlt_1997.0    -3547.2203   7676.130     -0.462      0.644   -1.86e+04    1.15e+04\n",
      "GarageYrBlt_1998.0    -1.104e+04   6538.914     -1.688      0.092   -2.39e+04    1799.907\n",
      "GarageYrBlt_1999.0    -9688.1472   6622.820     -1.463      0.144   -2.27e+04    3313.839\n",
      "GarageYrBlt_2000.0    -1.089e+04   7511.125     -1.449      0.148   -2.56e+04    3858.732\n",
      "GarageYrBlt_2001.0    -8487.4598   7616.516     -1.114      0.265   -2.34e+04    6465.361\n",
      "GarageYrBlt_2002.0    -1.682e+04   6981.447     -2.409      0.016   -3.05e+04   -3113.576\n",
      "GarageYrBlt_2003.0    -1.603e+04   6470.081     -2.477      0.013   -2.87e+04   -3324.934\n",
      "GarageYrBlt_2004.0    -1.004e+04   6666.532     -1.506      0.132   -2.31e+04    3047.763\n",
      "GarageYrBlt_2005.0    -1.167e+04   6327.077     -1.844      0.066   -2.41e+04     755.092\n",
      "GarageYrBlt_2006.0    -7445.5694   6979.128     -1.067      0.286   -2.11e+04    6255.925\n",
      "GarageYrBlt_2007.0    -2.109e+04   7257.848     -2.905      0.004   -3.53e+04   -6837.427\n",
      "GarageYrBlt_2008.0     1.849e+04   8199.475      2.255      0.024    2391.859    3.46e+04\n",
      "GarageYrBlt_2009.0     1.074e+04   9352.480      1.148      0.251   -7623.718    2.91e+04\n",
      "GarageYrBlt_2010.0    -3319.1775   1.75e+04     -0.190      0.849   -3.76e+04     3.1e+04\n",
      "GarageYrBlt_2207.0             0          0        nan        nan           0           0\n",
      "GarageYrBlt_None       2.417e+04   1.13e+04      2.141      0.033    2006.781    4.63e+04\n",
      "SaleType_CWD           2.331e+04   1.49e+04      1.565      0.118   -5923.277    5.25e+04\n",
      "SaleType_Con          -9888.9209   2.44e+04     -0.406      0.685   -5.78e+04     3.8e+04\n",
      "SaleType_ConLD         1.625e+04   1.28e+04      1.265      0.206   -8965.698    4.15e+04\n",
      "SaleType_ConLI         1.534e+04   1.85e+04      0.830      0.407    -2.1e+04    5.16e+04\n",
      "SaleType_ConLw        -1.541e+04    1.4e+04     -1.099      0.272   -4.29e+04    1.21e+04\n",
      "SaleType_New           6.283e+04   2.02e+04      3.114      0.002    2.32e+04    1.02e+05\n",
      "SaleType_Oth                   0          0        nan        nan           0           0\n",
      "SaleType_WD           -1054.3056   5209.657     -0.202      0.840   -1.13e+04    9173.345\n",
      "SaleCondition_AdjLand  1.616e+04   2.66e+04      0.607      0.544   -3.61e+04    6.84e+04\n",
      "SaleCondition_Alloca   -426.5875   1.02e+04     -0.042      0.967   -2.04e+04    1.95e+04\n",
      "SaleCondition_Family  -6581.8747   8108.899     -0.812      0.417   -2.25e+04    9337.597\n",
      "SaleCondition_Normal   5178.6500   3619.744      1.431      0.153   -1927.669    1.23e+04\n",
      "SaleCondition_Partial -4.758e+04   1.95e+04     -2.440      0.015   -8.59e+04   -9295.527\n",
      "==============================================================================\n",
      "Omnibus:                      238.341   Durbin-Watson:                   2.005\n",
      "Prob(Omnibus):                  0.000   Jarque-Bera (JB):             3042.566\n",
      "Skew:                           0.699   Prob(JB):                         0.00\n",
      "Kurtosis:                      11.387   Cond. No.                     2.21e+20\n",
      "==============================================================================\n",
      "\n",
      "Warnings:\n",
      "[1] Standard Errors assume that the covariance matrix of the errors is correctly specified.\n",
      "[2] The smallest eigenvalue is 3.63e-30. This might indicate that there are\n",
      "strong multicollinearity problems or that the design matrix is singular.\n"
     ]
    },
    {
     "name": "stderr",
     "output_type": "stream",
     "text": [
      "/opt/anaconda3/lib/python3.7/site-packages/statsmodels/base/model.py:1362: RuntimeWarning: invalid value encountered in true_divide\n",
      "  return self.params / self.bse\n",
      "/opt/anaconda3/lib/python3.7/site-packages/scipy/stats/_distn_infrastructure.py:903: RuntimeWarning: invalid value encountered in greater\n",
      "  return (a < x) & (x < b)\n",
      "/opt/anaconda3/lib/python3.7/site-packages/scipy/stats/_distn_infrastructure.py:903: RuntimeWarning: invalid value encountered in less\n",
      "  return (a < x) & (x < b)\n",
      "/opt/anaconda3/lib/python3.7/site-packages/scipy/stats/_distn_infrastructure.py:1912: RuntimeWarning: invalid value encountered in less_equal\n",
      "  cond2 = cond0 & (x <= _a)\n"
     ]
    }
   ],
   "source": [
    "import statsmodels.api as sm \n",
    "X_add_const = sm.add_constant(X_train) \n",
    "linear_results = sm.OLS(y_train, X_add_const)\n",
    "results = linear_results.fit()\n",
    "print(results.summary())"
   ]
  },
  {
   "cell_type": "markdown",
   "metadata": {},
   "source": [
    "### MLR with Log of y"
   ]
  },
  {
   "cell_type": "code",
   "execution_count": 64,
   "metadata": {},
   "outputs": [
    {
     "data": {
      "text/plain": [
       "1.4494413655172598"
      ]
     },
     "execution_count": 64,
     "metadata": {},
     "output_type": "execute_result"
    },
    {
     "data": {
      "image/png": "[encoded data removed]",
      "text/plain": [
       "<Figure size 432x288 with 1 Axes>"
      ]
     },
     "metadata": {
      "needs_background": "light"
     },
     "output_type": "display_data"
    }
   ],
   "source": [
    "sns.distplot(y, norm_hist=False, kde=False)\n",
    "skew(y)\n",
    "# A skewness value greater than zero means that there is more weight in the right tail \n",
    "# of the distribution"
   ]
  },
  {
   "cell_type": "code",
   "execution_count": 65,
   "metadata": {},
   "outputs": [
    {
     "data": {
      "text/plain": [
       "<matplotlib.axes._subplots.AxesSubplot at 0x1a234f4550>"
      ]
     },
     "execution_count": 65,
     "metadata": {},
     "output_type": "execute_result"
    },
    {
     "data": {
      "image/png": "[encoded data removed]",
      "text/plain": [
       "<Figure size 432x288 with 1 Axes>"
      ]
     },
     "metadata": {
      "needs_background": "light"
     },
     "output_type": "display_data"
    }
   ],
   "source": [
    "y_log = np.log(y) # Apply log to SalePrice\n",
    "sns.distplot(y_log, fit=norm)\n"
   ]
  },
  {
   "cell_type": "code",
   "execution_count": 66,
   "metadata": {},
   "outputs": [
    {
     "data": {
      "text/plain": [
       "((1010, 296), (434, 296), (1010,), (434,))"
      ]
     },
     "execution_count": 66,
     "metadata": {},
     "output_type": "execute_result"
    }
   ],
   "source": [
    "X_train2,X_test2,y_train2,y_test2 = train_test_split(newtrain, y_log, test_size = .30, random_state= 42)\n",
    "X_train2.shape, X_test2.shape, y_train2.shape, y_test2.shape"
   ]
  },
  {
   "cell_type": "code",
   "execution_count": 67,
   "metadata": {},
   "outputs": [
    {
     "name": "stdout",
     "output_type": "stream",
     "text": [
      "R^2 for train is equal to 0.948\n",
      "RSS is equal to 7.760\n",
      "The intercept is 4.159\n"
     ]
    }
   ],
   "source": [
    "# Fit a new MLR model with log of SalePrice\n",
    "linear2 = LinearRegression()\n",
    "linear2.fit(X_train2, y_train2)\n",
    "print('R^2 for train is equal to %.3f' %(linear2.score(X_train2, y_train2)))\n",
    "print('RSS is equal to %.3f' %(np.sum((y_train2-linear2.predict(X_train2))**2)))\n",
    "print('The intercept is %.3f' %(linear2.intercept_))\n"
   ]
  },
  {
   "cell_type": "code",
   "execution_count": 68,
   "metadata": {},
   "outputs": [
    {
     "name": "stdout",
     "output_type": "stream",
     "text": [
      "R^2 for test is equal to 0.866\n"
     ]
    }
   ],
   "source": [
    "print('R^2 for test is equal to %.3f' %(linear2.score(X_test2, y_test2)))"
   ]
  },
  {
   "cell_type": "code",
   "execution_count": 73,
   "metadata": {},
   "outputs": [
    {
     "name": "stdout",
     "output_type": "stream",
     "text": [
      "Root mean squared error is 0.09\n"
     ]
    }
   ],
   "source": [
    "print(\"Root mean squared error is %.2f\" %(mean_squared_error(y_train2, linear2.predict(X_train2), squared=False)))"
   ]
  },
  {
   "cell_type": "code",
   "execution_count": 69,
   "metadata": {},
   "outputs": [],
   "source": [
    "new_predictions = linear2.predict(newtest)\n",
    "new_predictions = np.e**new_predictions # to reverse the log on SalePrice\n",
    "# newtest.loc[:, 'SalePrice'] = predictions\n",
    "new_predictions = pd.Series(new_predictions)"
   ]
  },
  {
   "cell_type": "code",
   "execution_count": 70,
   "metadata": {},
   "outputs": [],
   "source": [
    "id_no = pd.Series(range(1461,2920))\n",
    "MLR_logy = pd.concat([id_no,predictions],axis=1)\n",
    "MLR_logy.columns = ['Id','SalePrice']"
   ]
  },
  {
   "cell_type": "code",
   "execution_count": 71,
   "metadata": {},
   "outputs": [
    {
     "name": "stdout",
     "output_type": "stream",
     "text": [
      "(1459, 2)\n"
     ]
    },
    {
     "data": {
      "text/html": [
       "<div>\n",
       "<style scoped>\n",
       "    .dataframe tbody tr th:only-of-type {\n",
       "        vertical-align: middle;\n",
       "    }\n",
       "\n",
       "    .dataframe tbody tr th {\n",
       "        vertical-align: top;\n",
       "    }\n",
       "\n",
       "    .dataframe thead th {\n",
       "        text-align: right;\n",
       "    }\n",
       "</style>\n",
       "<table border=\"1\" class=\"dataframe\">\n",
       "  <thead>\n",
       "    <tr style=\"text-align: right;\">\n",
       "      <th></th>\n",
       "      <th>Id</th>\n",
       "      <th>SalePrice</th>\n",
       "    </tr>\n",
       "  </thead>\n",
       "  <tbody>\n",
       "    <tr>\n",
       "      <th>0</th>\n",
       "      <td>1461</td>\n",
       "      <td>117783.836721</td>\n",
       "    </tr>\n",
       "    <tr>\n",
       "      <th>1</th>\n",
       "      <td>1462</td>\n",
       "      <td>179720.301302</td>\n",
       "    </tr>\n",
       "    <tr>\n",
       "      <th>2</th>\n",
       "      <td>1463</td>\n",
       "      <td>189379.579750</td>\n",
       "    </tr>\n",
       "    <tr>\n",
       "      <th>3</th>\n",
       "      <td>1464</td>\n",
       "      <td>193609.159302</td>\n",
       "    </tr>\n",
       "    <tr>\n",
       "      <th>4</th>\n",
       "      <td>1465</td>\n",
       "      <td>199298.010315</td>\n",
       "    </tr>\n",
       "  </tbody>\n",
       "</table>\n",
       "</div>"
      ],
      "text/plain": [
       "     Id      SalePrice\n",
       "0  1461  117783.836721\n",
       "1  1462  179720.301302\n",
       "2  1463  189379.579750\n",
       "3  1464  193609.159302\n",
       "4  1465  199298.010315"
      ]
     },
     "execution_count": 71,
     "metadata": {},
     "output_type": "execute_result"
    }
   ],
   "source": [
    "print(MLR_logy.shape)\n",
    "MLR_logy.head()"
   ]
  },
  {
   "cell_type": "code",
   "execution_count": 200,
   "metadata": {},
   "outputs": [],
   "source": [
    "MLR_logy = MLR_logy.dropna()\n",
    "MLR_logy.to_csv('LinearPred2.csv', index=False)"
   ]
  },
  {
   "cell_type": "code",
   "execution_count": null,
   "metadata": {},
   "outputs": [],
   "source": []
  }
 ],
 "metadata": {
  "kernelspec": {
   "display_name": "Python 3",
   "language": "python",
   "name": "python3"
  },
  "language_info": {
   "codemirror_mode": {
    "name": "ipython",
    "version": 3
   },
   "file_extension": ".py",
   "mimetype": "text/x-python",
   "name": "python",
   "nbconvert_exporter": "python",
   "pygments_lexer": "ipython3",
   "version": "3.7.6"
  }
 },
 "nbformat": 4,
 "nbformat_minor": 4
}
